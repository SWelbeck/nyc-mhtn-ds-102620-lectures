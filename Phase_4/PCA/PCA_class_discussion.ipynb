{
 "cells": [
  {
   "cell_type": "code",
   "execution_count": 1,
   "metadata": {
    "ExecuteTime": {
     "end_time": "2021-01-11T18:13:30.628127Z",
     "start_time": "2021-01-11T18:13:27.946182Z"
    }
   },
   "outputs": [],
   "source": [
    "import pandas as pd\n",
    "import matplotlib.pyplot as plt\n",
    "import seaborn as sns\n",
    "import numpy as np\n",
    "\n",
    "\n",
    "pd.set_option('display.max_columns', 25, 'display.max_rows', 25)"
   ]
  },
  {
   "cell_type": "code",
   "execution_count": 3,
   "metadata": {
    "ExecuteTime": {
     "end_time": "2021-01-11T18:26:40.799417Z",
     "start_time": "2021-01-11T18:26:40.714206Z"
    }
   },
   "outputs": [
    {
     "name": "stdout",
     "output_type": "stream",
     "text": [
      "(316, 14)\n"
     ]
    },
    {
     "data": {
      "text/html": [
       "<div>\n",
       "<style scoped>\n",
       "    .dataframe tbody tr th:only-of-type {\n",
       "        vertical-align: middle;\n",
       "    }\n",
       "\n",
       "    .dataframe tbody tr th {\n",
       "        vertical-align: top;\n",
       "    }\n",
       "\n",
       "    .dataframe thead th {\n",
       "        text-align: right;\n",
       "    }\n",
       "</style>\n",
       "<table border=\"1\" class=\"dataframe\">\n",
       "  <thead>\n",
       "    <tr style=\"text-align: right;\">\n",
       "      <th></th>\n",
       "      <th>state</th>\n",
       "      <th>year</th>\n",
       "      <th>deaths</th>\n",
       "      <th>cruderate</th>\n",
       "      <th>ageadjustedrate</th>\n",
       "      <th>sttax</th>\n",
       "      <th>hispanic</th>\n",
       "      <th>nhblack</th>\n",
       "      <th>nhwhite</th>\n",
       "      <th>nhother</th>\n",
       "      <th>lhs</th>\n",
       "      <th>hs</th>\n",
       "      <th>somecol</th>\n",
       "      <th>colplus</th>\n",
       "    </tr>\n",
       "  </thead>\n",
       "  <tbody>\n",
       "    <tr>\n",
       "      <th>0</th>\n",
       "      <td>Alabama</td>\n",
       "      <td>2005</td>\n",
       "      <td>12</td>\n",
       "      <td>1.3</td>\n",
       "      <td>1.2</td>\n",
       "      <td>42.5</td>\n",
       "      <td>0.048214</td>\n",
       "      <td>0.298214</td>\n",
       "      <td>0.621428</td>\n",
       "      <td>0.032143</td>\n",
       "      <td>0.192857</td>\n",
       "      <td>0.357143</td>\n",
       "      <td>0.233929</td>\n",
       "      <td>0.216071</td>\n",
       "    </tr>\n",
       "    <tr>\n",
       "      <th>1</th>\n",
       "      <td>Alabama</td>\n",
       "      <td>2016</td>\n",
       "      <td>30</td>\n",
       "      <td>3.1</td>\n",
       "      <td>3.2</td>\n",
       "      <td>67.5</td>\n",
       "      <td>0.050193</td>\n",
       "      <td>0.266409</td>\n",
       "      <td>0.646718</td>\n",
       "      <td>0.036680</td>\n",
       "      <td>0.106178</td>\n",
       "      <td>0.318533</td>\n",
       "      <td>0.277992</td>\n",
       "      <td>0.297297</td>\n",
       "    </tr>\n",
       "    <tr>\n",
       "      <th>2</th>\n",
       "      <td>Arizona</td>\n",
       "      <td>2008</td>\n",
       "      <td>11</td>\n",
       "      <td>0.9</td>\n",
       "      <td>0.8</td>\n",
       "      <td>200.0</td>\n",
       "      <td>0.399777</td>\n",
       "      <td>0.021158</td>\n",
       "      <td>0.459911</td>\n",
       "      <td>0.119154</td>\n",
       "      <td>0.168152</td>\n",
       "      <td>0.345212</td>\n",
       "      <td>0.249443</td>\n",
       "      <td>0.237194</td>\n",
       "    </tr>\n",
       "    <tr>\n",
       "      <th>3</th>\n",
       "      <td>Arizona</td>\n",
       "      <td>2010</td>\n",
       "      <td>14</td>\n",
       "      <td>1.1</td>\n",
       "      <td>1.2</td>\n",
       "      <td>200.0</td>\n",
       "      <td>0.377382</td>\n",
       "      <td>0.038119</td>\n",
       "      <td>0.470140</td>\n",
       "      <td>0.114358</td>\n",
       "      <td>0.160102</td>\n",
       "      <td>0.321474</td>\n",
       "      <td>0.298602</td>\n",
       "      <td>0.219822</td>\n",
       "    </tr>\n",
       "    <tr>\n",
       "      <th>4</th>\n",
       "      <td>Arizona</td>\n",
       "      <td>2011</td>\n",
       "      <td>12</td>\n",
       "      <td>0.9</td>\n",
       "      <td>0.9</td>\n",
       "      <td>200.0</td>\n",
       "      <td>0.347826</td>\n",
       "      <td>0.020531</td>\n",
       "      <td>0.442029</td>\n",
       "      <td>0.189613</td>\n",
       "      <td>0.164251</td>\n",
       "      <td>0.336956</td>\n",
       "      <td>0.274155</td>\n",
       "      <td>0.224638</td>\n",
       "    </tr>\n",
       "  </tbody>\n",
       "</table>\n",
       "</div>"
      ],
      "text/plain": [
       "     state  year  deaths  cruderate  ageadjustedrate  sttax  hispanic  \\\n",
       "0  Alabama  2005      12        1.3              1.2   42.5  0.048214   \n",
       "1  Alabama  2016      30        3.1              3.2   67.5  0.050193   \n",
       "2  Arizona  2008      11        0.9              0.8  200.0  0.399777   \n",
       "3  Arizona  2010      14        1.1              1.2  200.0  0.377382   \n",
       "4  Arizona  2011      12        0.9              0.9  200.0  0.347826   \n",
       "\n",
       "    nhblack   nhwhite   nhother       lhs        hs   somecol   colplus  \n",
       "0  0.298214  0.621428  0.032143  0.192857  0.357143  0.233929  0.216071  \n",
       "1  0.266409  0.646718  0.036680  0.106178  0.318533  0.277992  0.297297  \n",
       "2  0.021158  0.459911  0.119154  0.168152  0.345212  0.249443  0.237194  \n",
       "3  0.038119  0.470140  0.114358  0.160102  0.321474  0.298602  0.219822  \n",
       "4  0.020531  0.442029  0.189613  0.164251  0.336956  0.274155  0.224638  "
      ]
     },
     "execution_count": 3,
     "metadata": {},
     "output_type": "execute_result"
    }
   ],
   "source": [
    "df = pd.read_csv('maternal_mortality copy.csv')\n",
    "print(df.shape)\n",
    "df.head()"
   ]
  },
  {
   "cell_type": "code",
   "execution_count": 5,
   "metadata": {
    "ExecuteTime": {
     "end_time": "2021-01-11T18:32:15.042665Z",
     "start_time": "2021-01-11T18:32:14.870864Z"
    }
   },
   "outputs": [],
   "source": [
    "df.dropna(axis = 0, inplace = True)"
   ]
  },
  {
   "cell_type": "code",
   "execution_count": 7,
   "metadata": {
    "ExecuteTime": {
     "end_time": "2021-01-11T18:32:34.003119Z",
     "start_time": "2021-01-11T18:32:33.974485Z"
    }
   },
   "outputs": [
    {
     "data": {
      "text/plain": [
       "Index(['state', 'year', 'deaths', 'cruderate', 'ageadjustedrate', 'sttax',\n",
       "       'hispanic', 'nhblack', 'nhwhite', 'nhother', 'lhs', 'hs', 'somecol',\n",
       "       'colplus'],\n",
       "      dtype='object')"
      ]
     },
     "execution_count": 7,
     "metadata": {},
     "output_type": "execute_result"
    }
   ],
   "source": [
    "df.columns"
   ]
  },
  {
   "cell_type": "code",
   "execution_count": 33,
   "metadata": {
    "ExecuteTime": {
     "end_time": "2021-01-11T18:54:48.789863Z",
     "start_time": "2021-01-11T18:54:48.766355Z"
    }
   },
   "outputs": [],
   "source": [
    "features = ['year', 'deaths', 'cruderate', 'ageadjustedrate', 'sttax',\n",
    "       'hispanic', 'nhblack', 'nhwhite', 'nhother', 'lhs', 'hs', 'somecol',\n",
    "       'colplus']"
   ]
  },
  {
   "cell_type": "code",
   "execution_count": 34,
   "metadata": {
    "ExecuteTime": {
     "end_time": "2021-01-11T18:54:49.373653Z",
     "start_time": "2021-01-11T18:54:49.286178Z"
    }
   },
   "outputs": [],
   "source": [
    "# preprocess the data \n",
    "from sklearn.preprocessing import StandardScaler\n",
    "# Separating out the features\n",
    "# x = df.drop(columns=['state'], axis=1).values\n",
    "x = df.loc[:,features].values\n"
   ]
  },
  {
   "cell_type": "code",
   "execution_count": 35,
   "metadata": {
    "ExecuteTime": {
     "end_time": "2021-01-11T18:54:50.093385Z",
     "start_time": "2021-01-11T18:54:50.067851Z"
    }
   },
   "outputs": [],
   "source": [
    "# Standardizing the features\n",
    "x = StandardScaler().fit_transform(x)"
   ]
  },
  {
   "cell_type": "code",
   "execution_count": 36,
   "metadata": {
    "ExecuteTime": {
     "end_time": "2021-01-11T18:54:50.688843Z",
     "start_time": "2021-01-11T18:54:50.619870Z"
    }
   },
   "outputs": [],
   "source": [
    "# create principal components \n",
    "from sklearn.decomposition import PCA\n",
    "pca = PCA()\n",
    "principalComponents = pca.fit_transform(x)\n",
    "principalDf = pd.DataFrame(data = principalComponents, columns = ['principal component 1', 'principal component 2',\n",
    "                                                                 'principal component 3','principal component 4',\n",
    "                                                                 'principal component 5','principal component 6','pricipal component 7',\n",
    "                                                                 'principal component 8','principal component 9','pricipal component 10',\n",
    "                                                                 'principal component 11','principal component 12','pricipal component 13',])"
   ]
  },
  {
   "cell_type": "code",
   "execution_count": 46,
   "metadata": {
    "ExecuteTime": {
     "end_time": "2021-01-11T19:09:11.374444Z",
     "start_time": "2021-01-11T19:09:11.329989Z"
    }
   },
   "outputs": [
    {
     "data": {
      "text/plain": [
       "[0.24908,\n",
       " 0.22452,\n",
       " 0.16188,\n",
       " 0.10435,\n",
       " 0.07852,\n",
       " 0.06188,\n",
       " 0.04149,\n",
       " 0.03681,\n",
       " 0.02487,\n",
       " 0.01633,\n",
       " 0.00027,\n",
       " 0.0,\n",
       " 0.0]"
      ]
     },
     "execution_count": 46,
     "metadata": {},
     "output_type": "execute_result"
    }
   ],
   "source": [
    "f = (pca.explained_variance_ratio_)\n",
    "[round(x, 5) for x in f]"
   ]
  },
  {
   "cell_type": "code",
   "execution_count": 38,
   "metadata": {
    "ExecuteTime": {
     "end_time": "2021-01-11T18:54:53.966636Z",
     "start_time": "2021-01-11T18:54:53.953691Z"
    }
   },
   "outputs": [
    {
     "data": {
      "text/plain": [
       "array([3.24840013e+00, 2.92801277e+00, 2.11113302e+00, 1.36085468e+00,\n",
       "       1.02398073e+00, 8.07036186e-01, 5.41040884e-01, 4.80108020e-01,\n",
       "       3.24382857e-01, 2.12986043e-01, 3.46595192e-03, 3.28567211e-13,\n",
       "       7.71813957e-14])"
      ]
     },
     "execution_count": 38,
     "metadata": {},
     "output_type": "execute_result"
    }
   ],
   "source": [
    "#eigenvalues\n",
    "pca.explained_variance_"
   ]
  },
  {
   "cell_type": "code",
   "execution_count": 39,
   "metadata": {
    "ExecuteTime": {
     "end_time": "2021-01-11T18:54:54.716201Z",
     "start_time": "2021-01-11T18:54:54.698934Z"
    },
    "collapsed": true
   },
   "outputs": [
    {
     "name": "stdout",
     "output_type": "stream",
     "text": [
      "[3.24840013e+00 2.92801277e+00 2.11113302e+00 1.36085468e+00\n",
      " 1.02398073e+00 8.07036186e-01 5.41040884e-01 4.80108020e-01\n",
      " 3.24382857e-01 2.12986043e-01 3.46595192e-03 3.28567211e-13\n",
      " 7.71813957e-14]\n",
      "[[-9.08243693e-02 -1.69338389e-02  3.29806631e-01  3.26041390e-01\n",
      "  -3.49324074e-01 -8.30233620e-02  2.44970897e-01 -2.63027613e-02\n",
      "  -1.61563137e-01  3.43622898e-01  4.04878366e-01  2.14312787e-01\n",
      "  -4.82421195e-01]\n",
      " [-7.79563921e-02  4.30336792e-01  1.46140228e-02  1.43191475e-02\n",
      "   5.34237055e-02  5.35421138e-01 -1.19428402e-01 -5.02522194e-01\n",
      "   3.17945709e-01  3.07861619e-01  5.49210129e-02 -2.15495697e-01\n",
      "  -8.16693927e-02]\n",
      " [ 4.83097858e-01  1.07822676e-01  5.09215152e-01  5.12587792e-01\n",
      "   2.19950374e-01 -1.11785135e-04  6.50421918e-02 -1.08989387e-01\n",
      "   1.61693346e-01 -2.65927567e-01 -1.66512393e-01  1.38021802e-01\n",
      "   1.57538750e-01]\n",
      " [ 1.34739365e-01 -1.76667719e-01 -4.04381144e-02 -3.13176814e-02\n",
      "   2.42708337e-01  6.82371309e-02 -6.39001896e-01  2.25580381e-01\n",
      "   3.43558810e-01 -2.98041674e-02  3.31419739e-01  3.17464454e-01\n",
      "  -3.09355040e-01]\n",
      " [-4.21301923e-01 -1.69758298e-01  2.62976735e-01  2.57021929e-01\n",
      "   7.82571733e-02 -2.22053508e-01 -1.04504317e-01  1.38920161e-01\n",
      "   2.88485153e-01 -7.27279748e-02  2.69591982e-01 -6.20869328e-01\n",
      "   1.61698067e-01]\n",
      " [-7.18193207e-02 -5.54411844e-01 -9.04081822e-02 -1.00706016e-01\n",
      "  -5.58837211e-02 -8.00663171e-02  3.55875488e-01 -3.98879456e-01\n",
      "   5.65197830e-01 -2.63534890e-02 -9.09781440e-02  2.10936728e-01\n",
      "  -3.08859774e-02]\n",
      " [-1.13176084e-01  3.39396865e-02 -4.16720819e-02 -4.77000670e-02\n",
      "   8.63479925e-01 -1.33695665e-01  3.32152357e-01 -4.14925246e-02\n",
      "  -1.61089181e-01  1.93698498e-01  1.15628301e-01  3.00796722e-02\n",
      "  -1.69602358e-01]\n",
      " [-6.93326027e-01  9.36017088e-02  1.75633932e-01  1.88735026e-01\n",
      "   5.91178382e-02  6.18155262e-02 -1.75874045e-01  6.41772061e-02\n",
      "   4.39139487e-04 -3.91636659e-04 -4.48335997e-01  4.45226214e-01\n",
      "   4.97110241e-02]\n",
      " [-2.16175306e-01  4.23249581e-01 -1.01783493e-01 -1.02626547e-01\n",
      "  -4.71281142e-02 -5.94264518e-02  1.98754396e-01 -1.18892219e-01\n",
      "   9.15429041e-02 -6.72002460e-01  4.36323407e-01  2.08221032e-01\n",
      "  -1.19660499e-02]\n",
      " [-1.05991934e-01 -4.96426911e-01  7.85290089e-02  9.55632127e-02\n",
      "   8.52721709e-02  5.59829657e-01 -7.30175683e-02 -2.32818112e-01\n",
      "  -4.68740364e-01 -2.97453127e-01  1.84487666e-01 -3.68698356e-02\n",
      "   5.67406201e-02]\n",
      " [-2.51270252e-03 -1.68465718e-03  7.09674416e-01 -7.04274248e-01\n",
      "   1.00864272e-03  9.99029941e-03 -1.07894966e-02  1.72767095e-03\n",
      "  -7.37636269e-03 -5.32002295e-03 -2.50669942e-03  6.35824649e-03\n",
      "   1.09987133e-03]\n",
      " [-2.95600609e-08  1.35250741e-07  3.80448756e-07 -4.66481911e-07\n",
      "   1.08020422e-08  1.24004805e-02  9.73494175e-03  1.46926918e-02\n",
      "   5.99628390e-03  3.63146872e-01  4.19108349e-01  3.37462475e-01\n",
      "   7.60323121e-01]\n",
      " [ 2.46157146e-08 -2.69175680e-09 -1.56025313e-07  1.53205909e-07\n",
      "   2.05911769e-09  5.54226142e-01  4.35087078e-01  6.56667303e-01\n",
      "   2.67993097e-01 -8.12524424e-03 -9.37736813e-03 -7.55057255e-03\n",
      "  -1.70119325e-02]]\n"
     ]
    }
   ],
   "source": [
    "eig_values = pca.explained_variance_\n",
    "eig_vectors = pca.components_\n",
    "print(eig_values)\n",
    "print(eig_vectors)"
   ]
  },
  {
   "cell_type": "code",
   "execution_count": 40,
   "metadata": {
    "ExecuteTime": {
     "end_time": "2021-01-11T18:54:58.339202Z",
     "start_time": "2021-01-11T18:54:58.331742Z"
    }
   },
   "outputs": [
    {
     "data": {
      "text/plain": [
       "array([-0.09082437, -0.01693384,  0.32980663,  0.32604139, -0.34932407,\n",
       "       -0.08302336,  0.2449709 , -0.02630276, -0.16156314,  0.3436229 ,\n",
       "        0.40487837,  0.21431279, -0.48242119])"
      ]
     },
     "execution_count": 40,
     "metadata": {},
     "output_type": "execute_result"
    }
   ],
   "source": [
    "# examine the first pricipal component\n",
    "eig_vectors[0]"
   ]
  },
  {
   "cell_type": "code",
   "execution_count": 41,
   "metadata": {
    "ExecuteTime": {
     "end_time": "2021-01-11T18:54:58.809134Z",
     "start_time": "2021-01-11T18:54:58.793171Z"
    }
   },
   "outputs": [
    {
     "name": "stdout",
     "output_type": "stream",
     "text": [
      "[-0.09082437 -0.01693384  0.32980663  0.32604139 -0.34932407 -0.08302336\n",
      "  0.2449709  -0.02630276 -0.16156314  0.3436229   0.40487837  0.21431279\n",
      " -0.48242119]\n",
      "[-0.07795639  0.43033679  0.01461402  0.01431915  0.05342371  0.53542114\n",
      " -0.1194284  -0.50252219  0.31794571  0.30786162  0.05492101 -0.2154957\n",
      " -0.08166939]\n"
     ]
    }
   ],
   "source": [
    "# examine the components\n",
    "pc1 = pca.components_[0]\n",
    "pc2 = pca.components_[1]\n",
    "# the .components attribute shows principal axes in feature space, representing the directions of maximum variance in the data. \n",
    "#The components are sorted by explained_variance_\n",
    "\n",
    "print(pc1)\n",
    "print(pc2)"
   ]
  },
  {
   "cell_type": "markdown",
   "metadata": {},
   "source": [
    "### First PC: Education"
   ]
  },
  {
   "cell_type": "code",
   "execution_count": 59,
   "metadata": {
    "ExecuteTime": {
     "end_time": "2021-01-11T20:52:23.611365Z",
     "start_time": "2021-01-11T20:52:23.604718Z"
    }
   },
   "outputs": [
    {
     "data": {
      "text/plain": [
       "3.2484001318065836"
      ]
     },
     "execution_count": 59,
     "metadata": {},
     "output_type": "execute_result"
    }
   ],
   "source": [
    "eig_values[0]"
   ]
  },
  {
   "cell_type": "code",
   "execution_count": 53,
   "metadata": {
    "ExecuteTime": {
     "end_time": "2021-01-11T20:23:36.822735Z",
     "start_time": "2021-01-11T20:23:36.776410Z"
    },
    "scrolled": false
   },
   "outputs": [
    {
     "data": {
      "text/plain": [
       "hs                 0.729725\n",
       "lhs                0.619322\n",
       "cruderate          0.594421\n",
       "ageadjustedrate    0.587635\n",
       "nhblack            0.441519\n",
       "somecol            0.386263\n",
       "deaths            -0.030520\n",
       "nhwhite           -0.047406\n",
       "hispanic          -0.149636\n",
       "year              -0.163696\n",
       "nhother           -0.291190\n",
       "sttax             -0.629598\n",
       "colplus           -0.869483\n",
       "dtype: float64"
      ]
     },
     "execution_count": 53,
     "metadata": {},
     "output_type": "execute_result"
    }
   ],
   "source": [
    "# get the loadings\n",
    "structure_loading_1 = pc1* np.sqrt(eig_values[0])\n",
    "str_loading_1 = pd.Series(structure_loading_1, index=features)\n",
    "str_loading_1.sort_values(ascending=False)"
   ]
  },
  {
   "cell_type": "markdown",
   "metadata": {},
   "source": [
    "### Second PC: Race... maybe?"
   ]
  },
  {
   "cell_type": "code",
   "execution_count": 52,
   "metadata": {
    "ExecuteTime": {
     "end_time": "2021-01-11T20:23:25.618917Z",
     "start_time": "2021-01-11T20:23:25.470542Z"
    },
    "scrolled": true
   },
   "outputs": [
    {
     "data": {
      "text/plain": [
       "hispanic           0.916183\n",
       "deaths             0.736368\n",
       "nhother            0.544051\n",
       "lhs                0.526795\n",
       "hs                 0.093978\n",
       "sttax              0.091416\n",
       "cruderate          0.025007\n",
       "ageadjustedrate    0.024502\n",
       "year              -0.133395\n",
       "colplus           -0.139748\n",
       "nhblack           -0.204359\n",
       "somecol           -0.368744\n",
       "nhwhite           -0.859888\n",
       "dtype: float64"
      ]
     },
     "execution_count": 52,
     "metadata": {},
     "output_type": "execute_result"
    }
   ],
   "source": [
    "# get the loadings\n",
    "structure_loading_2 = pc2* np.sqrt(eig_values[1])\n",
    "str_loading_2 = pd.Series(structure_loading_2, index=features)\n",
    "str_loading_2.sort_values(ascending=False)"
   ]
  },
  {
   "cell_type": "markdown",
   "metadata": {},
   "source": [
    "### Scree Plot"
   ]
  },
  {
   "cell_type": "code",
   "execution_count": 44,
   "metadata": {
    "ExecuteTime": {
     "end_time": "2021-01-11T18:56:33.941199Z",
     "start_time": "2021-01-11T18:56:32.854277Z"
    }
   },
   "outputs": [
    {
     "data": {
      "text/plain": [
       "Text(0, 0.5, 'proportion of explained variance')"
      ]
     },
     "execution_count": 44,
     "metadata": {},
     "output_type": "execute_result"
    },
    {
     "data": {
      "image/png": "[encoded data removed]",
      "text/plain": [
       "<Figure size 432x288 with 1 Axes>"
      ]
     },
     "metadata": {
      "needs_background": "light"
     },
     "output_type": "display_data"
    }
   ],
   "source": [
    "index = np.arange(13)\n",
    "plt.bar(index, pca.explained_variance_ratio_)\n",
    "plt.title('Scree plot for PCA')\n",
    "plt.xlabel('Num of components')\n",
    "plt.ylabel('proportion of explained variance')"
   ]
  },
  {
   "cell_type": "code",
   "execution_count": 49,
   "metadata": {
    "ExecuteTime": {
     "end_time": "2021-01-11T19:27:29.263520Z",
     "start_time": "2021-01-11T19:27:29.215606Z"
    }
   },
   "outputs": [
    {
     "data": {
      "text/plain": [
       "array([0.24908367, 0.4736004 , 0.63547971, 0.73982852, 0.81834621,\n",
       "       0.88022884, 0.92171525, 0.95852939, 0.9834027 , 0.99973423,\n",
       "       1.        , 1.        , 1.        ])"
      ]
     },
     "execution_count": 49,
     "metadata": {},
     "output_type": "execute_result"
    }
   ],
   "source": [
    "np.cumsum(pca.explained_variance_ratio_)"
   ]
  },
  {
   "cell_type": "code",
   "execution_count": 56,
   "metadata": {
    "ExecuteTime": {
     "end_time": "2021-01-11T20:37:55.122903Z",
     "start_time": "2021-01-11T20:37:55.105104Z"
    }
   },
   "outputs": [
    {
     "data": {
      "text/plain": [
       "0.9585293910943171"
      ]
     },
     "execution_count": 56,
     "metadata": {},
     "output_type": "execute_result"
    }
   ],
   "source": [
    "sum(pca.explained_variance_ratio_[:8])"
   ]
  },
  {
   "cell_type": "code",
   "execution_count": 54,
   "metadata": {
    "ExecuteTime": {
     "end_time": "2021-01-11T20:24:47.406568Z",
     "start_time": "2021-01-11T20:24:47.400190Z"
    }
   },
   "outputs": [],
   "source": [
    "#We are keeping 8 PCs\n",
    "#They explain about 96% of the variance in our dataset\n",
    "#Name for PCs 1. Education, 2. Race"
   ]
  }
 ],
 "metadata": {
  "kernelspec": {
   "display_name": "Python 3",
   "language": "python",
   "name": "python3"
  },
  "language_info": {
   "codemirror_mode": {
    "name": "ipython",
    "version": 3
   },
   "file_extension": ".py",
   "mimetype": "text/x-python",
   "name": "python",
   "nbconvert_exporter": "python",
   "pygments_lexer": "ipython3",
   "version": "3.6.10"
  }
 },
 "nbformat": 4,
 "nbformat_minor": 4
}
