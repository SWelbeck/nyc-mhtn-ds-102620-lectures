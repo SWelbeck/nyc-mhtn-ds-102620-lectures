{
 "cells": [
  {
   "cell_type": "markdown",
   "metadata": {},
   "source": [
    "# Pandas II - Data Cleaning\n",
    "\n",
    "_October 29, 2020_\n",
    "\n",
    "Agenda today:\n",
    "- Introduction to lambda function\n",
    "- Introduction to data cleaning in pandas\n",
    "- Combining DataFrames\n",
    "- Optional Exercises"
   ]
  },
  {
   "cell_type": "code",
<<<<<<< HEAD
   "execution_count": 18,
=======
   "execution_count": 1,
>>>>>>> upstream/master
   "metadata": {},
   "outputs": [],
   "source": [
    "import pandas as pd\n",
    "import matplotlib.pyplot as plt\n",
    "import numpy as np"
   ]
  },
  {
   "cell_type": "markdown",
   "metadata": {},
   "source": [
    "## Part I. Lambda function\n",
    "lambda functions are known as anonymous functions in Python. It allows you to write one-line functions that are used together with `map()`, `filter()`.\n",
    "\n",
    "Syntax of lambda function: `lambda arguments:expressions`. "
   ]
  },
  {
   "cell_type": "code",
<<<<<<< HEAD
   "execution_count": 19,
=======
   "execution_count": 4,
>>>>>>> upstream/master
   "metadata": {},
   "outputs": [
    {
     "data": {
      "text/plain": [
       "20"
      ]
     },
<<<<<<< HEAD
     "execution_count": 19,
=======
     "execution_count": 4,
>>>>>>> upstream/master
     "metadata": {},
     "output_type": "execute_result"
    }
   ],
   "source": [
    "# lambda function with one argument\n",
<<<<<<< HEAD
    "\n",
    "# add 10 to any number\n",
    "(lambda x: x+10) (10)\n"
=======
    "f = lambda x:x+10\n",
    "# add 10 to any number\n",
    "f(10)"
>>>>>>> upstream/master
   ]
  },
  {
   "cell_type": "code",
   "execution_count": 5,
   "metadata": {},
   "outputs": [
    {
     "data": {
      "text/plain": [
       "6"
      ]
     },
     "execution_count": 5,
     "metadata": {},
     "output_type": "execute_result"
    }
   ],
   "source": [
    "(lambda x,y,z: x+y+z)(1,2,3)"
   ]
  },
  {
   "cell_type": "code",
   "execution_count": 20,
   "metadata": {},
   "outputs": [
    {
     "data": {
      "text/plain": [
       "6"
      ]
     },
     "execution_count": 20,
     "metadata": {},
     "output_type": "execute_result"
    }
   ],
   "source": [
    "# lambda function with multiple arguments\n",
    "(lambda x,y,z: x+y+z)(1,2,3)"
   ]
  },
  {
   "cell_type": "code",
<<<<<<< HEAD
   "execution_count": 21,
=======
   "execution_count": 7,
>>>>>>> upstream/master
   "metadata": {},
   "outputs": [
    {
     "data": {
      "text/plain": [
       "<function __main__.<lambda>>"
      ]
     },
     "execution_count": 21,
     "metadata": {},
     "output_type": "execute_result"
    }
   ],
   "source": [
    "# chain it with conditionals\n",
<<<<<<< HEAD
    "lambda x:x+10 if x>10 else x"
=======
    "f = lambda x: x+10 if x>10 else x"
>>>>>>> upstream/master
   ]
  },
  {
   "cell_type": "code",
<<<<<<< HEAD
   "execution_count": 22,
=======
   "execution_count": 10,
>>>>>>> upstream/master
   "metadata": {},
   "outputs": [
    {
     "data": {
      "text/plain": [
<<<<<<< HEAD
       "[11, 12, 13]"
      ]
     },
     "execution_count": 22,
=======
       "21"
      ]
     },
     "execution_count": 10,
     "metadata": {},
     "output_type": "execute_result"
    }
   ],
   "source": [
    "f(11)"
   ]
  },
  {
   "cell_type": "code",
   "execution_count": 13,
   "metadata": {},
   "outputs": [
    {
     "data": {
      "text/plain": [
       "[11, 12, 13]"
      ]
     },
     "execution_count": 13,
>>>>>>> upstream/master
     "metadata": {},
     "output_type": "execute_result"
    }
   ],
   "source": [
    "#use it with map and filter\n",
    "\n",
    "#map(function, collection)\n",
<<<<<<< HEAD
    "list(map(lambda x:x+10,[1,2,3]))"
=======
    "list(map(lambda x: x+10, [1,2,3]))"
>>>>>>> upstream/master
   ]
  },
  {
   "cell_type": "code",
<<<<<<< HEAD
   "execution_count": 23,
=======
   "execution_count": 19,
   "metadata": {},
   "outputs": [
    {
     "data": {
      "text/plain": [
       "[1, 2, 3]"
      ]
     },
     "execution_count": 19,
     "metadata": {},
     "output_type": "execute_result"
    }
   ],
   "source": [
    "#filter(function, collection)\n",
    "list(filter(lambda x: x+20,[1,2,3]))"
   ]
  },
  {
   "cell_type": "code",
   "execution_count": 23,
   "metadata": {},
   "outputs": [
    {
     "data": {
      "text/plain": [
       "[3, 5, 8, 13, 21, 34, 55]"
      ]
     },
     "execution_count": 23,
     "metadata": {},
     "output_type": "execute_result"
    }
   ],
   "source": [
    "fib = [0,1,1,2,3,5,8,13,21,34,55]\n",
    "list(filter(lambda x: x > 2, fib))"
   ]
  },
  {
   "cell_type": "code",
   "execution_count": 25,
>>>>>>> upstream/master
   "metadata": {},
   "outputs": [
    {
     "data": {
      "text/plain": [
       "[6, 22]"
      ]
     },
     "execution_count": 23,
     "metadata": {},
     "output_type": "execute_result"
    }
   ],
   "source": [
<<<<<<< HEAD
    "#filter(function, collection)\n",
    "list(filter(lambda x: x > 5,[1,6,4,22]))"
=======
    "from functools import reduce"
   ]
  },
  {
   "cell_type": "code",
   "execution_count": 26,
   "metadata": {},
   "outputs": [
    {
     "data": {
      "text/plain": [
       "143"
      ]
     },
     "execution_count": 26,
     "metadata": {},
     "output_type": "execute_result"
    }
   ],
   "source": [
    "reduce(lambda x,y: x+y, fib)"
>>>>>>> upstream/master
   ]
  },
  {
   "cell_type": "code",
   "execution_count": 24,
   "metadata": {},
   "outputs": [],
   "source": [
    "# exercise: turn the below function into a lambda function\n",
    "def count_zeros(li):\n",
    "    \"\"\"\n",
    "    return a count of how many zeros are in a list\n",
    "    \"\"\"\n",
    "    count = sum(x == 0 for x in li)\n",
    "    return count"
   ]
  },
  {
   "cell_type": "code",
<<<<<<< HEAD
   "execution_count": 25,
=======
   "execution_count": 31,
>>>>>>> upstream/master
   "metadata": {},
   "outputs": [
    {
     "data": {
      "text/plain": [
<<<<<<< HEAD
       "3"
      ]
     },
     "execution_count": 25,
=======
       "[0]"
      ]
     },
     "execution_count": 31,
>>>>>>> upstream/master
     "metadata": {},
     "output_type": "execute_result"
    }
   ],
   "source": [
<<<<<<< HEAD
    "count_zeros([1,0,0,0,2,4,6])"
   ]
  },
  {
   "cell_type": "code",
   "execution_count": 26,
   "metadata": {},
   "outputs": [
    {
     "data": {
      "text/plain": [
       "3"
      ]
     },
     "execution_count": 26,
     "metadata": {},
     "output_type": "execute_result"
    }
   ],
   "source": [
    "sum(map(lambda x: 1 if x ==0 else 0, [1,0,0,0,2,4,4]))"
   ]
  },
  {
   "cell_type": "code",
   "execution_count": 27,
   "metadata": {},
   "outputs": [
    {
     "data": {
      "text/plain": [
       "3"
      ]
     },
     "execution_count": 27,
     "metadata": {},
     "output_type": "execute_result"
    }
   ],
   "source": [
    "len(list(filter(lambda x: x==0,[1,0,0,0,2,4,4])))"
   ]
  },
  {
   "cell_type": "code",
   "execution_count": 28,
   "metadata": {},
   "outputs": [
    {
     "data": {
      "text/plain": [
       "3"
      ]
     },
     "execution_count": 28,
     "metadata": {},
     "output_type": "execute_result"
    }
   ],
   "source": [
    "sum(map(lambda x: x==0,[1,0,0,0,2,4,4]))"
=======
    "list(filter(lambda x: x == 0, fib))"
>>>>>>> upstream/master
   ]
  },
  {
   "cell_type": "markdown",
   "metadata": {},
   "source": [
    "## Part II. Data Cleaning in Pandas\n",
    "You might wonder what the usage of lambda functions are - they are incredibly useful when applied to data cleaning in Pandas. You can apply it to columns or the entire dataframe to get results you need. For example, you might want to convert a column with $USD to Euros, or temperature expressed in Celsius to Fehrenheit. You will learn three new functions:\n",
    "\n",
    "- `Apply()` - on both series and dataframe\n",
    "\n",
    "- `Applymap()` - only on dataframes\n",
    "\n",
    "- `Map()` - only on series"
   ]
  },
  {
   "cell_type": "code",
<<<<<<< HEAD
   "execution_count": 47,
   "metadata": {
    "scrolled": true
   },
=======
   "execution_count": 32,
   "metadata": {},
>>>>>>> upstream/master
   "outputs": [
    {
     "data": {
      "text/html": [
       "<div>\n",
       "<style scoped>\n",
       "    .dataframe tbody tr th:only-of-type {\n",
       "        vertical-align: middle;\n",
       "    }\n",
       "\n",
       "    .dataframe tbody tr th {\n",
       "        vertical-align: top;\n",
       "    }\n",
       "\n",
       "    .dataframe thead th {\n",
       "        text-align: right;\n",
       "    }\n",
       "</style>\n",
       "<table border=\"1\" class=\"dataframe\">\n",
       "  <thead>\n",
       "    <tr style=\"text-align: right;\">\n",
       "      <th></th>\n",
       "      <th>mpg</th>\n",
       "      <th>cylinders</th>\n",
       "      <th>displacement</th>\n",
       "      <th>horsepower</th>\n",
       "      <th>weight</th>\n",
       "      <th>acceleration</th>\n",
       "      <th>model year</th>\n",
       "      <th>origin</th>\n",
       "      <th>car name</th>\n",
       "    </tr>\n",
       "  </thead>\n",
       "  <tbody>\n",
       "    <tr>\n",
       "      <th>0</th>\n",
       "      <td>18.0</td>\n",
       "      <td>8</td>\n",
       "      <td>307.0</td>\n",
       "      <td>130</td>\n",
       "      <td>3504</td>\n",
       "      <td>12.0</td>\n",
       "      <td>70</td>\n",
       "      <td>1</td>\n",
       "      <td>chevrolet chevelle malibu</td>\n",
       "    </tr>\n",
       "    <tr>\n",
       "      <th>1</th>\n",
       "      <td>15.0</td>\n",
       "      <td>8</td>\n",
       "      <td>350.0</td>\n",
       "      <td>165</td>\n",
       "      <td>3693</td>\n",
       "      <td>11.5</td>\n",
       "      <td>70</td>\n",
       "      <td>1</td>\n",
       "      <td>buick skylark 320</td>\n",
       "    </tr>\n",
       "    <tr>\n",
       "      <th>2</th>\n",
       "      <td>18.0</td>\n",
       "      <td>8</td>\n",
       "      <td>318.0</td>\n",
       "      <td>150</td>\n",
       "      <td>3436</td>\n",
       "      <td>11.0</td>\n",
       "      <td>70</td>\n",
       "      <td>1</td>\n",
       "      <td>plymouth satellite</td>\n",
       "    </tr>\n",
       "    <tr>\n",
       "      <th>3</th>\n",
       "      <td>16.0</td>\n",
       "      <td>8</td>\n",
       "      <td>304.0</td>\n",
       "      <td>150</td>\n",
       "      <td>3433</td>\n",
       "      <td>12.0</td>\n",
       "      <td>70</td>\n",
       "      <td>1</td>\n",
       "      <td>amc rebel sst</td>\n",
       "    </tr>\n",
       "    <tr>\n",
       "      <th>4</th>\n",
       "      <td>17.0</td>\n",
       "      <td>8</td>\n",
       "      <td>302.0</td>\n",
       "      <td>140</td>\n",
       "      <td>3449</td>\n",
       "      <td>10.5</td>\n",
       "      <td>70</td>\n",
       "      <td>1</td>\n",
       "      <td>ford torino</td>\n",
       "    </tr>\n",
       "  </tbody>\n",
       "</table>\n",
       "</div>"
      ],
      "text/plain": [
       "    mpg  cylinders  displacement horsepower  weight  acceleration  model year  \\\n",
       "0  18.0          8         307.0        130    3504          12.0          70   \n",
       "1  15.0          8         350.0        165    3693          11.5          70   \n",
       "2  18.0          8         318.0        150    3436          11.0          70   \n",
       "3  16.0          8         304.0        150    3433          12.0          70   \n",
       "4  17.0          8         302.0        140    3449          10.5          70   \n",
       "\n",
       "   origin                   car name  \n",
       "0       1  chevrolet chevelle malibu  \n",
       "1       1          buick skylark 320  \n",
       "2       1         plymouth satellite  \n",
       "3       1              amc rebel sst  \n",
       "4       1                ford torino  "
      ]
     },
<<<<<<< HEAD
     "execution_count": 47,
=======
     "execution_count": 32,
>>>>>>> upstream/master
     "metadata": {},
     "output_type": "execute_result"
    }
   ],
   "source": [
    "# import the dataframe \n",
    "df = pd.read_csv('auto-mpg.csv')\n",
    "df.head()"
   ]
  },
  {
   "cell_type": "code",
<<<<<<< HEAD
   "execution_count": 48,
   "metadata": {},
   "outputs": [],
   "source": [
    "\n",
    "df = df[df.horsepower !='?']\n",
    "df['horsepower'] = df.horsepower.astype('int')\n",
    "# df = df.replace('?',0)"
   ]
  },
  {
   "cell_type": "code",
   "execution_count": 49,
=======
   "execution_count": 36,
>>>>>>> upstream/master
   "metadata": {
    "scrolled": true
   },
   "outputs": [
    {
     "data": {
      "text/plain": [
       "0              chevrolet chevelle malibu\n",
       "4                            ford torino\n",
       "34             plymouth satellite custom\n",
       "35             chevrolet chevelle malibu\n",
       "36                       ford torino 500\n",
       "                     ...                \n",
       "363                        buick century\n",
       "364                oldsmobile cutlass ls\n",
       "365                      ford granada gl\n",
       "366               chrysler lebaron salon\n",
       "387    oldsmobile cutlass ciera (diesel)\n",
       "Name: car name, Length: 100, dtype: object"
      ]
     },
     "execution_count": 49,
     "metadata": {},
     "output_type": "execute_result"
    }
   ],
   "source": [
    "# examine the first few rows of it \n",
<<<<<<< HEAD
    "df[(df.horsepower < 150) & (df.weight>3000)]['car name']"
=======
    "df['years_old'] = 120 - df['model year']"
>>>>>>> upstream/master
   ]
  },
  {
   "cell_type": "code",
<<<<<<< HEAD
   "execution_count": 53,
=======
   "execution_count": 38,
>>>>>>> upstream/master
   "metadata": {
    "scrolled": false
   },
   "outputs": [
    {
     "data": {
<<<<<<< HEAD
      "text/plain": [
       "mpg             float64\n",
       "cylinders         int64\n",
       "displacement    float64\n",
       "horsepower        int64\n",
       "weight            int64\n",
       "acceleration    float64\n",
       "model year        int64\n",
       "origin            int64\n",
       "car name         object\n",
       "dtype: object"
      ]
     },
     "execution_count": 53,
=======
      "text/html": [
       "<div>\n",
       "<style scoped>\n",
       "    .dataframe tbody tr th:only-of-type {\n",
       "        vertical-align: middle;\n",
       "    }\n",
       "\n",
       "    .dataframe tbody tr th {\n",
       "        vertical-align: top;\n",
       "    }\n",
       "\n",
       "    .dataframe thead th {\n",
       "        text-align: right;\n",
       "    }\n",
       "</style>\n",
       "<table border=\"1\" class=\"dataframe\">\n",
       "  <thead>\n",
       "    <tr style=\"text-align: right;\">\n",
       "      <th></th>\n",
       "      <th>mpg</th>\n",
       "      <th>cylinders</th>\n",
       "      <th>displacement</th>\n",
       "      <th>weight</th>\n",
       "      <th>acceleration</th>\n",
       "      <th>model year</th>\n",
       "      <th>origin</th>\n",
       "      <th>years_old</th>\n",
       "    </tr>\n",
       "  </thead>\n",
       "  <tbody>\n",
       "    <tr>\n",
       "      <th>count</th>\n",
       "      <td>398.000000</td>\n",
       "      <td>398.000000</td>\n",
       "      <td>398.000000</td>\n",
       "      <td>398.000000</td>\n",
       "      <td>398.000000</td>\n",
       "      <td>398.000000</td>\n",
       "      <td>398.000000</td>\n",
       "      <td>398.000000</td>\n",
       "    </tr>\n",
       "    <tr>\n",
       "      <th>mean</th>\n",
       "      <td>23.514573</td>\n",
       "      <td>5.454774</td>\n",
       "      <td>193.425879</td>\n",
       "      <td>2970.424623</td>\n",
       "      <td>15.568090</td>\n",
       "      <td>76.010050</td>\n",
       "      <td>1.572864</td>\n",
       "      <td>43.989950</td>\n",
       "    </tr>\n",
       "    <tr>\n",
       "      <th>std</th>\n",
       "      <td>7.815984</td>\n",
       "      <td>1.701004</td>\n",
       "      <td>104.269838</td>\n",
       "      <td>846.841774</td>\n",
       "      <td>2.757689</td>\n",
       "      <td>3.697627</td>\n",
       "      <td>0.802055</td>\n",
       "      <td>3.697627</td>\n",
       "    </tr>\n",
       "    <tr>\n",
       "      <th>min</th>\n",
       "      <td>9.000000</td>\n",
       "      <td>3.000000</td>\n",
       "      <td>68.000000</td>\n",
       "      <td>1613.000000</td>\n",
       "      <td>8.000000</td>\n",
       "      <td>70.000000</td>\n",
       "      <td>1.000000</td>\n",
       "      <td>38.000000</td>\n",
       "    </tr>\n",
       "    <tr>\n",
       "      <th>25%</th>\n",
       "      <td>17.500000</td>\n",
       "      <td>4.000000</td>\n",
       "      <td>104.250000</td>\n",
       "      <td>2223.750000</td>\n",
       "      <td>13.825000</td>\n",
       "      <td>73.000000</td>\n",
       "      <td>1.000000</td>\n",
       "      <td>41.000000</td>\n",
       "    </tr>\n",
       "    <tr>\n",
       "      <th>50%</th>\n",
       "      <td>23.000000</td>\n",
       "      <td>4.000000</td>\n",
       "      <td>148.500000</td>\n",
       "      <td>2803.500000</td>\n",
       "      <td>15.500000</td>\n",
       "      <td>76.000000</td>\n",
       "      <td>1.000000</td>\n",
       "      <td>44.000000</td>\n",
       "    </tr>\n",
       "    <tr>\n",
       "      <th>75%</th>\n",
       "      <td>29.000000</td>\n",
       "      <td>8.000000</td>\n",
       "      <td>262.000000</td>\n",
       "      <td>3608.000000</td>\n",
       "      <td>17.175000</td>\n",
       "      <td>79.000000</td>\n",
       "      <td>2.000000</td>\n",
       "      <td>47.000000</td>\n",
       "    </tr>\n",
       "    <tr>\n",
       "      <th>max</th>\n",
       "      <td>46.600000</td>\n",
       "      <td>8.000000</td>\n",
       "      <td>455.000000</td>\n",
       "      <td>5140.000000</td>\n",
       "      <td>24.800000</td>\n",
       "      <td>82.000000</td>\n",
       "      <td>3.000000</td>\n",
       "      <td>50.000000</td>\n",
       "    </tr>\n",
       "  </tbody>\n",
       "</table>\n",
       "</div>"
      ],
      "text/plain": [
       "              mpg   cylinders  displacement       weight  acceleration  \\\n",
       "count  398.000000  398.000000    398.000000   398.000000    398.000000   \n",
       "mean    23.514573    5.454774    193.425879  2970.424623     15.568090   \n",
       "std      7.815984    1.701004    104.269838   846.841774      2.757689   \n",
       "min      9.000000    3.000000     68.000000  1613.000000      8.000000   \n",
       "25%     17.500000    4.000000    104.250000  2223.750000     13.825000   \n",
       "50%     23.000000    4.000000    148.500000  2803.500000     15.500000   \n",
       "75%     29.000000    8.000000    262.000000  3608.000000     17.175000   \n",
       "max     46.600000    8.000000    455.000000  5140.000000     24.800000   \n",
       "\n",
       "       model year      origin   years_old  \n",
       "count  398.000000  398.000000  398.000000  \n",
       "mean    76.010050    1.572864   43.989950  \n",
       "std      3.697627    0.802055    3.697627  \n",
       "min     70.000000    1.000000   38.000000  \n",
       "25%     73.000000    1.000000   41.000000  \n",
       "50%     76.000000    1.000000   44.000000  \n",
       "75%     79.000000    2.000000   47.000000  \n",
       "max     82.000000    3.000000   50.000000  "
      ]
     },
     "execution_count": 38,
>>>>>>> upstream/master
     "metadata": {},
     "output_type": "execute_result"
    }
   ],
   "source": [
<<<<<<< HEAD
    "# check the datatypes of the df\n",
    "df.dtypes"
=======
    "df# check the datatypes of the df\n",
    "df.describe()"
>>>>>>> upstream/master
   ]
  },
  {
   "cell_type": "code",
   "execution_count": 54,
   "metadata": {},
   "outputs": [
    {
     "data": {
      "text/html": [
       "<div>\n",
       "<style scoped>\n",
       "    .dataframe tbody tr th:only-of-type {\n",
       "        vertical-align: middle;\n",
       "    }\n",
       "\n",
       "    .dataframe tbody tr th {\n",
       "        vertical-align: top;\n",
       "    }\n",
       "\n",
       "    .dataframe thead th {\n",
       "        text-align: right;\n",
       "    }\n",
       "</style>\n",
       "<table border=\"1\" class=\"dataframe\">\n",
       "  <thead>\n",
       "    <tr style=\"text-align: right;\">\n",
       "      <th></th>\n",
       "      <th>mpg</th>\n",
       "      <th>cylinders</th>\n",
       "      <th>displacement</th>\n",
       "      <th>horsepower</th>\n",
       "      <th>weight</th>\n",
       "      <th>acceleration</th>\n",
       "      <th>model year</th>\n",
       "      <th>origin</th>\n",
       "      <th>car name</th>\n",
       "    </tr>\n",
       "  </thead>\n",
       "  <tbody>\n",
       "    <tr>\n",
       "      <th>0</th>\n",
       "      <td>18.0</td>\n",
       "      <td>8</td>\n",
       "      <td>307.0</td>\n",
       "      <td>130</td>\n",
       "      <td>3504</td>\n",
       "      <td>12.0</td>\n",
       "      <td>70</td>\n",
       "      <td>1</td>\n",
       "      <td>chevrolet chevelle malibu</td>\n",
       "    </tr>\n",
       "    <tr>\n",
       "      <th>1</th>\n",
       "      <td>15.0</td>\n",
       "      <td>8</td>\n",
       "      <td>350.0</td>\n",
       "      <td>165</td>\n",
       "      <td>3693</td>\n",
       "      <td>11.5</td>\n",
       "      <td>70</td>\n",
       "      <td>1</td>\n",
       "      <td>buick skylark 320</td>\n",
       "    </tr>\n",
       "    <tr>\n",
       "      <th>2</th>\n",
       "      <td>18.0</td>\n",
       "      <td>8</td>\n",
       "      <td>318.0</td>\n",
       "      <td>150</td>\n",
       "      <td>3436</td>\n",
       "      <td>11.0</td>\n",
       "      <td>70</td>\n",
       "      <td>1</td>\n",
       "      <td>plymouth satellite</td>\n",
       "    </tr>\n",
       "    <tr>\n",
       "      <th>3</th>\n",
       "      <td>16.0</td>\n",
       "      <td>8</td>\n",
       "      <td>304.0</td>\n",
       "      <td>150</td>\n",
       "      <td>3433</td>\n",
       "      <td>12.0</td>\n",
       "      <td>70</td>\n",
       "      <td>1</td>\n",
       "      <td>amc rebel sst</td>\n",
       "    </tr>\n",
       "    <tr>\n",
       "      <th>4</th>\n",
       "      <td>17.0</td>\n",
       "      <td>8</td>\n",
       "      <td>302.0</td>\n",
       "      <td>140</td>\n",
       "      <td>3449</td>\n",
       "      <td>10.5</td>\n",
       "      <td>70</td>\n",
       "      <td>1</td>\n",
       "      <td>ford torino</td>\n",
       "    </tr>\n",
       "  </tbody>\n",
       "</table>\n",
       "</div>"
      ],
      "text/plain": [
       "    mpg  cylinders  displacement  horsepower  weight  acceleration  \\\n",
       "0  18.0          8         307.0         130    3504          12.0   \n",
       "1  15.0          8         350.0         165    3693          11.5   \n",
       "2  18.0          8         318.0         150    3436          11.0   \n",
       "3  16.0          8         304.0         150    3433          12.0   \n",
       "4  17.0          8         302.0         140    3449          10.5   \n",
       "\n",
       "   model year  origin                   car name  \n",
       "0          70       1  chevrolet chevelle malibu  \n",
       "1          70       1          buick skylark 320  \n",
       "2          70       1         plymouth satellite  \n",
       "3          70       1              amc rebel sst  \n",
       "4          70       1                ford torino  "
      ]
     },
     "execution_count": 54,
     "metadata": {},
     "output_type": "execute_result"
    }
   ],
   "source": [
    "df.head()"
   ]
  },
  {
   "cell_type": "code",
   "execution_count": 55,
   "metadata": {},
   "outputs": [
    {
     "data": {
      "text/plain": [
       "False"
      ]
     },
     "execution_count": 55,
     "metadata": {},
     "output_type": "execute_result"
    }
   ],
   "source": [
    "# check whether you have missing values\n",
    "df.isna().sum().any()"
   ]
  },
  {
   "cell_type": "code",
   "execution_count": 57,
   "metadata": {},
   "outputs": [],
   "source": [
    "# creating new columns - broadcasting \n",
    "df['usable?'] = 'Yes'"
   ]
  },
  {
   "cell_type": "code",
   "execution_count": 58,
   "metadata": {},
   "outputs": [
    {
     "data": {
      "text/html": [
       "<div>\n",
       "<style scoped>\n",
       "    .dataframe tbody tr th:only-of-type {\n",
       "        vertical-align: middle;\n",
       "    }\n",
       "\n",
       "    .dataframe tbody tr th {\n",
       "        vertical-align: top;\n",
       "    }\n",
       "\n",
       "    .dataframe thead th {\n",
       "        text-align: right;\n",
       "    }\n",
       "</style>\n",
       "<table border=\"1\" class=\"dataframe\">\n",
       "  <thead>\n",
       "    <tr style=\"text-align: right;\">\n",
       "      <th></th>\n",
       "      <th>mpg</th>\n",
       "      <th>cylinders</th>\n",
       "      <th>displacement</th>\n",
       "      <th>horsepower</th>\n",
       "      <th>weight</th>\n",
       "      <th>acceleration</th>\n",
       "      <th>model year</th>\n",
       "      <th>origin</th>\n",
       "      <th>car name</th>\n",
       "      <th>usable?</th>\n",
       "    </tr>\n",
       "  </thead>\n",
       "  <tbody>\n",
       "    <tr>\n",
       "      <th>0</th>\n",
       "      <td>18.0</td>\n",
       "      <td>8</td>\n",
       "      <td>307.0</td>\n",
       "      <td>130</td>\n",
       "      <td>3504</td>\n",
       "      <td>12.0</td>\n",
       "      <td>70</td>\n",
       "      <td>1</td>\n",
       "      <td>chevrolet chevelle malibu</td>\n",
       "      <td>Yes</td>\n",
       "    </tr>\n",
       "    <tr>\n",
       "      <th>1</th>\n",
       "      <td>15.0</td>\n",
       "      <td>8</td>\n",
       "      <td>350.0</td>\n",
       "      <td>165</td>\n",
       "      <td>3693</td>\n",
       "      <td>11.5</td>\n",
       "      <td>70</td>\n",
       "      <td>1</td>\n",
       "      <td>buick skylark 320</td>\n",
       "      <td>Yes</td>\n",
       "    </tr>\n",
       "    <tr>\n",
       "      <th>2</th>\n",
       "      <td>18.0</td>\n",
       "      <td>8</td>\n",
       "      <td>318.0</td>\n",
       "      <td>150</td>\n",
       "      <td>3436</td>\n",
       "      <td>11.0</td>\n",
       "      <td>70</td>\n",
       "      <td>1</td>\n",
       "      <td>plymouth satellite</td>\n",
       "      <td>Yes</td>\n",
       "    </tr>\n",
       "    <tr>\n",
       "      <th>3</th>\n",
       "      <td>16.0</td>\n",
       "      <td>8</td>\n",
       "      <td>304.0</td>\n",
       "      <td>150</td>\n",
       "      <td>3433</td>\n",
       "      <td>12.0</td>\n",
       "      <td>70</td>\n",
       "      <td>1</td>\n",
       "      <td>amc rebel sst</td>\n",
       "      <td>Yes</td>\n",
       "    </tr>\n",
       "    <tr>\n",
       "      <th>4</th>\n",
       "      <td>17.0</td>\n",
       "      <td>8</td>\n",
       "      <td>302.0</td>\n",
       "      <td>140</td>\n",
       "      <td>3449</td>\n",
       "      <td>10.5</td>\n",
       "      <td>70</td>\n",
       "      <td>1</td>\n",
       "      <td>ford torino</td>\n",
       "      <td>Yes</td>\n",
       "    </tr>\n",
       "  </tbody>\n",
       "</table>\n",
       "</div>"
      ],
      "text/plain": [
       "    mpg  cylinders  displacement  horsepower  weight  acceleration  \\\n",
       "0  18.0          8         307.0         130    3504          12.0   \n",
       "1  15.0          8         350.0         165    3693          11.5   \n",
       "2  18.0          8         318.0         150    3436          11.0   \n",
       "3  16.0          8         304.0         150    3433          12.0   \n",
       "4  17.0          8         302.0         140    3449          10.5   \n",
       "\n",
       "   model year  origin                   car name usable?  \n",
       "0          70       1  chevrolet chevelle malibu     Yes  \n",
       "1          70       1          buick skylark 320     Yes  \n",
       "2          70       1         plymouth satellite     Yes  \n",
       "3          70       1              amc rebel sst     Yes  \n",
       "4          70       1                ford torino     Yes  "
      ]
     },
     "execution_count": 58,
     "metadata": {},
     "output_type": "execute_result"
    }
   ],
   "source": [
    "df.head()"
   ]
  },
  {
   "cell_type": "code",
   "execution_count": null,
   "metadata": {},
   "outputs": [],
   "source": [
    "# check the dataframe\n"
   ]
  },
  {
   "cell_type": "code",
   "execution_count": 59,
   "metadata": {
    "scrolled": false
   },
   "outputs": [
    {
     "data": {
      "text/html": [
       "<div>\n",
       "<style scoped>\n",
       "    .dataframe tbody tr th:only-of-type {\n",
       "        vertical-align: middle;\n",
       "    }\n",
       "\n",
       "    .dataframe tbody tr th {\n",
       "        vertical-align: top;\n",
       "    }\n",
       "\n",
       "    .dataframe thead th {\n",
       "        text-align: right;\n",
       "    }\n",
       "</style>\n",
       "<table border=\"1\" class=\"dataframe\">\n",
       "  <thead>\n",
       "    <tr style=\"text-align: right;\">\n",
       "      <th></th>\n",
       "      <th>mpg</th>\n",
       "      <th>cylinders</th>\n",
       "      <th>displacement</th>\n",
       "      <th>horsepower</th>\n",
       "      <th>weight</th>\n",
       "      <th>acceleration</th>\n",
       "      <th>model year</th>\n",
       "      <th>origin</th>\n",
       "      <th>car name</th>\n",
       "      <th>usable?</th>\n",
       "      <th>weight_in_tons</th>\n",
       "    </tr>\n",
       "  </thead>\n",
       "  <tbody>\n",
       "    <tr>\n",
       "      <th>0</th>\n",
       "      <td>18.0</td>\n",
       "      <td>8</td>\n",
       "      <td>307.0</td>\n",
       "      <td>130</td>\n",
       "      <td>3504</td>\n",
       "      <td>12.0</td>\n",
       "      <td>70</td>\n",
       "      <td>1</td>\n",
       "      <td>chevrolet chevelle malibu</td>\n",
       "      <td>Yes</td>\n",
       "      <td>1.7520</td>\n",
       "    </tr>\n",
       "    <tr>\n",
       "      <th>1</th>\n",
       "      <td>15.0</td>\n",
       "      <td>8</td>\n",
       "      <td>350.0</td>\n",
       "      <td>165</td>\n",
       "      <td>3693</td>\n",
       "      <td>11.5</td>\n",
       "      <td>70</td>\n",
       "      <td>1</td>\n",
       "      <td>buick skylark 320</td>\n",
       "      <td>Yes</td>\n",
       "      <td>1.8465</td>\n",
       "    </tr>\n",
       "    <tr>\n",
       "      <th>2</th>\n",
       "      <td>18.0</td>\n",
       "      <td>8</td>\n",
       "      <td>318.0</td>\n",
       "      <td>150</td>\n",
       "      <td>3436</td>\n",
       "      <td>11.0</td>\n",
       "      <td>70</td>\n",
       "      <td>1</td>\n",
       "      <td>plymouth satellite</td>\n",
       "      <td>Yes</td>\n",
       "      <td>1.7180</td>\n",
       "    </tr>\n",
       "    <tr>\n",
       "      <th>3</th>\n",
       "      <td>16.0</td>\n",
       "      <td>8</td>\n",
       "      <td>304.0</td>\n",
       "      <td>150</td>\n",
       "      <td>3433</td>\n",
       "      <td>12.0</td>\n",
       "      <td>70</td>\n",
       "      <td>1</td>\n",
       "      <td>amc rebel sst</td>\n",
       "      <td>Yes</td>\n",
       "      <td>1.7165</td>\n",
       "    </tr>\n",
       "    <tr>\n",
       "      <th>4</th>\n",
       "      <td>17.0</td>\n",
       "      <td>8</td>\n",
       "      <td>302.0</td>\n",
       "      <td>140</td>\n",
       "      <td>3449</td>\n",
       "      <td>10.5</td>\n",
       "      <td>70</td>\n",
       "      <td>1</td>\n",
       "      <td>ford torino</td>\n",
       "      <td>Yes</td>\n",
       "      <td>1.7245</td>\n",
       "    </tr>\n",
       "  </tbody>\n",
       "</table>\n",
       "</div>"
      ],
      "text/plain": [
       "    mpg  cylinders  displacement  horsepower  weight  acceleration  \\\n",
       "0  18.0          8         307.0         130    3504          12.0   \n",
       "1  15.0          8         350.0         165    3693          11.5   \n",
       "2  18.0          8         318.0         150    3436          11.0   \n",
       "3  16.0          8         304.0         150    3433          12.0   \n",
       "4  17.0          8         302.0         140    3449          10.5   \n",
       "\n",
       "   model year  origin                   car name usable?  weight_in_tons  \n",
       "0          70       1  chevrolet chevelle malibu     Yes          1.7520  \n",
       "1          70       1          buick skylark 320     Yes          1.8465  \n",
       "2          70       1         plymouth satellite     Yes          1.7180  \n",
       "3          70       1              amc rebel sst     Yes          1.7165  \n",
       "4          70       1                ford torino     Yes          1.7245  "
      ]
     },
     "execution_count": 59,
     "metadata": {},
     "output_type": "execute_result"
    }
   ],
   "source": [
    "# time to use lambda and apply! with apply, applymap, and map, you never need to \"iterate through the rows\"\n",
    "\n",
    "# create a function that takes in the weight as lbs, and return weight in tons \n",
    "\n",
    "# 1 lb = 0.0005\n",
    "df['weight_in_tons'] = df.weight.apply(lambda x: x*0.0005)\n",
    "df.head()"
   ]
  },
  {
   "cell_type": "code",
   "execution_count": 61,
   "metadata": {},
   "outputs": [
    {
     "data": {
      "text/html": [
       "<div>\n",
       "<style scoped>\n",
       "    .dataframe tbody tr th:only-of-type {\n",
       "        vertical-align: middle;\n",
       "    }\n",
       "\n",
       "    .dataframe tbody tr th {\n",
       "        vertical-align: top;\n",
       "    }\n",
       "\n",
       "    .dataframe thead th {\n",
       "        text-align: right;\n",
       "    }\n",
       "</style>\n",
       "<table border=\"1\" class=\"dataframe\">\n",
       "  <thead>\n",
       "    <tr style=\"text-align: right;\">\n",
       "      <th></th>\n",
       "      <th>mpg</th>\n",
       "      <th>cylinders</th>\n",
       "      <th>displacement</th>\n",
       "      <th>horsepower</th>\n",
       "      <th>weight</th>\n",
       "      <th>acceleration</th>\n",
       "      <th>model year</th>\n",
       "      <th>origin</th>\n",
       "      <th>car name</th>\n",
       "      <th>usable?</th>\n",
       "      <th>weight_in_tons</th>\n",
       "      <th>weight_in_tons_bc</th>\n",
       "    </tr>\n",
       "  </thead>\n",
       "  <tbody>\n",
       "    <tr>\n",
       "      <th>0</th>\n",
       "      <td>18.0</td>\n",
       "      <td>8</td>\n",
       "      <td>307.0</td>\n",
       "      <td>130</td>\n",
       "      <td>3504</td>\n",
       "      <td>12.0</td>\n",
       "      <td>70</td>\n",
       "      <td>1</td>\n",
       "      <td>chevrolet chevelle malibu</td>\n",
       "      <td>Yes</td>\n",
       "      <td>1.7520</td>\n",
       "      <td>1.7520</td>\n",
       "    </tr>\n",
       "    <tr>\n",
       "      <th>1</th>\n",
       "      <td>15.0</td>\n",
       "      <td>8</td>\n",
       "      <td>350.0</td>\n",
       "      <td>165</td>\n",
       "      <td>3693</td>\n",
       "      <td>11.5</td>\n",
       "      <td>70</td>\n",
       "      <td>1</td>\n",
       "      <td>buick skylark 320</td>\n",
       "      <td>Yes</td>\n",
       "      <td>1.8465</td>\n",
       "      <td>1.8465</td>\n",
       "    </tr>\n",
       "    <tr>\n",
       "      <th>2</th>\n",
       "      <td>18.0</td>\n",
       "      <td>8</td>\n",
       "      <td>318.0</td>\n",
       "      <td>150</td>\n",
       "      <td>3436</td>\n",
       "      <td>11.0</td>\n",
       "      <td>70</td>\n",
       "      <td>1</td>\n",
       "      <td>plymouth satellite</td>\n",
       "      <td>Yes</td>\n",
       "      <td>1.7180</td>\n",
       "      <td>1.7180</td>\n",
       "    </tr>\n",
       "    <tr>\n",
       "      <th>3</th>\n",
       "      <td>16.0</td>\n",
       "      <td>8</td>\n",
       "      <td>304.0</td>\n",
       "      <td>150</td>\n",
       "      <td>3433</td>\n",
       "      <td>12.0</td>\n",
       "      <td>70</td>\n",
       "      <td>1</td>\n",
       "      <td>amc rebel sst</td>\n",
       "      <td>Yes</td>\n",
       "      <td>1.7165</td>\n",
       "      <td>1.7165</td>\n",
       "    </tr>\n",
       "    <tr>\n",
       "      <th>4</th>\n",
       "      <td>17.0</td>\n",
       "      <td>8</td>\n",
       "      <td>302.0</td>\n",
       "      <td>140</td>\n",
       "      <td>3449</td>\n",
       "      <td>10.5</td>\n",
       "      <td>70</td>\n",
       "      <td>1</td>\n",
       "      <td>ford torino</td>\n",
       "      <td>Yes</td>\n",
       "      <td>1.7245</td>\n",
       "      <td>1.7245</td>\n",
       "    </tr>\n",
       "  </tbody>\n",
       "</table>\n",
       "</div>"
      ],
      "text/plain": [
       "    mpg  cylinders  displacement  horsepower  weight  acceleration  \\\n",
       "0  18.0          8         307.0         130    3504          12.0   \n",
       "1  15.0          8         350.0         165    3693          11.5   \n",
       "2  18.0          8         318.0         150    3436          11.0   \n",
       "3  16.0          8         304.0         150    3433          12.0   \n",
       "4  17.0          8         302.0         140    3449          10.5   \n",
       "\n",
       "   model year  origin                   car name usable?  weight_in_tons  \\\n",
       "0          70       1  chevrolet chevelle malibu     Yes          1.7520   \n",
       "1          70       1          buick skylark 320     Yes          1.8465   \n",
       "2          70       1         plymouth satellite     Yes          1.7180   \n",
       "3          70       1              amc rebel sst     Yes          1.7165   \n",
       "4          70       1                ford torino     Yes          1.7245   \n",
       "\n",
       "   weight_in_tons_bc  \n",
       "0             1.7520  \n",
       "1             1.8465  \n",
       "2             1.7180  \n",
       "3             1.7165  \n",
       "4             1.7245  "
      ]
     },
     "execution_count": 61,
     "metadata": {},
     "output_type": "execute_result"
    }
   ],
   "source": [
    "#broadcasting\n",
    "df['weight_in_tons_bc'] = df['weight']*0.0005\n",
    "df.head()"
   ]
  },
  {
   "cell_type": "code",
   "execution_count": null,
   "metadata": {
    "scrolled": true
   },
   "outputs": [],
   "source": []
  },
  {
   "cell_type": "code",
   "execution_count": 80,
   "metadata": {},
   "outputs": [
    {
     "data": {
      "text/html": [
       "<div>\n",
       "<style scoped>\n",
       "    .dataframe tbody tr th:only-of-type {\n",
       "        vertical-align: middle;\n",
       "    }\n",
       "\n",
       "    .dataframe tbody tr th {\n",
       "        vertical-align: top;\n",
       "    }\n",
       "\n",
       "    .dataframe thead th {\n",
       "        text-align: right;\n",
       "    }\n",
       "</style>\n",
       "<table border=\"1\" class=\"dataframe\">\n",
       "  <thead>\n",
       "    <tr style=\"text-align: right;\">\n",
       "      <th></th>\n",
       "      <th>mpg</th>\n",
       "      <th>cylinders</th>\n",
       "      <th>displacement</th>\n",
       "      <th>horsepower</th>\n",
       "      <th>weight</th>\n",
       "      <th>acceleration</th>\n",
       "      <th>model year</th>\n",
       "      <th>origin</th>\n",
       "      <th>car name</th>\n",
       "      <th>usable?</th>\n",
       "      <th>weight_in_tons</th>\n",
       "      <th>weight_in_tons_bc</th>\n",
       "      <th>years old</th>\n",
       "    </tr>\n",
       "  </thead>\n",
       "  <tbody>\n",
       "    <tr>\n",
       "      <th>0</th>\n",
       "      <td>18.0</td>\n",
       "      <td>8</td>\n",
       "      <td>307.0</td>\n",
       "      <td>130</td>\n",
       "      <td>3504</td>\n",
       "      <td>12.0</td>\n",
       "      <td>70</td>\n",
       "      <td>1</td>\n",
       "      <td>chevrolet chevelle malibu</td>\n",
       "      <td>Yes</td>\n",
       "      <td>1.7520</td>\n",
       "      <td>1.7520</td>\n",
       "      <td>50</td>\n",
       "    </tr>\n",
       "    <tr>\n",
       "      <th>1</th>\n",
       "      <td>15.0</td>\n",
       "      <td>8</td>\n",
       "      <td>350.0</td>\n",
       "      <td>165</td>\n",
       "      <td>3693</td>\n",
       "      <td>11.5</td>\n",
       "      <td>70</td>\n",
       "      <td>1</td>\n",
       "      <td>buick skylark 320</td>\n",
       "      <td>Yes</td>\n",
       "      <td>1.8465</td>\n",
       "      <td>1.8465</td>\n",
       "      <td>50</td>\n",
       "    </tr>\n",
       "    <tr>\n",
       "      <th>2</th>\n",
       "      <td>18.0</td>\n",
       "      <td>8</td>\n",
       "      <td>318.0</td>\n",
       "      <td>150</td>\n",
       "      <td>3436</td>\n",
       "      <td>11.0</td>\n",
       "      <td>70</td>\n",
       "      <td>1</td>\n",
       "      <td>plymouth satellite</td>\n",
       "      <td>Yes</td>\n",
       "      <td>1.7180</td>\n",
       "      <td>1.7180</td>\n",
       "      <td>50</td>\n",
       "    </tr>\n",
       "    <tr>\n",
       "      <th>3</th>\n",
       "      <td>16.0</td>\n",
       "      <td>8</td>\n",
       "      <td>304.0</td>\n",
       "      <td>150</td>\n",
       "      <td>3433</td>\n",
       "      <td>12.0</td>\n",
       "      <td>70</td>\n",
       "      <td>1</td>\n",
       "      <td>amc rebel sst</td>\n",
       "      <td>Yes</td>\n",
       "      <td>1.7165</td>\n",
       "      <td>1.7165</td>\n",
       "      <td>50</td>\n",
       "    </tr>\n",
       "    <tr>\n",
       "      <th>4</th>\n",
       "      <td>17.0</td>\n",
       "      <td>8</td>\n",
       "      <td>302.0</td>\n",
       "      <td>140</td>\n",
       "      <td>3449</td>\n",
       "      <td>10.5</td>\n",
       "      <td>70</td>\n",
       "      <td>1</td>\n",
       "      <td>ford torino</td>\n",
       "      <td>Yes</td>\n",
       "      <td>1.7245</td>\n",
       "      <td>1.7245</td>\n",
       "      <td>50</td>\n",
       "    </tr>\n",
       "  </tbody>\n",
       "</table>\n",
       "</div>"
      ],
      "text/plain": [
       "    mpg  cylinders  displacement  horsepower  weight  acceleration  \\\n",
       "0  18.0          8         307.0         130    3504          12.0   \n",
       "1  15.0          8         350.0         165    3693          11.5   \n",
       "2  18.0          8         318.0         150    3436          11.0   \n",
       "3  16.0          8         304.0         150    3433          12.0   \n",
       "4  17.0          8         302.0         140    3449          10.5   \n",
       "\n",
       "   model year  origin                   car name usable?  weight_in_tons  \\\n",
       "0          70       1  chevrolet chevelle malibu     Yes          1.7520   \n",
       "1          70       1          buick skylark 320     Yes          1.8465   \n",
       "2          70       1         plymouth satellite     Yes          1.7180   \n",
       "3          70       1              amc rebel sst     Yes          1.7165   \n",
       "4          70       1                ford torino     Yes          1.7245   \n",
       "\n",
       "   weight_in_tons_bc  years old  \n",
       "0             1.7520         50  \n",
       "1             1.8465         50  \n",
       "2             1.7180         50  \n",
       "3             1.7165         50  \n",
       "4             1.7245         50  "
      ]
     },
     "execution_count": 80,
     "metadata": {},
     "output_type": "execute_result"
    }
   ],
   "source": [
    "# exercise - create a new column called \"years old\", which determines how old a car is \n",
    "df['years old'] = df['model year'].apply(lambda x: 120 - x)\n",
    "# df['years old'] = 120 - df['model year']\n",
    "df.head()"
   ]
  },
  {
   "cell_type": "markdown",
   "metadata": {},
   "source": [
    "## Part III. Combining DataFrames in Pandas\n",
    "There are two methods in Pandas that allow us to combine our DataFrames:\n",
    "\n",
    "    - df.merge() - allow us to match dataframes on either indices or columns\n",
    "    - df.concat() - allow us to concatenate two dataframes vertically or horizontally \n"
   ]
  },
  {
   "cell_type": "code",
<<<<<<< HEAD
   "execution_count": 67,
=======
   "execution_count": 39,
>>>>>>> upstream/master
   "metadata": {},
   "outputs": [],
   "source": [
    "# create some toy dataframes \n",
    "small_grades = pd.DataFrame({\"students\":[\"Sandra\",\"Billy\",\"Alan\"],\n",
    "                          \"projects\":[1,2,1],\n",
    "                          \"grades\":np.random.randint(80,100,3)})\n",
    "small_quiz = pd.DataFrame({\"students\":[\"Alan\",\"Steven\",\"Davida\"],\n",
    "                            \"quiz_score\":np.random.randint(0,10,3)})"
   ]
  },
  {
   "cell_type": "code",
<<<<<<< HEAD
   "execution_count": 68,
=======
   "execution_count": 40,
>>>>>>> upstream/master
   "metadata": {
    "scrolled": true
   },
   "outputs": [
    {
     "name": "stdout",
     "output_type": "stream",
     "text": [
      "  students  projects  grades\n",
<<<<<<< HEAD
      "0   Sandra         1      99\n",
      "1    Billy         2      89\n",
      "2     Alan         1      99\n",
      "  students  quiz_score\n",
      "0     Alan           3\n",
      "1   Steven           1\n",
      "2   Davida           9\n"
=======
      "0   Sandra         1      96\n",
      "1    Billy         2      84\n",
      "2     Alan         1      95\n",
      "  students  quiz_score\n",
      "0     Alan           5\n",
      "1   Steven           2\n",
      "2   Davida           8\n"
>>>>>>> upstream/master
     ]
    }
   ],
   "source": [
    "print(small_grades)\n",
    "print(small_quiz)"
   ]
  },
  {
   "cell_type": "code",
<<<<<<< HEAD
   "execution_count": 71,
=======
   "execution_count": 45,
>>>>>>> upstream/master
   "metadata": {
    "scrolled": true
   },
   "outputs": [
    {
     "name": "stderr",
     "output_type": "stream",
     "text": [
      "/Users/sandrawelbeck/opt/anaconda3/envs/learn-env/lib/python3.6/site-packages/ipykernel_launcher.py:2: FutureWarning: Sorting because non-concatenation axis is not aligned. A future version\n",
      "of pandas will change to not sort by default.\n",
      "\n",
      "To accept the future behavior, pass 'sort=False'.\n",
      "\n",
      "To retain the current behavior and silence the warning, pass 'sort=True'.\n",
      "\n",
      "  \n"
     ]
    }
   ],
   "source": [
    "### df.concat \n",
    "combined = pd.concat([small_grades, small_quiz], axis = 0)"
   ]
  },
  {
   "cell_type": "code",
<<<<<<< HEAD
   "execution_count": 72,
=======
   "execution_count": 46,
>>>>>>> upstream/master
   "metadata": {},
   "outputs": [
    {
     "data": {
      "text/html": [
       "<div>\n",
       "<style scoped>\n",
       "    .dataframe tbody tr th:only-of-type {\n",
       "        vertical-align: middle;\n",
       "    }\n",
       "\n",
       "    .dataframe tbody tr th {\n",
       "        vertical-align: top;\n",
       "    }\n",
       "\n",
       "    .dataframe thead th {\n",
       "        text-align: right;\n",
       "    }\n",
       "</style>\n",
       "<table border=\"1\" class=\"dataframe\">\n",
       "  <thead>\n",
       "    <tr style=\"text-align: right;\">\n",
       "      <th></th>\n",
<<<<<<< HEAD
       "      <th>grades</th>\n",
       "      <th>projects</th>\n",
       "      <th>quiz_score</th>\n",
       "      <th>students</th>\n",
=======
       "      <th>students</th>\n",
       "      <th>projects</th>\n",
       "      <th>grades</th>\n",
       "      <th>students</th>\n",
       "      <th>quiz_score</th>\n",
>>>>>>> upstream/master
       "    </tr>\n",
       "  </thead>\n",
       "  <tbody>\n",
       "    <tr>\n",
       "      <th>0</th>\n",
<<<<<<< HEAD
       "      <td>99.0</td>\n",
       "      <td>1.0</td>\n",
       "      <td>NaN</td>\n",
       "      <td>Sandra</td>\n",
       "    </tr>\n",
       "    <tr>\n",
       "      <th>1</th>\n",
       "      <td>89.0</td>\n",
       "      <td>2.0</td>\n",
       "      <td>NaN</td>\n",
       "      <td>Billy</td>\n",
       "    </tr>\n",
       "    <tr>\n",
       "      <th>2</th>\n",
       "      <td>99.0</td>\n",
       "      <td>1.0</td>\n",
       "      <td>NaN</td>\n",
       "      <td>Alan</td>\n",
       "    </tr>\n",
       "    <tr>\n",
       "      <th>0</th>\n",
       "      <td>NaN</td>\n",
       "      <td>NaN</td>\n",
       "      <td>3.0</td>\n",
       "      <td>Alan</td>\n",
       "    </tr>\n",
       "    <tr>\n",
       "      <th>1</th>\n",
       "      <td>NaN</td>\n",
       "      <td>NaN</td>\n",
       "      <td>1.0</td>\n",
       "      <td>Steven</td>\n",
       "    </tr>\n",
       "    <tr>\n",
       "      <th>2</th>\n",
       "      <td>NaN</td>\n",
       "      <td>NaN</td>\n",
       "      <td>9.0</td>\n",
       "      <td>Davida</td>\n",
=======
       "      <td>Sandra</td>\n",
       "      <td>1</td>\n",
       "      <td>96</td>\n",
       "      <td>Alan</td>\n",
       "      <td>5</td>\n",
       "    </tr>\n",
       "    <tr>\n",
       "      <th>1</th>\n",
       "      <td>Billy</td>\n",
       "      <td>2</td>\n",
       "      <td>84</td>\n",
       "      <td>Steven</td>\n",
       "      <td>2</td>\n",
       "    </tr>\n",
       "    <tr>\n",
       "      <th>2</th>\n",
       "      <td>Alan</td>\n",
       "      <td>1</td>\n",
       "      <td>95</td>\n",
       "      <td>Davida</td>\n",
       "      <td>8</td>\n",
>>>>>>> upstream/master
       "    </tr>\n",
       "  </tbody>\n",
       "</table>\n",
       "</div>"
      ],
      "text/plain": [
<<<<<<< HEAD
       "   grades  projects  quiz_score students\n",
       "0    99.0       1.0         NaN   Sandra\n",
       "1    89.0       2.0         NaN    Billy\n",
       "2    99.0       1.0         NaN     Alan\n",
       "0     NaN       NaN         3.0     Alan\n",
       "1     NaN       NaN         1.0   Steven\n",
       "2     NaN       NaN         9.0   Davida"
      ]
     },
     "execution_count": 72,
=======
       "  students  projects  grades students  quiz_score\n",
       "0   Sandra         1      96     Alan           5\n",
       "1    Billy         2      84   Steven           2\n",
       "2     Alan         1      95   Davida           8"
      ]
     },
     "execution_count": 46,
>>>>>>> upstream/master
     "metadata": {},
     "output_type": "execute_result"
    }
   ],
   "source": [
    "combined"
   ]
  },
  {
<<<<<<< HEAD
=======
   "cell_type": "code",
   "execution_count": 57,
   "metadata": {},
   "outputs": [
    {
     "data": {
      "text/html": [
       "<div>\n",
       "<style scoped>\n",
       "    .dataframe tbody tr th:only-of-type {\n",
       "        vertical-align: middle;\n",
       "    }\n",
       "\n",
       "    .dataframe tbody tr th {\n",
       "        vertical-align: top;\n",
       "    }\n",
       "\n",
       "    .dataframe thead th {\n",
       "        text-align: right;\n",
       "    }\n",
       "</style>\n",
       "<table border=\"1\" class=\"dataframe\">\n",
       "  <thead>\n",
       "    <tr style=\"text-align: right;\">\n",
       "      <th></th>\n",
       "      <th>students</th>\n",
       "      <th>projects</th>\n",
       "      <th>grades</th>\n",
       "      <th>quiz_score</th>\n",
       "    </tr>\n",
       "  </thead>\n",
       "  <tbody>\n",
       "    <tr>\n",
       "      <th>0</th>\n",
       "      <td>Alan</td>\n",
       "      <td>1</td>\n",
       "      <td>95</td>\n",
       "      <td>5</td>\n",
       "    </tr>\n",
       "  </tbody>\n",
       "</table>\n",
       "</div>"
      ],
      "text/plain": [
       "  students  projects  grades  quiz_score\n",
       "0     Alan         1      95           5"
      ]
     },
     "execution_count": 57,
     "metadata": {},
     "output_type": "execute_result"
    }
   ],
   "source": [
    "pd.merge(small_grades,small_quiz,how='inner',on='students')"
   ]
  },
  {
>>>>>>> upstream/master
   "cell_type": "markdown",
   "metadata": {},
   "source": [
    "<img src = 'sql-joins.png' width = 400>\n",
    "\n",
    "Based on the diagram above, what are the differences of different types of merge?"
   ]
  },
  {
   "cell_type": "code",
   "execution_count": 73,
   "metadata": {},
   "outputs": [
    {
     "data": {
      "text/html": [
       "<div>\n",
       "<style scoped>\n",
       "    .dataframe tbody tr th:only-of-type {\n",
       "        vertical-align: middle;\n",
       "    }\n",
       "\n",
       "    .dataframe tbody tr th {\n",
       "        vertical-align: top;\n",
       "    }\n",
       "\n",
       "    .dataframe thead th {\n",
       "        text-align: right;\n",
       "    }\n",
       "</style>\n",
       "<table border=\"1\" class=\"dataframe\">\n",
       "  <thead>\n",
       "    <tr style=\"text-align: right;\">\n",
       "      <th></th>\n",
       "      <th>students</th>\n",
       "      <th>projects</th>\n",
       "      <th>grades</th>\n",
       "      <th>quiz_score</th>\n",
       "    </tr>\n",
       "  </thead>\n",
       "  <tbody>\n",
       "    <tr>\n",
       "      <th>0</th>\n",
       "      <td>Alan</td>\n",
       "      <td>1</td>\n",
       "      <td>99</td>\n",
       "      <td>3</td>\n",
       "    </tr>\n",
       "  </tbody>\n",
       "</table>\n",
       "</div>"
      ],
      "text/plain": [
       "  students  projects  grades  quiz_score\n",
       "0     Alan         1      99           3"
      ]
     },
     "execution_count": 73,
     "metadata": {},
     "output_type": "execute_result"
    }
   ],
   "source": [
    "### df.merge\n",
    "\n",
    "# inner merge\n",
    "\n",
    "small_grades.merge(small_quiz, on = 'students')"
   ]
  },
  {
   "cell_type": "code",
   "execution_count": 74,
   "metadata": {},
   "outputs": [
    {
     "data": {
      "text/html": [
       "<div>\n",
       "<style scoped>\n",
       "    .dataframe tbody tr th:only-of-type {\n",
       "        vertical-align: middle;\n",
       "    }\n",
       "\n",
       "    .dataframe tbody tr th {\n",
       "        vertical-align: top;\n",
       "    }\n",
       "\n",
       "    .dataframe thead th {\n",
       "        text-align: right;\n",
       "    }\n",
       "</style>\n",
       "<table border=\"1\" class=\"dataframe\">\n",
       "  <thead>\n",
       "    <tr style=\"text-align: right;\">\n",
       "      <th></th>\n",
       "      <th>students</th>\n",
       "      <th>projects</th>\n",
       "      <th>grades</th>\n",
       "      <th>quiz_score</th>\n",
       "    </tr>\n",
       "  </thead>\n",
       "  <tbody>\n",
       "    <tr>\n",
       "      <th>0</th>\n",
       "      <td>Sandra</td>\n",
       "      <td>1.0</td>\n",
       "      <td>99.0</td>\n",
       "      <td>NaN</td>\n",
       "    </tr>\n",
       "    <tr>\n",
       "      <th>1</th>\n",
       "      <td>Billy</td>\n",
       "      <td>2.0</td>\n",
       "      <td>89.0</td>\n",
       "      <td>NaN</td>\n",
       "    </tr>\n",
       "    <tr>\n",
       "      <th>2</th>\n",
       "      <td>Alan</td>\n",
       "      <td>1.0</td>\n",
       "      <td>99.0</td>\n",
       "      <td>3.0</td>\n",
       "    </tr>\n",
       "    <tr>\n",
       "      <th>3</th>\n",
       "      <td>Steven</td>\n",
       "      <td>NaN</td>\n",
       "      <td>NaN</td>\n",
       "      <td>1.0</td>\n",
       "    </tr>\n",
       "    <tr>\n",
       "      <th>4</th>\n",
       "      <td>Davida</td>\n",
       "      <td>NaN</td>\n",
       "      <td>NaN</td>\n",
       "      <td>9.0</td>\n",
       "    </tr>\n",
       "  </tbody>\n",
       "</table>\n",
       "</div>"
      ],
      "text/plain": [
       "  students  projects  grades  quiz_score\n",
       "0   Sandra       1.0    99.0         NaN\n",
       "1    Billy       2.0    89.0         NaN\n",
       "2     Alan       1.0    99.0         3.0\n",
       "3   Steven       NaN     NaN         1.0\n",
       "4   Davida       NaN     NaN         9.0"
      ]
     },
     "execution_count": 74,
     "metadata": {},
     "output_type": "execute_result"
    }
   ],
   "source": [
    "# outer merge\n",
    "\n",
    "small_grades.merge(small_quiz, how = 'outer', on = 'students')"
   ]
  },
  {
   "cell_type": "code",
   "execution_count": 75,
   "metadata": {
    "scrolled": true
   },
   "outputs": [
    {
     "data": {
      "text/html": [
       "<div>\n",
       "<style scoped>\n",
       "    .dataframe tbody tr th:only-of-type {\n",
       "        vertical-align: middle;\n",
       "    }\n",
       "\n",
       "    .dataframe tbody tr th {\n",
       "        vertical-align: top;\n",
       "    }\n",
       "\n",
       "    .dataframe thead th {\n",
       "        text-align: right;\n",
       "    }\n",
       "</style>\n",
       "<table border=\"1\" class=\"dataframe\">\n",
       "  <thead>\n",
       "    <tr style=\"text-align: right;\">\n",
       "      <th></th>\n",
       "      <th>students</th>\n",
       "      <th>projects</th>\n",
       "      <th>grades</th>\n",
       "      <th>quiz_score</th>\n",
       "    </tr>\n",
       "  </thead>\n",
       "  <tbody>\n",
       "    <tr>\n",
       "      <th>0</th>\n",
       "      <td>Alan</td>\n",
       "      <td>1.0</td>\n",
       "      <td>99.0</td>\n",
       "      <td>3</td>\n",
       "    </tr>\n",
       "    <tr>\n",
       "      <th>1</th>\n",
       "      <td>Steven</td>\n",
       "      <td>NaN</td>\n",
       "      <td>NaN</td>\n",
       "      <td>1</td>\n",
       "    </tr>\n",
       "    <tr>\n",
       "      <th>2</th>\n",
       "      <td>Davida</td>\n",
       "      <td>NaN</td>\n",
       "      <td>NaN</td>\n",
       "      <td>9</td>\n",
       "    </tr>\n",
       "  </tbody>\n",
       "</table>\n",
       "</div>"
      ],
      "text/plain": [
       "  students  projects  grades  quiz_score\n",
       "0     Alan       1.0    99.0           3\n",
       "1   Steven       NaN     NaN           1\n",
       "2   Davida       NaN     NaN           9"
      ]
     },
     "execution_count": 75,
     "metadata": {},
     "output_type": "execute_result"
    }
   ],
   "source": [
    "# right merge\n",
    "small_grades.merge(small_quiz, how = 'right', on = 'students')"
   ]
  },
  {
   "cell_type": "markdown",
   "metadata": {},
   "source": [
    "### Data Cleaning - level up with the adult dataset"
   ]
  },
  {
   "cell_type": "markdown",
   "metadata": {},
   "source": [
    "Dataset documentation:\n",
    "- age: continuous.\n",
    "- workclass: Private, Self-emp-not-inc, Self-emp-inc, Federal-gov, Local-gov, State-gov, Without-pay, Never-worked.\n",
    "- fnlwgt: continuous.\n",
    "- education: Bachelors, Some-college, 11th, HS-grad, Prof-school, Assoc-acdm, Assoc-voc, 9th, 7th-8th, 12th, Masters, 1st-4th, 10th, Doctorate, 5th-6th, Preschool.\n",
    "- education-num: continuous.\n",
    "- marital-status: Married-civ-spouse, Divorced, Never-married, Separated, Widowed, Married-spouse-absent, Married-AF-spouse.\n",
    "- occupation: Tech-support, Craft-repair, Other-service, Sales, Exec-managerial, Prof-specialty, Handlers-cleaners, Machine-op-inspct, Adm-clerical, Farming-fishing, Transport-moving, Priv-house-serv, Protective-serv, Armed-Forces.\n",
    "- relationship: Wife, Own-child, Husband, Not-in-family, Other-relative, Unmarried.\n",
    "- race: White, Asian-Pac-Islander, Amer-Indian-Eskimo, Other, Black.\n",
    "- sex: Female, Male.\n",
    "- capital-gain: continuous.\n",
    "- capital-loss: continuous.\n",
    "- hours-per-week: continuous.\n",
    "- native-country: United-States, Cambodia, England, Puerto-Rico, Canada, Germany, Outlying-US(Guam-USVI-etc), India, Japan, Greece, South, China, Cuba, Iran, Honduras, Philippines, Italy, Poland, Jamaica, Vietnam, Mexico, Portugal, Ireland, France, Dominican-Republic, Laos, Ecuador, Taiwan, Haiti, Columbia, Hungary, Guatemala, Nicaragua, Scotland, Thailand, Yugoslavia, El-Salvador, Trinadad&Tobago, Peru, Hong, Holand-Netherlands.\n",
    "\n"
   ]
  },
  {
   "cell_type": "code",
<<<<<<< HEAD
   "execution_count": 78,
=======
   "execution_count": 2,
>>>>>>> upstream/master
   "metadata": {},
   "outputs": [],
   "source": [
    "url = 'https://archive.ics.uci.edu/ml/machine-learning-databases/adult/adult.data'\n",
    "adults = pd.read_csv(url,header = None)"
   ]
  },
  {
   "cell_type": "code",
<<<<<<< HEAD
   "execution_count": 79,
=======
   "execution_count": 3,
>>>>>>> upstream/master
   "metadata": {},
   "outputs": [
    {
     "data": {
      "text/html": [
       "<div>\n",
       "<style scoped>\n",
       "    .dataframe tbody tr th:only-of-type {\n",
       "        vertical-align: middle;\n",
       "    }\n",
       "\n",
       "    .dataframe tbody tr th {\n",
       "        vertical-align: top;\n",
       "    }\n",
       "\n",
       "    .dataframe thead th {\n",
       "        text-align: right;\n",
       "    }\n",
       "</style>\n",
       "<table border=\"1\" class=\"dataframe\">\n",
       "  <thead>\n",
       "    <tr style=\"text-align: right;\">\n",
       "      <th></th>\n",
       "      <th>0</th>\n",
       "      <th>1</th>\n",
       "      <th>2</th>\n",
       "      <th>3</th>\n",
       "      <th>4</th>\n",
       "      <th>5</th>\n",
       "      <th>6</th>\n",
       "      <th>7</th>\n",
       "      <th>8</th>\n",
       "      <th>9</th>\n",
       "      <th>10</th>\n",
       "      <th>11</th>\n",
       "      <th>12</th>\n",
       "      <th>13</th>\n",
       "      <th>14</th>\n",
       "    </tr>\n",
       "  </thead>\n",
       "  <tbody>\n",
       "    <tr>\n",
       "      <th>0</th>\n",
       "      <td>39</td>\n",
       "      <td>State-gov</td>\n",
       "      <td>77516</td>\n",
       "      <td>Bachelors</td>\n",
       "      <td>13</td>\n",
       "      <td>Never-married</td>\n",
       "      <td>Adm-clerical</td>\n",
       "      <td>Not-in-family</td>\n",
       "      <td>White</td>\n",
       "      <td>Male</td>\n",
       "      <td>2174</td>\n",
       "      <td>0</td>\n",
       "      <td>40</td>\n",
       "      <td>United-States</td>\n",
       "      <td>&lt;=50K</td>\n",
       "    </tr>\n",
       "    <tr>\n",
       "      <th>1</th>\n",
       "      <td>50</td>\n",
       "      <td>Self-emp-not-inc</td>\n",
       "      <td>83311</td>\n",
       "      <td>Bachelors</td>\n",
       "      <td>13</td>\n",
       "      <td>Married-civ-spouse</td>\n",
       "      <td>Exec-managerial</td>\n",
       "      <td>Husband</td>\n",
       "      <td>White</td>\n",
       "      <td>Male</td>\n",
       "      <td>0</td>\n",
       "      <td>0</td>\n",
       "      <td>13</td>\n",
       "      <td>United-States</td>\n",
       "      <td>&lt;=50K</td>\n",
       "    </tr>\n",
       "    <tr>\n",
       "      <th>2</th>\n",
       "      <td>38</td>\n",
       "      <td>Private</td>\n",
       "      <td>215646</td>\n",
       "      <td>HS-grad</td>\n",
       "      <td>9</td>\n",
       "      <td>Divorced</td>\n",
       "      <td>Handlers-cleaners</td>\n",
       "      <td>Not-in-family</td>\n",
       "      <td>White</td>\n",
       "      <td>Male</td>\n",
       "      <td>0</td>\n",
       "      <td>0</td>\n",
       "      <td>40</td>\n",
       "      <td>United-States</td>\n",
       "      <td>&lt;=50K</td>\n",
       "    </tr>\n",
       "    <tr>\n",
       "      <th>3</th>\n",
       "      <td>53</td>\n",
       "      <td>Private</td>\n",
       "      <td>234721</td>\n",
       "      <td>11th</td>\n",
       "      <td>7</td>\n",
       "      <td>Married-civ-spouse</td>\n",
       "      <td>Handlers-cleaners</td>\n",
       "      <td>Husband</td>\n",
       "      <td>Black</td>\n",
       "      <td>Male</td>\n",
       "      <td>0</td>\n",
       "      <td>0</td>\n",
       "      <td>40</td>\n",
       "      <td>United-States</td>\n",
       "      <td>&lt;=50K</td>\n",
       "    </tr>\n",
       "    <tr>\n",
       "      <th>4</th>\n",
       "      <td>28</td>\n",
       "      <td>Private</td>\n",
       "      <td>338409</td>\n",
       "      <td>Bachelors</td>\n",
       "      <td>13</td>\n",
       "      <td>Married-civ-spouse</td>\n",
       "      <td>Prof-specialty</td>\n",
       "      <td>Wife</td>\n",
       "      <td>Black</td>\n",
       "      <td>Female</td>\n",
       "      <td>0</td>\n",
       "      <td>0</td>\n",
       "      <td>40</td>\n",
       "      <td>Cuba</td>\n",
       "      <td>&lt;=50K</td>\n",
       "    </tr>\n",
       "  </tbody>\n",
       "</table>\n",
       "</div>"
      ],
      "text/plain": [
       "   0                  1       2           3   4                    5   \\\n",
       "0  39          State-gov   77516   Bachelors  13        Never-married   \n",
       "1  50   Self-emp-not-inc   83311   Bachelors  13   Married-civ-spouse   \n",
       "2  38            Private  215646     HS-grad   9             Divorced   \n",
       "3  53            Private  234721        11th   7   Married-civ-spouse   \n",
       "4  28            Private  338409   Bachelors  13   Married-civ-spouse   \n",
       "\n",
       "                   6               7       8        9     10  11  12  \\\n",
       "0        Adm-clerical   Not-in-family   White     Male  2174   0  40   \n",
       "1     Exec-managerial         Husband   White     Male     0   0  13   \n",
       "2   Handlers-cleaners   Not-in-family   White     Male     0   0  40   \n",
       "3   Handlers-cleaners         Husband   Black     Male     0   0  40   \n",
       "4      Prof-specialty            Wife   Black   Female     0   0  40   \n",
       "\n",
       "               13      14  \n",
       "0   United-States   <=50K  \n",
       "1   United-States   <=50K  \n",
       "2   United-States   <=50K  \n",
       "3   United-States   <=50K  \n",
       "4            Cuba   <=50K  "
      ]
     },
<<<<<<< HEAD
     "execution_count": 79,
=======
     "execution_count": 3,
>>>>>>> upstream/master
     "metadata": {},
     "output_type": "execute_result"
    }
   ],
   "source": [
    "adults.head()"
   ]
  },
  {
   "cell_type": "code",
   "execution_count": 4,
   "metadata": {
    "scrolled": false
   },
   "outputs": [],
   "source": [
    "# Check the first few rows \n"
   ]
  },
  {
   "cell_type": "code",
   "execution_count": 5,
   "metadata": {},
   "outputs": [],
   "source": [
    "# add the columns to dataset\n",
    "columns = ['age', 'workclass', 'fnlwgt', 'education', 'education-num', 'marital_status','occupation', 'relationship', 'race', 'sex', 'capital_gain', 'capital_loss', 'hours_per_week', 'native_country','income']"
   ]
  },
  {
   "cell_type": "code",
   "execution_count": 6,
   "metadata": {},
   "outputs": [],
   "source": [
    "adults.columns = columns"
   ]
  },
  {
   "cell_type": "code",
   "execution_count": null,
   "metadata": {},
   "outputs": [],
   "source": []
  },
  {
   "cell_type": "code",
   "execution_count": null,
   "metadata": {
    "scrolled": true
   },
   "outputs": [],
   "source": [
    "# check the info of dataset\n"
   ]
  },
  {
   "cell_type": "code",
   "execution_count": null,
   "metadata": {},
   "outputs": [],
   "source": [
    "# check missing values\n"
   ]
  },
  {
   "cell_type": "code",
   "execution_count": null,
   "metadata": {
    "scrolled": true
   },
   "outputs": [],
   "source": [
    "# perform some queries - find the total num female & bachelors\n"
   ]
  },
  {
   "cell_type": "code",
   "execution_count": 8,
   "metadata": {},
   "outputs": [
    {
     "data": {
      "text/html": [
       "<div>\n",
       "<style scoped>\n",
       "    .dataframe tbody tr th:only-of-type {\n",
       "        vertical-align: middle;\n",
       "    }\n",
       "\n",
       "    .dataframe tbody tr th {\n",
       "        vertical-align: top;\n",
       "    }\n",
       "\n",
       "    .dataframe thead th {\n",
       "        text-align: right;\n",
       "    }\n",
       "</style>\n",
       "<table border=\"1\" class=\"dataframe\">\n",
       "  <thead>\n",
       "    <tr style=\"text-align: right;\">\n",
       "      <th></th>\n",
       "      <th>age</th>\n",
       "      <th>workclass</th>\n",
       "      <th>fnlwgt</th>\n",
       "      <th>education</th>\n",
       "      <th>education-num</th>\n",
       "      <th>marital_status</th>\n",
       "      <th>occupation</th>\n",
       "      <th>relationship</th>\n",
       "      <th>race</th>\n",
       "      <th>sex</th>\n",
       "      <th>capital_gain</th>\n",
       "      <th>capital_loss</th>\n",
       "      <th>hours_per_week</th>\n",
       "      <th>native_country</th>\n",
       "      <th>income</th>\n",
       "    </tr>\n",
       "  </thead>\n",
       "  <tbody>\n",
       "    <tr>\n",
       "      <th>0</th>\n",
       "      <td>39</td>\n",
       "      <td>State-gov</td>\n",
       "      <td>77516</td>\n",
       "      <td>Bachelors</td>\n",
       "      <td>13</td>\n",
       "      <td>Never-married</td>\n",
       "      <td>Adm-clerical</td>\n",
       "      <td>Not-in-family</td>\n",
       "      <td>White</td>\n",
       "      <td>Male</td>\n",
       "      <td>2174</td>\n",
       "      <td>0</td>\n",
       "      <td>40</td>\n",
       "      <td>United-States</td>\n",
       "      <td>&lt;=50K</td>\n",
       "    </tr>\n",
       "    <tr>\n",
       "      <th>1</th>\n",
       "      <td>50</td>\n",
       "      <td>Self-emp-not-inc</td>\n",
       "      <td>83311</td>\n",
       "      <td>Bachelors</td>\n",
       "      <td>13</td>\n",
       "      <td>Married-civ-spouse</td>\n",
       "      <td>Exec-managerial</td>\n",
       "      <td>Husband</td>\n",
       "      <td>White</td>\n",
       "      <td>Male</td>\n",
       "      <td>0</td>\n",
       "      <td>0</td>\n",
       "      <td>13</td>\n",
       "      <td>United-States</td>\n",
       "      <td>&lt;=50K</td>\n",
       "    </tr>\n",
       "    <tr>\n",
       "      <th>2</th>\n",
       "      <td>38</td>\n",
       "      <td>Private</td>\n",
       "      <td>215646</td>\n",
       "      <td>HS-grad</td>\n",
       "      <td>9</td>\n",
       "      <td>Divorced</td>\n",
       "      <td>Handlers-cleaners</td>\n",
       "      <td>Not-in-family</td>\n",
       "      <td>White</td>\n",
       "      <td>Male</td>\n",
       "      <td>0</td>\n",
       "      <td>0</td>\n",
       "      <td>40</td>\n",
       "      <td>United-States</td>\n",
       "      <td>&lt;=50K</td>\n",
       "    </tr>\n",
       "    <tr>\n",
       "      <th>3</th>\n",
       "      <td>53</td>\n",
       "      <td>Private</td>\n",
       "      <td>234721</td>\n",
       "      <td>11th</td>\n",
       "      <td>7</td>\n",
       "      <td>Married-civ-spouse</td>\n",
       "      <td>Handlers-cleaners</td>\n",
       "      <td>Husband</td>\n",
       "      <td>Black</td>\n",
       "      <td>Male</td>\n",
       "      <td>0</td>\n",
       "      <td>0</td>\n",
       "      <td>40</td>\n",
       "      <td>United-States</td>\n",
       "      <td>&lt;=50K</td>\n",
       "    </tr>\n",
       "    <tr>\n",
       "      <th>4</th>\n",
       "      <td>28</td>\n",
       "      <td>Private</td>\n",
       "      <td>338409</td>\n",
       "      <td>Bachelors</td>\n",
       "      <td>13</td>\n",
       "      <td>Married-civ-spouse</td>\n",
       "      <td>Prof-specialty</td>\n",
       "      <td>Wife</td>\n",
       "      <td>Black</td>\n",
       "      <td>Female</td>\n",
       "      <td>0</td>\n",
       "      <td>0</td>\n",
       "      <td>40</td>\n",
       "      <td>Cuba</td>\n",
       "      <td>&lt;=50K</td>\n",
       "    </tr>\n",
       "  </tbody>\n",
       "</table>\n",
       "</div>"
      ],
      "text/plain": [
       "   age          workclass  fnlwgt   education  education-num  \\\n",
       "0   39          State-gov   77516   Bachelors             13   \n",
       "1   50   Self-emp-not-inc   83311   Bachelors             13   \n",
       "2   38            Private  215646     HS-grad              9   \n",
       "3   53            Private  234721        11th              7   \n",
       "4   28            Private  338409   Bachelors             13   \n",
       "\n",
       "        marital_status          occupation    relationship    race      sex  \\\n",
       "0        Never-married        Adm-clerical   Not-in-family   White     Male   \n",
       "1   Married-civ-spouse     Exec-managerial         Husband   White     Male   \n",
       "2             Divorced   Handlers-cleaners   Not-in-family   White     Male   \n",
       "3   Married-civ-spouse   Handlers-cleaners         Husband   Black     Male   \n",
       "4   Married-civ-spouse      Prof-specialty            Wife   Black   Female   \n",
       "\n",
       "   capital_gain  capital_loss  hours_per_week  native_country  income  \n",
       "0          2174             0              40   United-States   <=50K  \n",
       "1             0             0              13   United-States   <=50K  \n",
       "2             0             0              40   United-States   <=50K  \n",
       "3             0             0              40   United-States   <=50K  \n",
       "4             0             0              40            Cuba   <=50K  "
      ]
     },
     "execution_count": 8,
     "metadata": {},
     "output_type": "execute_result"
    }
   ],
   "source": [
    "adults.head()"
   ]
  },
  {
   "cell_type": "code",
   "execution_count": null,
   "metadata": {},
   "outputs": [],
   "source": [
    "# seems like we have data anolmaly, find out what that is and fix it \n",
    "# hint - tons of entries contain white space, remove it!"
   ]
  },
  {
   "cell_type": "code",
   "execution_count": 12,
   "metadata": {
    "scrolled": true
   },
   "outputs": [
    {
     "data": {
      "text/html": [
       "<div>\n",
       "<style scoped>\n",
       "    .dataframe tbody tr th:only-of-type {\n",
       "        vertical-align: middle;\n",
       "    }\n",
       "\n",
       "    .dataframe tbody tr th {\n",
       "        vertical-align: top;\n",
       "    }\n",
       "\n",
       "    .dataframe thead th {\n",
       "        text-align: right;\n",
       "    }\n",
       "</style>\n",
       "<table border=\"1\" class=\"dataframe\">\n",
       "  <thead>\n",
       "    <tr style=\"text-align: right;\">\n",
       "      <th></th>\n",
       "      <th>age</th>\n",
       "      <th>workclass</th>\n",
       "      <th>fnlwgt</th>\n",
       "      <th>education</th>\n",
       "      <th>education-num</th>\n",
       "      <th>marital_status</th>\n",
       "      <th>occupation</th>\n",
       "      <th>relationship</th>\n",
       "      <th>race</th>\n",
       "      <th>sex</th>\n",
       "      <th>capital_gain</th>\n",
       "      <th>capital_loss</th>\n",
       "      <th>hours_per_week</th>\n",
       "      <th>native_country</th>\n",
       "      <th>income</th>\n",
       "    </tr>\n",
       "  </thead>\n",
       "  <tbody>\n",
       "    <tr>\n",
       "      <th>0</th>\n",
       "      <td>39</td>\n",
       "      <td>[State-gov]</td>\n",
       "      <td>77516</td>\n",
       "      <td>[Bachelors]</td>\n",
       "      <td>13</td>\n",
       "      <td>[Never-married]</td>\n",
       "      <td>[Adm-clerical]</td>\n",
       "      <td>[Not-in-family]</td>\n",
       "      <td>[White]</td>\n",
       "      <td>[Male]</td>\n",
       "      <td>2174</td>\n",
       "      <td>0</td>\n",
       "      <td>40</td>\n",
       "      <td>[United-States]</td>\n",
       "      <td>[&lt;=50K]</td>\n",
       "    </tr>\n",
       "    <tr>\n",
       "      <th>1</th>\n",
       "      <td>50</td>\n",
       "      <td>[Self-emp-not-inc]</td>\n",
       "      <td>83311</td>\n",
       "      <td>[Bachelors]</td>\n",
       "      <td>13</td>\n",
       "      <td>[Married-civ-spouse]</td>\n",
       "      <td>[Exec-managerial]</td>\n",
       "      <td>[Husband]</td>\n",
       "      <td>[White]</td>\n",
       "      <td>[Male]</td>\n",
       "      <td>0</td>\n",
       "      <td>0</td>\n",
       "      <td>13</td>\n",
       "      <td>[United-States]</td>\n",
       "      <td>[&lt;=50K]</td>\n",
       "    </tr>\n",
       "    <tr>\n",
       "      <th>2</th>\n",
       "      <td>38</td>\n",
       "      <td>[Private]</td>\n",
       "      <td>215646</td>\n",
       "      <td>[HS-grad]</td>\n",
       "      <td>9</td>\n",
       "      <td>[Divorced]</td>\n",
       "      <td>[Handlers-cleaners]</td>\n",
       "      <td>[Not-in-family]</td>\n",
       "      <td>[White]</td>\n",
       "      <td>[Male]</td>\n",
       "      <td>0</td>\n",
       "      <td>0</td>\n",
       "      <td>40</td>\n",
       "      <td>[United-States]</td>\n",
       "      <td>[&lt;=50K]</td>\n",
       "    </tr>\n",
       "    <tr>\n",
       "      <th>3</th>\n",
       "      <td>53</td>\n",
       "      <td>[Private]</td>\n",
       "      <td>234721</td>\n",
       "      <td>[11th]</td>\n",
       "      <td>7</td>\n",
       "      <td>[Married-civ-spouse]</td>\n",
       "      <td>[Handlers-cleaners]</td>\n",
       "      <td>[Husband]</td>\n",
       "      <td>[Black]</td>\n",
       "      <td>[Male]</td>\n",
       "      <td>0</td>\n",
       "      <td>0</td>\n",
       "      <td>40</td>\n",
       "      <td>[United-States]</td>\n",
       "      <td>[&lt;=50K]</td>\n",
       "    </tr>\n",
       "    <tr>\n",
       "      <th>4</th>\n",
       "      <td>28</td>\n",
       "      <td>[Private]</td>\n",
       "      <td>338409</td>\n",
       "      <td>[Bachelors]</td>\n",
       "      <td>13</td>\n",
       "      <td>[Married-civ-spouse]</td>\n",
       "      <td>[Prof-specialty]</td>\n",
       "      <td>[Wife]</td>\n",
       "      <td>[Black]</td>\n",
       "      <td>[Female]</td>\n",
       "      <td>0</td>\n",
       "      <td>0</td>\n",
       "      <td>40</td>\n",
       "      <td>[Cuba]</td>\n",
       "      <td>[&lt;=50K]</td>\n",
       "    </tr>\n",
       "    <tr>\n",
       "      <th>...</th>\n",
       "      <td>...</td>\n",
       "      <td>...</td>\n",
       "      <td>...</td>\n",
       "      <td>...</td>\n",
       "      <td>...</td>\n",
       "      <td>...</td>\n",
       "      <td>...</td>\n",
       "      <td>...</td>\n",
       "      <td>...</td>\n",
       "      <td>...</td>\n",
       "      <td>...</td>\n",
       "      <td>...</td>\n",
       "      <td>...</td>\n",
       "      <td>...</td>\n",
       "      <td>...</td>\n",
       "    </tr>\n",
       "    <tr>\n",
       "      <th>32556</th>\n",
       "      <td>27</td>\n",
       "      <td>[Private]</td>\n",
       "      <td>257302</td>\n",
       "      <td>[Assoc-acdm]</td>\n",
       "      <td>12</td>\n",
       "      <td>[Married-civ-spouse]</td>\n",
       "      <td>[Tech-support]</td>\n",
       "      <td>[Wife]</td>\n",
       "      <td>[White]</td>\n",
       "      <td>[Female]</td>\n",
       "      <td>0</td>\n",
       "      <td>0</td>\n",
       "      <td>38</td>\n",
       "      <td>[United-States]</td>\n",
       "      <td>[&lt;=50K]</td>\n",
       "    </tr>\n",
       "    <tr>\n",
       "      <th>32557</th>\n",
       "      <td>40</td>\n",
       "      <td>[Private]</td>\n",
       "      <td>154374</td>\n",
       "      <td>[HS-grad]</td>\n",
       "      <td>9</td>\n",
       "      <td>[Married-civ-spouse]</td>\n",
       "      <td>[Machine-op-inspct]</td>\n",
       "      <td>[Husband]</td>\n",
       "      <td>[White]</td>\n",
       "      <td>[Male]</td>\n",
       "      <td>0</td>\n",
       "      <td>0</td>\n",
       "      <td>40</td>\n",
       "      <td>[United-States]</td>\n",
       "      <td>[&gt;50K]</td>\n",
       "    </tr>\n",
       "    <tr>\n",
       "      <th>32558</th>\n",
       "      <td>58</td>\n",
       "      <td>[Private]</td>\n",
       "      <td>151910</td>\n",
       "      <td>[HS-grad]</td>\n",
       "      <td>9</td>\n",
       "      <td>[Widowed]</td>\n",
       "      <td>[Adm-clerical]</td>\n",
       "      <td>[Unmarried]</td>\n",
       "      <td>[White]</td>\n",
       "      <td>[Female]</td>\n",
       "      <td>0</td>\n",
       "      <td>0</td>\n",
       "      <td>40</td>\n",
       "      <td>[United-States]</td>\n",
       "      <td>[&lt;=50K]</td>\n",
       "    </tr>\n",
       "    <tr>\n",
       "      <th>32559</th>\n",
       "      <td>22</td>\n",
       "      <td>[Private]</td>\n",
       "      <td>201490</td>\n",
       "      <td>[HS-grad]</td>\n",
       "      <td>9</td>\n",
       "      <td>[Never-married]</td>\n",
       "      <td>[Adm-clerical]</td>\n",
       "      <td>[Own-child]</td>\n",
       "      <td>[White]</td>\n",
       "      <td>[Male]</td>\n",
       "      <td>0</td>\n",
       "      <td>0</td>\n",
       "      <td>20</td>\n",
       "      <td>[United-States]</td>\n",
       "      <td>[&lt;=50K]</td>\n",
       "    </tr>\n",
       "    <tr>\n",
       "      <th>32560</th>\n",
       "      <td>52</td>\n",
       "      <td>[Self-emp-inc]</td>\n",
       "      <td>287927</td>\n",
       "      <td>[HS-grad]</td>\n",
       "      <td>9</td>\n",
       "      <td>[Married-civ-spouse]</td>\n",
       "      <td>[Exec-managerial]</td>\n",
       "      <td>[Wife]</td>\n",
       "      <td>[White]</td>\n",
       "      <td>[Female]</td>\n",
       "      <td>15024</td>\n",
       "      <td>0</td>\n",
       "      <td>40</td>\n",
       "      <td>[United-States]</td>\n",
       "      <td>[&gt;50K]</td>\n",
       "    </tr>\n",
       "  </tbody>\n",
       "</table>\n",
       "<p>32561 rows × 15 columns</p>\n",
       "</div>"
      ],
      "text/plain": [
       "       age           workclass  fnlwgt     education  education-num  \\\n",
       "0       39         [State-gov]   77516   [Bachelors]             13   \n",
       "1       50  [Self-emp-not-inc]   83311   [Bachelors]             13   \n",
       "2       38           [Private]  215646     [HS-grad]              9   \n",
       "3       53           [Private]  234721        [11th]              7   \n",
       "4       28           [Private]  338409   [Bachelors]             13   \n",
       "...    ...                 ...     ...           ...            ...   \n",
       "32556   27           [Private]  257302  [Assoc-acdm]             12   \n",
       "32557   40           [Private]  154374     [HS-grad]              9   \n",
       "32558   58           [Private]  151910     [HS-grad]              9   \n",
       "32559   22           [Private]  201490     [HS-grad]              9   \n",
       "32560   52      [Self-emp-inc]  287927     [HS-grad]              9   \n",
       "\n",
       "             marital_status           occupation     relationship     race  \\\n",
       "0           [Never-married]       [Adm-clerical]  [Not-in-family]  [White]   \n",
       "1      [Married-civ-spouse]    [Exec-managerial]        [Husband]  [White]   \n",
       "2                [Divorced]  [Handlers-cleaners]  [Not-in-family]  [White]   \n",
       "3      [Married-civ-spouse]  [Handlers-cleaners]        [Husband]  [Black]   \n",
       "4      [Married-civ-spouse]     [Prof-specialty]           [Wife]  [Black]   \n",
       "...                     ...                  ...              ...      ...   \n",
       "32556  [Married-civ-spouse]       [Tech-support]           [Wife]  [White]   \n",
       "32557  [Married-civ-spouse]  [Machine-op-inspct]        [Husband]  [White]   \n",
       "32558             [Widowed]       [Adm-clerical]      [Unmarried]  [White]   \n",
       "32559       [Never-married]       [Adm-clerical]      [Own-child]  [White]   \n",
       "32560  [Married-civ-spouse]    [Exec-managerial]           [Wife]  [White]   \n",
       "\n",
       "            sex  capital_gain  capital_loss  hours_per_week   native_country  \\\n",
       "0        [Male]          2174             0              40  [United-States]   \n",
       "1        [Male]             0             0              13  [United-States]   \n",
       "2        [Male]             0             0              40  [United-States]   \n",
       "3        [Male]             0             0              40  [United-States]   \n",
       "4      [Female]             0             0              40           [Cuba]   \n",
       "...         ...           ...           ...             ...              ...   \n",
       "32556  [Female]             0             0              38  [United-States]   \n",
       "32557    [Male]             0             0              40  [United-States]   \n",
       "32558  [Female]             0             0              40  [United-States]   \n",
       "32559    [Male]             0             0              20  [United-States]   \n",
       "32560  [Female]         15024             0              40  [United-States]   \n",
       "\n",
       "        income  \n",
       "0      [<=50K]  \n",
       "1      [<=50K]  \n",
       "2      [<=50K]  \n",
       "3      [<=50K]  \n",
       "4      [<=50K]  \n",
       "...        ...  \n",
       "32556  [<=50K]  \n",
       "32557   [>50K]  \n",
       "32558  [<=50K]  \n",
       "32559  [<=50K]  \n",
       "32560   [>50K]  \n",
       "\n",
       "[32561 rows x 15 columns]"
      ]
     },
     "execution_count": 12,
     "metadata": {},
     "output_type": "execute_result"
    }
   ],
   "source": [
    "adults.applymap(lambda x: x.split() if type(x) == str else x)"
   ]
  },
  {
   "cell_type": "code",
   "execution_count": 14,
   "metadata": {},
   "outputs": [],
   "source": [
    "import matplotlib.pyplot as plt\n",
    "%matplotlib inline"
   ]
  },
  {
   "cell_type": "code",
   "execution_count": 17,
   "metadata": {},
   "outputs": [],
   "source": [
    "y = adults['occupation'].value_counts().values\n",
    "x = adults['occupation'].value_counts().index"
   ]
  },
  {
   "cell_type": "code",
   "execution_count": 20,
   "metadata": {},
   "outputs": [
    {
     "data": {
      "text/plain": [
       "<BarContainer object of 15 artists>"
      ]
     },
     "execution_count": 20,
     "metadata": {},
     "output_type": "execute_result"
    },
    {
     "data": {
      "image/png": "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\n",
      "text/plain": [
       "<Figure size 1440x720 with 1 Axes>"
      ]
     },
     "metadata": {
      "needs_background": "light"
     },
     "output_type": "display_data"
    }
   ],
   "source": [
    "# subsetting multiple cols\n",
    "plt.figure(figsize=(20,10))\n",
    "plt.bar(x,y)"
   ]
  },
  {
   "cell_type": "code",
   "execution_count": null,
   "metadata": {},
   "outputs": [],
   "source": [
    "# create a column called income_binary, 1 if >50k and 0 otherwise"
   ]
  },
  {
   "cell_type": "code",
   "execution_count": null,
   "metadata": {},
   "outputs": [],
   "source": [
    "# get some descriptive statistics of the income distribution "
   ]
  }
 ],
 "metadata": {
  "kernelspec": {
   "display_name": "Python 3",
   "language": "python",
   "name": "python3"
  },
  "language_info": {
   "codemirror_mode": {
    "name": "ipython",
    "version": 3
   },
   "file_extension": ".py",
   "mimetype": "text/x-python",
   "name": "python",
   "nbconvert_exporter": "python",
   "pygments_lexer": "ipython3",
   "version": "3.6.9"
  }
 },
 "nbformat": 4,
 "nbformat_minor": 2
}
