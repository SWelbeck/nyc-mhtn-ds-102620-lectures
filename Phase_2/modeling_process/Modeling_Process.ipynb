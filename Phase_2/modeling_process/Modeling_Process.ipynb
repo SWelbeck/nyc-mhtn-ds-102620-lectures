{
 "cells": [
  {
   "cell_type": "markdown",
   "metadata": {},
   "source": [
    "# Modeling Process\n",
    "\n",
    "**Cross-industry standard process for data mining**, known as **CRISP-DM**, is an open standard process model that describes common approaches used by data mining experts. It is the most widely-used analytics model.\n",
    "\n",
    "6 high level phases of the data mining process:\n",
    "- Business Understanding\n",
    "- Data Understanding\n",
    "- Data Preparation\n",
    "- Modeling\n",
    "- Evaluation\n",
    "- Deployment\n",
    "\n",
    "The sequence of the phases is not strict and moving back and forth between different phases as it is always required.\n",
    "\n",
    "\n",
    "<img src='https://www.kdnuggets.com/wp-content/uploads/crisp-dm-4-problems-fig1.png' width =\"400\">"
   ]
  },
  {
   "cell_type": "code",
   "execution_count": 1,
   "metadata": {},
   "outputs": [],
   "source": [
    "\n",
    "import numpy as np \n",
    "import pandas as pd\n",
    "import seaborn as sns\n",
    "from datetime import datetime\n",
    "import matplotlib.pyplot as plt\n",
    "%matplotlib inline\n",
    "pd.set_option('display.max_columns', 100)"
   ]
  },
  {
   "cell_type": "code",
   "execution_count": 2,
   "metadata": {},
   "outputs": [
    {
     "name": "stdout",
     "output_type": "stream",
     "text": [
      "(5043, 28)\n"
     ]
    },
    {
     "data": {
      "text/html": [
       "<div>\n",
       "<style scoped>\n",
       "    .dataframe tbody tr th:only-of-type {\n",
       "        vertical-align: middle;\n",
       "    }\n",
       "\n",
       "    .dataframe tbody tr th {\n",
       "        vertical-align: top;\n",
       "    }\n",
       "\n",
       "    .dataframe thead th {\n",
       "        text-align: right;\n",
       "    }\n",
       "</style>\n",
       "<table border=\"1\" class=\"dataframe\">\n",
       "  <thead>\n",
       "    <tr style=\"text-align: right;\">\n",
       "      <th></th>\n",
       "      <th>color</th>\n",
       "      <th>director_name</th>\n",
       "      <th>num_critic_for_reviews</th>\n",
       "      <th>duration</th>\n",
       "      <th>director_facebook_likes</th>\n",
       "      <th>actor_3_facebook_likes</th>\n",
       "      <th>actor_2_name</th>\n",
       "      <th>actor_1_facebook_likes</th>\n",
       "      <th>gross</th>\n",
       "      <th>genres</th>\n",
       "      <th>actor_1_name</th>\n",
       "      <th>movie_title</th>\n",
       "      <th>num_voted_users</th>\n",
       "      <th>cast_total_facebook_likes</th>\n",
       "      <th>actor_3_name</th>\n",
       "      <th>facenumber_in_poster</th>\n",
       "      <th>plot_keywords</th>\n",
       "      <th>movie_imdb_link</th>\n",
       "      <th>num_user_for_reviews</th>\n",
       "      <th>language</th>\n",
       "      <th>country</th>\n",
       "      <th>content_rating</th>\n",
       "      <th>budget</th>\n",
       "      <th>title_year</th>\n",
       "      <th>actor_2_facebook_likes</th>\n",
       "      <th>imdb_score</th>\n",
       "      <th>aspect_ratio</th>\n",
       "      <th>movie_facebook_likes</th>\n",
       "    </tr>\n",
       "  </thead>\n",
       "  <tbody>\n",
       "    <tr>\n",
       "      <th>0</th>\n",
       "      <td>Color</td>\n",
       "      <td>James Cameron</td>\n",
       "      <td>723.0</td>\n",
       "      <td>178.0</td>\n",
       "      <td>0.0</td>\n",
       "      <td>855.0</td>\n",
       "      <td>Joel David Moore</td>\n",
       "      <td>1000.0</td>\n",
       "      <td>760505847.0</td>\n",
       "      <td>Action|Adventure|Fantasy|Sci-Fi</td>\n",
       "      <td>CCH Pounder</td>\n",
       "      <td>Avatar</td>\n",
       "      <td>886204</td>\n",
       "      <td>4834</td>\n",
       "      <td>Wes Studi</td>\n",
       "      <td>0.0</td>\n",
       "      <td>avatar|future|marine|native|paraplegic</td>\n",
       "      <td>http://www.imdb.com/title/tt0499549/?ref_=fn_t...</td>\n",
       "      <td>3054.0</td>\n",
       "      <td>English</td>\n",
       "      <td>USA</td>\n",
       "      <td>PG-13</td>\n",
       "      <td>237000000.0</td>\n",
       "      <td>2009.0</td>\n",
       "      <td>936.0</td>\n",
       "      <td>7.9</td>\n",
       "      <td>1.78</td>\n",
       "      <td>33000</td>\n",
       "    </tr>\n",
       "    <tr>\n",
       "      <th>1</th>\n",
       "      <td>Color</td>\n",
       "      <td>Gore Verbinski</td>\n",
       "      <td>302.0</td>\n",
       "      <td>169.0</td>\n",
       "      <td>563.0</td>\n",
       "      <td>1000.0</td>\n",
       "      <td>Orlando Bloom</td>\n",
       "      <td>40000.0</td>\n",
       "      <td>309404152.0</td>\n",
       "      <td>Action|Adventure|Fantasy</td>\n",
       "      <td>Johnny Depp</td>\n",
       "      <td>Pirates of the Caribbean: At World's End</td>\n",
       "      <td>471220</td>\n",
       "      <td>48350</td>\n",
       "      <td>Jack Davenport</td>\n",
       "      <td>0.0</td>\n",
       "      <td>goddess|marriage ceremony|marriage proposal|pi...</td>\n",
       "      <td>http://www.imdb.com/title/tt0449088/?ref_=fn_t...</td>\n",
       "      <td>1238.0</td>\n",
       "      <td>English</td>\n",
       "      <td>USA</td>\n",
       "      <td>PG-13</td>\n",
       "      <td>300000000.0</td>\n",
       "      <td>2007.0</td>\n",
       "      <td>5000.0</td>\n",
       "      <td>7.1</td>\n",
       "      <td>2.35</td>\n",
       "      <td>0</td>\n",
       "    </tr>\n",
       "    <tr>\n",
       "      <th>2</th>\n",
       "      <td>Color</td>\n",
       "      <td>Sam Mendes</td>\n",
       "      <td>602.0</td>\n",
       "      <td>148.0</td>\n",
       "      <td>0.0</td>\n",
       "      <td>161.0</td>\n",
       "      <td>Rory Kinnear</td>\n",
       "      <td>11000.0</td>\n",
       "      <td>200074175.0</td>\n",
       "      <td>Action|Adventure|Thriller</td>\n",
       "      <td>Christoph Waltz</td>\n",
       "      <td>Spectre</td>\n",
       "      <td>275868</td>\n",
       "      <td>11700</td>\n",
       "      <td>Stephanie Sigman</td>\n",
       "      <td>1.0</td>\n",
       "      <td>bomb|espionage|sequel|spy|terrorist</td>\n",
       "      <td>http://www.imdb.com/title/tt2379713/?ref_=fn_t...</td>\n",
       "      <td>994.0</td>\n",
       "      <td>English</td>\n",
       "      <td>UK</td>\n",
       "      <td>PG-13</td>\n",
       "      <td>245000000.0</td>\n",
       "      <td>2015.0</td>\n",
       "      <td>393.0</td>\n",
       "      <td>6.8</td>\n",
       "      <td>2.35</td>\n",
       "      <td>85000</td>\n",
       "    </tr>\n",
       "    <tr>\n",
       "      <th>3</th>\n",
       "      <td>Color</td>\n",
       "      <td>Christopher Nolan</td>\n",
       "      <td>813.0</td>\n",
       "      <td>164.0</td>\n",
       "      <td>22000.0</td>\n",
       "      <td>23000.0</td>\n",
       "      <td>Christian Bale</td>\n",
       "      <td>27000.0</td>\n",
       "      <td>448130642.0</td>\n",
       "      <td>Action|Thriller</td>\n",
       "      <td>Tom Hardy</td>\n",
       "      <td>The Dark Knight Rises</td>\n",
       "      <td>1144337</td>\n",
       "      <td>106759</td>\n",
       "      <td>Joseph Gordon-Levitt</td>\n",
       "      <td>0.0</td>\n",
       "      <td>deception|imprisonment|lawlessness|police offi...</td>\n",
       "      <td>http://www.imdb.com/title/tt1345836/?ref_=fn_t...</td>\n",
       "      <td>2701.0</td>\n",
       "      <td>English</td>\n",
       "      <td>USA</td>\n",
       "      <td>PG-13</td>\n",
       "      <td>250000000.0</td>\n",
       "      <td>2012.0</td>\n",
       "      <td>23000.0</td>\n",
       "      <td>8.5</td>\n",
       "      <td>2.35</td>\n",
       "      <td>164000</td>\n",
       "    </tr>\n",
       "    <tr>\n",
       "      <th>4</th>\n",
       "      <td>NaN</td>\n",
       "      <td>Doug Walker</td>\n",
       "      <td>NaN</td>\n",
       "      <td>NaN</td>\n",
       "      <td>131.0</td>\n",
       "      <td>NaN</td>\n",
       "      <td>Rob Walker</td>\n",
       "      <td>131.0</td>\n",
       "      <td>NaN</td>\n",
       "      <td>Documentary</td>\n",
       "      <td>Doug Walker</td>\n",
       "      <td>Star Wars: Episode VII - The Force Awakens    ...</td>\n",
       "      <td>8</td>\n",
       "      <td>143</td>\n",
       "      <td>NaN</td>\n",
       "      <td>0.0</td>\n",
       "      <td>NaN</td>\n",
       "      <td>http://www.imdb.com/title/tt5289954/?ref_=fn_t...</td>\n",
       "      <td>NaN</td>\n",
       "      <td>NaN</td>\n",
       "      <td>NaN</td>\n",
       "      <td>NaN</td>\n",
       "      <td>NaN</td>\n",
       "      <td>NaN</td>\n",
       "      <td>12.0</td>\n",
       "      <td>7.1</td>\n",
       "      <td>NaN</td>\n",
       "      <td>0</td>\n",
       "    </tr>\n",
       "  </tbody>\n",
       "</table>\n",
       "</div>"
      ],
      "text/plain": [
       "   color      director_name  num_critic_for_reviews  duration  \\\n",
       "0  Color      James Cameron                   723.0     178.0   \n",
       "1  Color     Gore Verbinski                   302.0     169.0   \n",
       "2  Color         Sam Mendes                   602.0     148.0   \n",
       "3  Color  Christopher Nolan                   813.0     164.0   \n",
       "4    NaN        Doug Walker                     NaN       NaN   \n",
       "\n",
       "   director_facebook_likes  actor_3_facebook_likes      actor_2_name  \\\n",
       "0                      0.0                   855.0  Joel David Moore   \n",
       "1                    563.0                  1000.0     Orlando Bloom   \n",
       "2                      0.0                   161.0      Rory Kinnear   \n",
       "3                  22000.0                 23000.0    Christian Bale   \n",
       "4                    131.0                     NaN        Rob Walker   \n",
       "\n",
       "   actor_1_facebook_likes        gross                           genres  \\\n",
       "0                  1000.0  760505847.0  Action|Adventure|Fantasy|Sci-Fi   \n",
       "1                 40000.0  309404152.0         Action|Adventure|Fantasy   \n",
       "2                 11000.0  200074175.0        Action|Adventure|Thriller   \n",
       "3                 27000.0  448130642.0                  Action|Thriller   \n",
       "4                   131.0          NaN                      Documentary   \n",
       "\n",
       "      actor_1_name                                        movie_title  \\\n",
       "0      CCH Pounder                                            Avatar    \n",
       "1      Johnny Depp          Pirates of the Caribbean: At World's End    \n",
       "2  Christoph Waltz                                           Spectre    \n",
       "3        Tom Hardy                             The Dark Knight Rises    \n",
       "4      Doug Walker  Star Wars: Episode VII - The Force Awakens    ...   \n",
       "\n",
       "   num_voted_users  cast_total_facebook_likes          actor_3_name  \\\n",
       "0           886204                       4834             Wes Studi   \n",
       "1           471220                      48350        Jack Davenport   \n",
       "2           275868                      11700      Stephanie Sigman   \n",
       "3          1144337                     106759  Joseph Gordon-Levitt   \n",
       "4                8                        143                   NaN   \n",
       "\n",
       "   facenumber_in_poster                                      plot_keywords  \\\n",
       "0                   0.0             avatar|future|marine|native|paraplegic   \n",
       "1                   0.0  goddess|marriage ceremony|marriage proposal|pi...   \n",
       "2                   1.0                bomb|espionage|sequel|spy|terrorist   \n",
       "3                   0.0  deception|imprisonment|lawlessness|police offi...   \n",
       "4                   0.0                                                NaN   \n",
       "\n",
       "                                     movie_imdb_link  num_user_for_reviews  \\\n",
       "0  http://www.imdb.com/title/tt0499549/?ref_=fn_t...                3054.0   \n",
       "1  http://www.imdb.com/title/tt0449088/?ref_=fn_t...                1238.0   \n",
       "2  http://www.imdb.com/title/tt2379713/?ref_=fn_t...                 994.0   \n",
       "3  http://www.imdb.com/title/tt1345836/?ref_=fn_t...                2701.0   \n",
       "4  http://www.imdb.com/title/tt5289954/?ref_=fn_t...                   NaN   \n",
       "\n",
       "  language country content_rating       budget  title_year  \\\n",
       "0  English     USA          PG-13  237000000.0      2009.0   \n",
       "1  English     USA          PG-13  300000000.0      2007.0   \n",
       "2  English      UK          PG-13  245000000.0      2015.0   \n",
       "3  English     USA          PG-13  250000000.0      2012.0   \n",
       "4      NaN     NaN            NaN          NaN         NaN   \n",
       "\n",
       "   actor_2_facebook_likes  imdb_score  aspect_ratio  movie_facebook_likes  \n",
       "0                   936.0         7.9          1.78                 33000  \n",
       "1                  5000.0         7.1          2.35                     0  \n",
       "2                   393.0         6.8          2.35                 85000  \n",
       "3                 23000.0         8.5          2.35                164000  \n",
       "4                    12.0         7.1           NaN                     0  "
      ]
     },
     "execution_count": 2,
     "metadata": {},
     "output_type": "execute_result"
    }
   ],
   "source": [
    "df = pd.read_csv('movie_metadata.csv')\n",
    "print(df.shape)\n",
    "df.head()\n"
   ]
  },
  {
   "cell_type": "code",
   "execution_count": null,
   "metadata": {},
   "outputs": [],
   "source": [
    "df['budget_sq'] = df['budget'] ** 2"
   ]
  },
  {
   "cell_type": "markdown",
   "metadata": {},
   "source": [
    "Now let’s quickly see the names and types of the columns. Most of the time you’re going get data that is not quite what you expected, such as dates which are actually strings and other oddities. But to check upfront."
   ]
  },
  {
   "cell_type": "code",
   "execution_count": 3,
   "metadata": {
    "scrolled": true
   },
   "outputs": [
    {
     "name": "stdout",
     "output_type": "stream",
     "text": [
      "Index(['color', 'director_name', 'num_critic_for_reviews', 'duration',\n",
      "       'director_facebook_likes', 'actor_3_facebook_likes', 'actor_2_name',\n",
      "       'actor_1_facebook_likes', 'gross', 'genres', 'actor_1_name',\n",
      "       'movie_title', 'num_voted_users', 'cast_total_facebook_likes',\n",
      "       'actor_3_name', 'facenumber_in_poster', 'plot_keywords',\n",
      "       'movie_imdb_link', 'num_user_for_reviews', 'language', 'country',\n",
      "       'content_rating', 'budget', 'title_year', 'actor_2_facebook_likes',\n",
      "       'imdb_score', 'aspect_ratio', 'movie_facebook_likes'],\n",
      "      dtype='object')\n"
     ]
    }
   ],
   "source": [
    "print(df.columns)"
   ]
  },
  {
   "cell_type": "markdown",
   "metadata": {
    "heading_collapsed": true
   },
   "source": [
    "## Business Understanding\n",
    "For our business problem, we only want to look at movies that were released in US theaters. So, let's subset our data to only include relevant movies. We  We don't have a data column that tells us this exactly, so we will try our best to aproximate this.  \n",
    "\n",
    "First, let's limit our dataset to only movies created in the US."
   ]
  },
  {
   "cell_type": "code",
   "execution_count": 4,
   "metadata": {
    "hidden": true,
    "scrolled": false
   },
   "outputs": [
    {
     "data": {
      "text/plain": [
       "USA             3807\n",
       "UK               448\n",
       "France           154\n",
       "Canada           126\n",
       "Germany           97\n",
       "                ... \n",
       "Philippines        1\n",
       "Soviet Union       1\n",
       "Afghanistan        1\n",
       "Indonesia          1\n",
       "Chile              1\n",
       "Name: country, Length: 65, dtype: int64"
      ]
     },
     "execution_count": 4,
     "metadata": {},
     "output_type": "execute_result"
    }
   ],
   "source": [
    "df['country'].value_counts()"
   ]
  },
  {
   "cell_type": "code",
   "execution_count": 5,
   "metadata": {
    "hidden": true
   },
   "outputs": [],
   "source": [
    "#your code here\n",
    "\n",
    "df= df[df['country']=='USA']"
   ]
  },
  {
   "cell_type": "code",
   "execution_count": 6,
   "metadata": {
    "hidden": true,
    "scrolled": true
   },
   "outputs": [
    {
     "data": {
      "text/plain": [
       "(3807, 28)"
      ]
     },
     "execution_count": 6,
     "metadata": {},
     "output_type": "execute_result"
    }
   ],
   "source": [
    "df.shape"
   ]
  },
  {
   "cell_type": "markdown",
   "metadata": {
    "hidden": true
   },
   "source": [
    "Now let's only use movies that have been given a MPAA movie rating. This should help remove all 'made for TV' movies. "
   ]
  },
  {
   "cell_type": "code",
   "execution_count": 7,
   "metadata": {
    "hidden": true
   },
   "outputs": [
    {
     "data": {
      "text/plain": [
       "R            1571\n",
       "PG-13        1208\n",
       "PG            558\n",
       "G              85\n",
       "Not Rated      51\n",
       "Approved       46\n",
       "Unrated        38\n",
       "TV-14          25\n",
       "TV-PG          13\n",
       "X              12\n",
       "TV-MA          12\n",
       "Passed          9\n",
       "TV-G            8\n",
       "NC-17           5\n",
       "GP              4\n",
       "M               3\n",
       "TV-Y7           1\n",
       "Name: content_rating, dtype: int64"
      ]
     },
     "execution_count": 7,
     "metadata": {},
     "output_type": "execute_result"
    }
   ],
   "source": [
    "df['content_rating'].value_counts()"
   ]
  },
  {
   "cell_type": "code",
   "execution_count": 8,
   "metadata": {
    "hidden": true
   },
   "outputs": [],
   "source": [
    "df = df[df['content_rating'].isin(['R', 'PG-13', 'PG', 'G'])]"
   ]
  },
  {
   "cell_type": "code",
   "execution_count": 9,
   "metadata": {
    "hidden": true,
    "scrolled": false
   },
   "outputs": [
    {
     "data": {
      "text/plain": [
       "(3422, 28)"
      ]
     },
     "execution_count": 9,
     "metadata": {},
     "output_type": "execute_result"
    }
   ],
   "source": [
    "df.shape"
   ]
  },
  {
   "cell_type": "markdown",
   "metadata": {
    "hidden": true
   },
   "source": [
    "Also, we want to remove independent movies that were only released in a few theaters. Again, we don't have data on this, so we will rmeove movies that made less than $1 million dollars. "
   ]
  },
  {
   "cell_type": "code",
   "execution_count": 10,
   "metadata": {
    "hidden": true,
    "scrolled": false
   },
   "outputs": [],
   "source": [
    "df = df[df['gross']>1000000]"
   ]
  },
  {
   "cell_type": "markdown",
   "metadata": {
    "hidden": true
   },
   "source": [
    "Finally, we can't predict the gross of the movie if we are missing that data. So we will drop all observatiosn missing that data. "
   ]
  },
  {
   "cell_type": "code",
   "execution_count": 11,
   "metadata": {
    "hidden": true
   },
   "outputs": [
    {
     "data": {
      "text/plain": [
       "(2876, 28)"
      ]
     },
     "execution_count": 11,
     "metadata": {},
     "output_type": "execute_result"
    }
   ],
   "source": [
    "df.shape"
   ]
  },
  {
   "cell_type": "code",
   "execution_count": 12,
   "metadata": {
    "hidden": true
   },
   "outputs": [],
   "source": [
    "df.dropna(subset=['gross'], inplace=True)"
   ]
  },
  {
   "cell_type": "code",
   "execution_count": 13,
   "metadata": {
    "hidden": true
   },
   "outputs": [
    {
     "data": {
      "text/plain": [
       "(2876, 28)"
      ]
     },
     "execution_count": 13,
     "metadata": {},
     "output_type": "execute_result"
    }
   ],
   "source": [
    "df.shape"
   ]
  },
  {
   "cell_type": "markdown",
   "metadata": {
    "heading_collapsed": true
   },
   "source": [
    "## Data Understanding\n",
    "\n",
    "Now that we have an appropriate subset of movies, let's start to investigate our data and see what changes we need to make.  "
   ]
  },
  {
   "cell_type": "code",
   "execution_count": 14,
   "metadata": {
    "hidden": true,
    "scrolled": true
   },
   "outputs": [
    {
     "data": {
      "text/plain": [
       "color                         object\n",
       "director_name                 object\n",
       "num_critic_for_reviews       float64\n",
       "duration                     float64\n",
       "director_facebook_likes      float64\n",
       "actor_3_facebook_likes       float64\n",
       "actor_2_name                  object\n",
       "actor_1_facebook_likes       float64\n",
       "gross                        float64\n",
       "genres                        object\n",
       "actor_1_name                  object\n",
       "movie_title                   object\n",
       "num_voted_users                int64\n",
       "cast_total_facebook_likes      int64\n",
       "actor_3_name                  object\n",
       "facenumber_in_poster         float64\n",
       "plot_keywords                 object\n",
       "movie_imdb_link               object\n",
       "num_user_for_reviews         float64\n",
       "language                      object\n",
       "country                       object\n",
       "content_rating                object\n",
       "budget                       float64\n",
       "title_year                   float64\n",
       "actor_2_facebook_likes       float64\n",
       "imdb_score                   float64\n",
       "aspect_ratio                 float64\n",
       "movie_facebook_likes           int64\n",
       "dtype: object"
      ]
     },
     "execution_count": 14,
     "metadata": {},
     "output_type": "execute_result"
    }
   ],
   "source": [
    "# Get column data types\n",
    "df.dtypes\n"
   ]
  },
  {
   "cell_type": "code",
   "execution_count": 15,
   "metadata": {
    "hidden": true
   },
   "outputs": [
    {
     "data": {
      "text/html": [
       "<div>\n",
       "<style scoped>\n",
       "    .dataframe tbody tr th:only-of-type {\n",
       "        vertical-align: middle;\n",
       "    }\n",
       "\n",
       "    .dataframe tbody tr th {\n",
       "        vertical-align: top;\n",
       "    }\n",
       "\n",
       "    .dataframe thead th {\n",
       "        text-align: right;\n",
       "    }\n",
       "</style>\n",
       "<table border=\"1\" class=\"dataframe\">\n",
       "  <thead>\n",
       "    <tr style=\"text-align: right;\">\n",
       "      <th></th>\n",
       "      <th>color</th>\n",
       "      <th>director_name</th>\n",
       "      <th>num_critic_for_reviews</th>\n",
       "      <th>duration</th>\n",
       "      <th>director_facebook_likes</th>\n",
       "      <th>actor_3_facebook_likes</th>\n",
       "      <th>actor_2_name</th>\n",
       "      <th>actor_1_facebook_likes</th>\n",
       "      <th>gross</th>\n",
       "      <th>genres</th>\n",
       "      <th>actor_1_name</th>\n",
       "      <th>movie_title</th>\n",
       "      <th>num_voted_users</th>\n",
       "      <th>cast_total_facebook_likes</th>\n",
       "      <th>actor_3_name</th>\n",
       "      <th>facenumber_in_poster</th>\n",
       "      <th>plot_keywords</th>\n",
       "      <th>movie_imdb_link</th>\n",
       "      <th>num_user_for_reviews</th>\n",
       "      <th>language</th>\n",
       "      <th>country</th>\n",
       "      <th>content_rating</th>\n",
       "      <th>budget</th>\n",
       "      <th>title_year</th>\n",
       "      <th>actor_2_facebook_likes</th>\n",
       "      <th>imdb_score</th>\n",
       "      <th>aspect_ratio</th>\n",
       "      <th>movie_facebook_likes</th>\n",
       "    </tr>\n",
       "  </thead>\n",
       "  <tbody>\n",
       "    <tr>\n",
       "      <th>0</th>\n",
       "      <td>Color</td>\n",
       "      <td>James Cameron</td>\n",
       "      <td>723.0</td>\n",
       "      <td>178.0</td>\n",
       "      <td>0.0</td>\n",
       "      <td>855.0</td>\n",
       "      <td>Joel David Moore</td>\n",
       "      <td>1000.0</td>\n",
       "      <td>760505847.0</td>\n",
       "      <td>Action|Adventure|Fantasy|Sci-Fi</td>\n",
       "      <td>CCH Pounder</td>\n",
       "      <td>Avatar</td>\n",
       "      <td>886204</td>\n",
       "      <td>4834</td>\n",
       "      <td>Wes Studi</td>\n",
       "      <td>0.0</td>\n",
       "      <td>avatar|future|marine|native|paraplegic</td>\n",
       "      <td>http://www.imdb.com/title/tt0499549/?ref_=fn_t...</td>\n",
       "      <td>3054.0</td>\n",
       "      <td>English</td>\n",
       "      <td>USA</td>\n",
       "      <td>PG-13</td>\n",
       "      <td>237000000.0</td>\n",
       "      <td>2009.0</td>\n",
       "      <td>936.0</td>\n",
       "      <td>7.9</td>\n",
       "      <td>1.78</td>\n",
       "      <td>33000</td>\n",
       "    </tr>\n",
       "    <tr>\n",
       "      <th>1</th>\n",
       "      <td>Color</td>\n",
       "      <td>Gore Verbinski</td>\n",
       "      <td>302.0</td>\n",
       "      <td>169.0</td>\n",
       "      <td>563.0</td>\n",
       "      <td>1000.0</td>\n",
       "      <td>Orlando Bloom</td>\n",
       "      <td>40000.0</td>\n",
       "      <td>309404152.0</td>\n",
       "      <td>Action|Adventure|Fantasy</td>\n",
       "      <td>Johnny Depp</td>\n",
       "      <td>Pirates of the Caribbean: At World's End</td>\n",
       "      <td>471220</td>\n",
       "      <td>48350</td>\n",
       "      <td>Jack Davenport</td>\n",
       "      <td>0.0</td>\n",
       "      <td>goddess|marriage ceremony|marriage proposal|pi...</td>\n",
       "      <td>http://www.imdb.com/title/tt0449088/?ref_=fn_t...</td>\n",
       "      <td>1238.0</td>\n",
       "      <td>English</td>\n",
       "      <td>USA</td>\n",
       "      <td>PG-13</td>\n",
       "      <td>300000000.0</td>\n",
       "      <td>2007.0</td>\n",
       "      <td>5000.0</td>\n",
       "      <td>7.1</td>\n",
       "      <td>2.35</td>\n",
       "      <td>0</td>\n",
       "    </tr>\n",
       "    <tr>\n",
       "      <th>3</th>\n",
       "      <td>Color</td>\n",
       "      <td>Christopher Nolan</td>\n",
       "      <td>813.0</td>\n",
       "      <td>164.0</td>\n",
       "      <td>22000.0</td>\n",
       "      <td>23000.0</td>\n",
       "      <td>Christian Bale</td>\n",
       "      <td>27000.0</td>\n",
       "      <td>448130642.0</td>\n",
       "      <td>Action|Thriller</td>\n",
       "      <td>Tom Hardy</td>\n",
       "      <td>The Dark Knight Rises</td>\n",
       "      <td>1144337</td>\n",
       "      <td>106759</td>\n",
       "      <td>Joseph Gordon-Levitt</td>\n",
       "      <td>0.0</td>\n",
       "      <td>deception|imprisonment|lawlessness|police offi...</td>\n",
       "      <td>http://www.imdb.com/title/tt1345836/?ref_=fn_t...</td>\n",
       "      <td>2701.0</td>\n",
       "      <td>English</td>\n",
       "      <td>USA</td>\n",
       "      <td>PG-13</td>\n",
       "      <td>250000000.0</td>\n",
       "      <td>2012.0</td>\n",
       "      <td>23000.0</td>\n",
       "      <td>8.5</td>\n",
       "      <td>2.35</td>\n",
       "      <td>164000</td>\n",
       "    </tr>\n",
       "    <tr>\n",
       "      <th>5</th>\n",
       "      <td>Color</td>\n",
       "      <td>Andrew Stanton</td>\n",
       "      <td>462.0</td>\n",
       "      <td>132.0</td>\n",
       "      <td>475.0</td>\n",
       "      <td>530.0</td>\n",
       "      <td>Samantha Morton</td>\n",
       "      <td>640.0</td>\n",
       "      <td>73058679.0</td>\n",
       "      <td>Action|Adventure|Sci-Fi</td>\n",
       "      <td>Daryl Sabara</td>\n",
       "      <td>John Carter</td>\n",
       "      <td>212204</td>\n",
       "      <td>1873</td>\n",
       "      <td>Polly Walker</td>\n",
       "      <td>1.0</td>\n",
       "      <td>alien|american civil war|male nipple|mars|prin...</td>\n",
       "      <td>http://www.imdb.com/title/tt0401729/?ref_=fn_t...</td>\n",
       "      <td>738.0</td>\n",
       "      <td>English</td>\n",
       "      <td>USA</td>\n",
       "      <td>PG-13</td>\n",
       "      <td>263700000.0</td>\n",
       "      <td>2012.0</td>\n",
       "      <td>632.0</td>\n",
       "      <td>6.6</td>\n",
       "      <td>2.35</td>\n",
       "      <td>24000</td>\n",
       "    </tr>\n",
       "    <tr>\n",
       "      <th>6</th>\n",
       "      <td>Color</td>\n",
       "      <td>Sam Raimi</td>\n",
       "      <td>392.0</td>\n",
       "      <td>156.0</td>\n",
       "      <td>0.0</td>\n",
       "      <td>4000.0</td>\n",
       "      <td>James Franco</td>\n",
       "      <td>24000.0</td>\n",
       "      <td>336530303.0</td>\n",
       "      <td>Action|Adventure|Romance</td>\n",
       "      <td>J.K. Simmons</td>\n",
       "      <td>Spider-Man 3</td>\n",
       "      <td>383056</td>\n",
       "      <td>46055</td>\n",
       "      <td>Kirsten Dunst</td>\n",
       "      <td>0.0</td>\n",
       "      <td>sandman|spider man|symbiote|venom|villain</td>\n",
       "      <td>http://www.imdb.com/title/tt0413300/?ref_=fn_t...</td>\n",
       "      <td>1902.0</td>\n",
       "      <td>English</td>\n",
       "      <td>USA</td>\n",
       "      <td>PG-13</td>\n",
       "      <td>258000000.0</td>\n",
       "      <td>2007.0</td>\n",
       "      <td>11000.0</td>\n",
       "      <td>6.2</td>\n",
       "      <td>2.35</td>\n",
       "      <td>0</td>\n",
       "    </tr>\n",
       "  </tbody>\n",
       "</table>\n",
       "</div>"
      ],
      "text/plain": [
       "   color      director_name  num_critic_for_reviews  duration  \\\n",
       "0  Color      James Cameron                   723.0     178.0   \n",
       "1  Color     Gore Verbinski                   302.0     169.0   \n",
       "3  Color  Christopher Nolan                   813.0     164.0   \n",
       "5  Color     Andrew Stanton                   462.0     132.0   \n",
       "6  Color          Sam Raimi                   392.0     156.0   \n",
       "\n",
       "   director_facebook_likes  actor_3_facebook_likes      actor_2_name  \\\n",
       "0                      0.0                   855.0  Joel David Moore   \n",
       "1                    563.0                  1000.0     Orlando Bloom   \n",
       "3                  22000.0                 23000.0    Christian Bale   \n",
       "5                    475.0                   530.0   Samantha Morton   \n",
       "6                      0.0                  4000.0      James Franco   \n",
       "\n",
       "   actor_1_facebook_likes        gross                           genres  \\\n",
       "0                  1000.0  760505847.0  Action|Adventure|Fantasy|Sci-Fi   \n",
       "1                 40000.0  309404152.0         Action|Adventure|Fantasy   \n",
       "3                 27000.0  448130642.0                  Action|Thriller   \n",
       "5                   640.0   73058679.0          Action|Adventure|Sci-Fi   \n",
       "6                 24000.0  336530303.0         Action|Adventure|Romance   \n",
       "\n",
       "   actor_1_name                                movie_title  num_voted_users  \\\n",
       "0   CCH Pounder                                    Avatar            886204   \n",
       "1   Johnny Depp  Pirates of the Caribbean: At World's End            471220   \n",
       "3     Tom Hardy                     The Dark Knight Rises           1144337   \n",
       "5  Daryl Sabara                               John Carter            212204   \n",
       "6  J.K. Simmons                              Spider-Man 3            383056   \n",
       "\n",
       "   cast_total_facebook_likes          actor_3_name  facenumber_in_poster  \\\n",
       "0                       4834             Wes Studi                   0.0   \n",
       "1                      48350        Jack Davenport                   0.0   \n",
       "3                     106759  Joseph Gordon-Levitt                   0.0   \n",
       "5                       1873          Polly Walker                   1.0   \n",
       "6                      46055         Kirsten Dunst                   0.0   \n",
       "\n",
       "                                       plot_keywords  \\\n",
       "0             avatar|future|marine|native|paraplegic   \n",
       "1  goddess|marriage ceremony|marriage proposal|pi...   \n",
       "3  deception|imprisonment|lawlessness|police offi...   \n",
       "5  alien|american civil war|male nipple|mars|prin...   \n",
       "6          sandman|spider man|symbiote|venom|villain   \n",
       "\n",
       "                                     movie_imdb_link  num_user_for_reviews  \\\n",
       "0  http://www.imdb.com/title/tt0499549/?ref_=fn_t...                3054.0   \n",
       "1  http://www.imdb.com/title/tt0449088/?ref_=fn_t...                1238.0   \n",
       "3  http://www.imdb.com/title/tt1345836/?ref_=fn_t...                2701.0   \n",
       "5  http://www.imdb.com/title/tt0401729/?ref_=fn_t...                 738.0   \n",
       "6  http://www.imdb.com/title/tt0413300/?ref_=fn_t...                1902.0   \n",
       "\n",
       "  language country content_rating       budget  title_year  \\\n",
       "0  English     USA          PG-13  237000000.0      2009.0   \n",
       "1  English     USA          PG-13  300000000.0      2007.0   \n",
       "3  English     USA          PG-13  250000000.0      2012.0   \n",
       "5  English     USA          PG-13  263700000.0      2012.0   \n",
       "6  English     USA          PG-13  258000000.0      2007.0   \n",
       "\n",
       "   actor_2_facebook_likes  imdb_score  aspect_ratio  movie_facebook_likes  \n",
       "0                   936.0         7.9          1.78                 33000  \n",
       "1                  5000.0         7.1          2.35                     0  \n",
       "3                 23000.0         8.5          2.35                164000  \n",
       "5                   632.0         6.6          2.35                 24000  \n",
       "6                 11000.0         6.2          2.35                     0  "
      ]
     },
     "execution_count": 15,
     "metadata": {},
     "output_type": "execute_result"
    }
   ],
   "source": [
    "df.head()"
   ]
  },
  {
   "cell_type": "markdown",
   "metadata": {
    "hidden": true
   },
   "source": [
    "- We can drop many columns becasue they are not useful to our analysis. Some we know aren't useful becasue we can't process that data yet (genres, plot_keywords). "
   ]
  },
  {
   "cell_type": "code",
   "execution_count": 16,
   "metadata": {
    "hidden": true
   },
   "outputs": [],
   "source": [
    "df.drop(columns=['director_name','actor_2_name', 'genres', 'actor_1_name', 'actor_3_name','plot_keywords', 'genres','plot_keywords', 'movie_imdb_link'], inplace=True)"
   ]
  },
  {
   "cell_type": "markdown",
   "metadata": {
    "hidden": true
   },
   "source": [
    "- Some data isn't useful becasue it was collected after the movie was released and wouldn't be avaiable for us to make predictions before the movie is released. "
   ]
  },
  {
   "cell_type": "code",
   "execution_count": 17,
   "metadata": {
    "hidden": true
   },
   "outputs": [],
   "source": [
    "df.drop(columns=['num_critic_for_reviews', 'num_voted_users','movie_facebook_likes', 'num_user_for_reviews', 'imdb_score'], inplace=True)"
   ]
  },
  {
   "cell_type": "code",
   "execution_count": 18,
   "metadata": {
    "hidden": true
   },
   "outputs": [
    {
     "data": {
      "text/plain": [
       "(2876, 16)"
      ]
     },
     "execution_count": 18,
     "metadata": {},
     "output_type": "execute_result"
    }
   ],
   "source": [
    "df.shape"
   ]
  },
  {
   "cell_type": "markdown",
   "metadata": {
    "hidden": true
   },
   "source": [
    "- Some columns might not have a lot of variation in the data, and will not be helpful to the model. We need to investigate these further."
   ]
  },
  {
   "cell_type": "code",
   "execution_count": 19,
   "metadata": {
    "hidden": true
   },
   "outputs": [
    {
     "data": {
      "text/plain": [
       "Color               2806\n",
       " Black and White      69\n",
       "Name: color, dtype: int64"
      ]
     },
     "execution_count": 19,
     "metadata": {},
     "output_type": "execute_result"
    }
   ],
   "source": [
    "df['color'].value_counts()"
   ]
  },
  {
   "cell_type": "code",
   "execution_count": 20,
   "metadata": {
    "hidden": true
   },
   "outputs": [
    {
     "data": {
      "text/plain": [
       "2.35    1482\n",
       "1.85    1259\n",
       "1.37      28\n",
       "1.78      24\n",
       "1.66      20\n",
       "1.33      14\n",
       "2.39       8\n",
       "2.20       3\n",
       "2.40       3\n",
       "2.76       2\n",
       "2.00       2\n",
       "2.24       1\n",
       "1.18       1\n",
       "2.55       1\n",
       "1.77       1\n",
       "1.75       1\n",
       "1.50       1\n",
       "Name: aspect_ratio, dtype: int64"
      ]
     },
     "execution_count": 20,
     "metadata": {},
     "output_type": "execute_result"
    }
   ],
   "source": [
    "df['aspect_ratio'].value_counts()"
   ]
  },
  {
   "cell_type": "code",
   "execution_count": 21,
   "metadata": {
    "hidden": true
   },
   "outputs": [
    {
     "data": {
      "text/plain": [
       "English     2865\n",
       "Spanish        5\n",
       "Filipino       1\n",
       "Dari           1\n",
       "Maya           1\n",
       "Japanese       1\n",
       "None           1\n",
       "Name: language, dtype: int64"
      ]
     },
     "execution_count": 21,
     "metadata": {},
     "output_type": "execute_result"
    }
   ],
   "source": [
    "df['language'].value_counts()"
   ]
  },
  {
   "cell_type": "markdown",
   "metadata": {
    "hidden": true
   },
   "source": [
    "Now let's check to make sure our data is in the right format."
   ]
  },
  {
   "cell_type": "code",
   "execution_count": 22,
   "metadata": {
    "hidden": true
   },
   "outputs": [
    {
     "data": {
      "text/plain": [
       "color                         object\n",
       "duration                     float64\n",
       "director_facebook_likes      float64\n",
       "actor_3_facebook_likes       float64\n",
       "actor_1_facebook_likes       float64\n",
       "gross                        float64\n",
       "movie_title                   object\n",
       "cast_total_facebook_likes      int64\n",
       "facenumber_in_poster         float64\n",
       "language                      object\n",
       "country                       object\n",
       "content_rating                object\n",
       "budget                       float64\n",
       "title_year                   float64\n",
       "actor_2_facebook_likes       float64\n",
       "aspect_ratio                 float64\n",
       "dtype: object"
      ]
     },
     "execution_count": 22,
     "metadata": {},
     "output_type": "execute_result"
    }
   ],
   "source": [
    "df.dtypes"
   ]
  },
  {
   "cell_type": "markdown",
   "metadata": {
    "hidden": true
   },
   "source": [
    "And change it if it is not. "
   ]
  },
  {
   "cell_type": "code",
   "execution_count": 23,
   "metadata": {
    "hidden": true,
    "scrolled": true
   },
   "outputs": [
    {
     "data": {
      "text/plain": [
       "2009.0"
      ]
     },
     "execution_count": 23,
     "metadata": {},
     "output_type": "execute_result"
    }
   ],
   "source": [
    "df['title_year'][0]"
   ]
  },
  {
   "cell_type": "code",
   "execution_count": 24,
   "metadata": {
    "hidden": true
   },
   "outputs": [],
   "source": [
    "df['title_year']= pd.to_datetime(df['title_year'], format='%Y')"
   ]
  },
  {
   "cell_type": "code",
   "execution_count": 25,
   "metadata": {
    "hidden": true
   },
   "outputs": [
    {
     "data": {
      "text/plain": [
       "0      2009-01-01\n",
       "1      2007-01-01\n",
       "3      2012-01-01\n",
       "5      2012-01-01\n",
       "6      2007-01-01\n",
       "          ...    \n",
       "4984   1995-01-01\n",
       "5008   1994-01-01\n",
       "5012   2014-01-01\n",
       "5015   1991-01-01\n",
       "5035   1992-01-01\n",
       "Name: title_year, Length: 2876, dtype: datetime64[ns]"
      ]
     },
     "execution_count": 25,
     "metadata": {},
     "output_type": "execute_result"
    }
   ],
   "source": [
    "df['title_year']"
   ]
  },
  {
   "cell_type": "code",
   "execution_count": 26,
   "metadata": {
    "hidden": true
   },
   "outputs": [],
   "source": [
    "df['years_old'] = 2016- pd.DatetimeIndex(df['title_year']).year\n"
   ]
  },
  {
   "cell_type": "code",
   "execution_count": 27,
   "metadata": {
    "hidden": true,
    "scrolled": false
   },
   "outputs": [
    {
     "data": {
      "text/plain": [
       "0        7\n",
       "1        9\n",
       "3        4\n",
       "5        4\n",
       "6        9\n",
       "        ..\n",
       "4984    21\n",
       "5008    22\n",
       "5012     2\n",
       "5015    25\n",
       "5035    24\n",
       "Name: years_old, Length: 2876, dtype: int64"
      ]
     },
     "execution_count": 27,
     "metadata": {},
     "output_type": "execute_result"
    }
   ],
   "source": [
    "df['years_old'] "
   ]
  },
  {
   "cell_type": "markdown",
   "metadata": {
    "heading_collapsed": true
   },
   "source": [
    "## Handling Missing Data:\n",
    "    \n"
   ]
  },
  {
   "cell_type": "code",
   "execution_count": 28,
   "metadata": {
    "hidden": true
   },
   "outputs": [
    {
     "data": {
      "text/plain": [
       "color                        0.000348\n",
       "duration                     0.000348\n",
       "director_facebook_likes      0.000000\n",
       "actor_3_facebook_likes       0.001043\n",
       "actor_1_facebook_likes       0.000000\n",
       "gross                        0.000000\n",
       "movie_title                  0.000000\n",
       "cast_total_facebook_likes    0.000000\n",
       "facenumber_in_poster         0.002086\n",
       "language                     0.000348\n",
       "country                      0.000000\n",
       "content_rating               0.000000\n",
       "budget                       0.035466\n",
       "title_year                   0.000000\n",
       "actor_2_facebook_likes       0.000348\n",
       "aspect_ratio                 0.008693\n",
       "years_old                    0.000000\n",
       "dtype: float64"
      ]
     },
     "execution_count": 28,
     "metadata": {},
     "output_type": "execute_result"
    }
   ],
   "source": [
    "# Find the Percentage of rows missing data\n",
    "df.isna().mean()"
   ]
  },
  {
   "cell_type": "code",
   "execution_count": 29,
   "metadata": {
    "hidden": true,
    "scrolled": true
   },
   "outputs": [
    {
     "data": {
      "text/plain": [
       "<matplotlib.axes._subplots.AxesSubplot at 0x108ea02b0>"
      ]
     },
     "execution_count": 29,
     "metadata": {},
     "output_type": "execute_result"
    },
    {
     "data": {
      "image/png": "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\n",
      "text/plain": [
       "<Figure size 432x288 with 1 Axes>"
      ]
     },
     "metadata": {
      "needs_background": "light"
     },
     "output_type": "display_data"
    }
   ],
   "source": [
    "#graphically see the missing data\n",
    "sns.heatmap(df.isna(), cbar=False)"
   ]
  },
  {
   "cell_type": "code",
   "execution_count": 30,
   "metadata": {
    "hidden": true,
    "scrolled": false
   },
   "outputs": [
    {
     "data": {
      "text/html": [
       "<div>\n",
       "<style scoped>\n",
       "    .dataframe tbody tr th:only-of-type {\n",
       "        vertical-align: middle;\n",
       "    }\n",
       "\n",
       "    .dataframe tbody tr th {\n",
       "        vertical-align: top;\n",
       "    }\n",
       "\n",
       "    .dataframe thead th {\n",
       "        text-align: right;\n",
       "    }\n",
       "</style>\n",
       "<table border=\"1\" class=\"dataframe\">\n",
       "  <thead>\n",
       "    <tr style=\"text-align: right;\">\n",
       "      <th></th>\n",
       "      <th>color</th>\n",
       "      <th>duration</th>\n",
       "      <th>director_facebook_likes</th>\n",
       "      <th>actor_3_facebook_likes</th>\n",
       "      <th>actor_1_facebook_likes</th>\n",
       "      <th>gross</th>\n",
       "      <th>movie_title</th>\n",
       "      <th>cast_total_facebook_likes</th>\n",
       "      <th>facenumber_in_poster</th>\n",
       "      <th>language</th>\n",
       "      <th>country</th>\n",
       "      <th>content_rating</th>\n",
       "      <th>budget</th>\n",
       "      <th>title_year</th>\n",
       "      <th>actor_2_facebook_likes</th>\n",
       "      <th>aspect_ratio</th>\n",
       "      <th>years_old</th>\n",
       "    </tr>\n",
       "  </thead>\n",
       "  <tbody>\n",
       "    <tr>\n",
       "      <th>55</th>\n",
       "      <td>Color</td>\n",
       "      <td>93.0</td>\n",
       "      <td>113.0</td>\n",
       "      <td>113.0</td>\n",
       "      <td>275.0</td>\n",
       "      <td>123070338.0</td>\n",
       "      <td>The Good Dinosaur</td>\n",
       "      <td>696</td>\n",
       "      <td>0.0</td>\n",
       "      <td>English</td>\n",
       "      <td>USA</td>\n",
       "      <td>PG</td>\n",
       "      <td>NaN</td>\n",
       "      <td>2015-01-01</td>\n",
       "      <td>150.0</td>\n",
       "      <td>2.35</td>\n",
       "      <td>1</td>\n",
       "    </tr>\n",
       "    <tr>\n",
       "      <th>444</th>\n",
       "      <td>Color</td>\n",
       "      <td>97.0</td>\n",
       "      <td>56.0</td>\n",
       "      <td>852.0</td>\n",
       "      <td>12000.0</td>\n",
       "      <td>82506325.0</td>\n",
       "      <td>Charlotte's Web</td>\n",
       "      <td>23907</td>\n",
       "      <td>0.0</td>\n",
       "      <td>English</td>\n",
       "      <td>USA</td>\n",
       "      <td>G</td>\n",
       "      <td>NaN</td>\n",
       "      <td>2006-01-01</td>\n",
       "      <td>8000.0</td>\n",
       "      <td>1.85</td>\n",
       "      <td>10</td>\n",
       "    </tr>\n",
       "    <tr>\n",
       "      <th>490</th>\n",
       "      <td>Color</td>\n",
       "      <td>117.0</td>\n",
       "      <td>93.0</td>\n",
       "      <td>904.0</td>\n",
       "      <td>12000.0</td>\n",
       "      <td>27779888.0</td>\n",
       "      <td>The Edge</td>\n",
       "      <td>14831</td>\n",
       "      <td>2.0</td>\n",
       "      <td>English</td>\n",
       "      <td>USA</td>\n",
       "      <td>R</td>\n",
       "      <td>NaN</td>\n",
       "      <td>1997-01-01</td>\n",
       "      <td>1000.0</td>\n",
       "      <td>2.35</td>\n",
       "      <td>19</td>\n",
       "    </tr>\n",
       "    <tr>\n",
       "      <th>640</th>\n",
       "      <td>Color</td>\n",
       "      <td>117.0</td>\n",
       "      <td>44.0</td>\n",
       "      <td>531.0</td>\n",
       "      <td>788.0</td>\n",
       "      <td>27550735.0</td>\n",
       "      <td>The Finest Hours</td>\n",
       "      <td>3524</td>\n",
       "      <td>0.0</td>\n",
       "      <td>English</td>\n",
       "      <td>USA</td>\n",
       "      <td>PG-13</td>\n",
       "      <td>NaN</td>\n",
       "      <td>2016-01-01</td>\n",
       "      <td>562.0</td>\n",
       "      <td>2.35</td>\n",
       "      <td>0</td>\n",
       "    </tr>\n",
       "    <tr>\n",
       "      <th>642</th>\n",
       "      <td>Color</td>\n",
       "      <td>114.0</td>\n",
       "      <td>116.0</td>\n",
       "      <td>982.0</td>\n",
       "      <td>7000.0</td>\n",
       "      <td>72980108.0</td>\n",
       "      <td>Dinner for Schmucks</td>\n",
       "      <td>10419</td>\n",
       "      <td>2.0</td>\n",
       "      <td>English</td>\n",
       "      <td>USA</td>\n",
       "      <td>PG-13</td>\n",
       "      <td>NaN</td>\n",
       "      <td>2010-01-01</td>\n",
       "      <td>1000.0</td>\n",
       "      <td>1.85</td>\n",
       "      <td>6</td>\n",
       "    </tr>\n",
       "    <tr>\n",
       "      <th>713</th>\n",
       "      <td>Color</td>\n",
       "      <td>100.0</td>\n",
       "      <td>12.0</td>\n",
       "      <td>311.0</td>\n",
       "      <td>419.0</td>\n",
       "      <td>168213584.0</td>\n",
       "      <td>Wild Hogs</td>\n",
       "      <td>1412</td>\n",
       "      <td>3.0</td>\n",
       "      <td>English</td>\n",
       "      <td>USA</td>\n",
       "      <td>PG-13</td>\n",
       "      <td>NaN</td>\n",
       "      <td>2007-01-01</td>\n",
       "      <td>330.0</td>\n",
       "      <td>2.35</td>\n",
       "      <td>9</td>\n",
       "    </tr>\n",
       "    <tr>\n",
       "      <th>773</th>\n",
       "      <td>Color</td>\n",
       "      <td>127.0</td>\n",
       "      <td>162.0</td>\n",
       "      <td>379.0</td>\n",
       "      <td>18000.0</td>\n",
       "      <td>36965395.0</td>\n",
       "      <td>State of Play</td>\n",
       "      <td>19776</td>\n",
       "      <td>3.0</td>\n",
       "      <td>English</td>\n",
       "      <td>USA</td>\n",
       "      <td>PG-13</td>\n",
       "      <td>NaN</td>\n",
       "      <td>2009-01-01</td>\n",
       "      <td>748.0</td>\n",
       "      <td>2.35</td>\n",
       "      <td>7</td>\n",
       "    </tr>\n",
       "    <tr>\n",
       "      <th>780</th>\n",
       "      <td>Color</td>\n",
       "      <td>111.0</td>\n",
       "      <td>39.0</td>\n",
       "      <td>461.0</td>\n",
       "      <td>16000.0</td>\n",
       "      <td>35754555.0</td>\n",
       "      <td>Trouble with the Curve</td>\n",
       "      <td>17871</td>\n",
       "      <td>0.0</td>\n",
       "      <td>English</td>\n",
       "      <td>USA</td>\n",
       "      <td>PG-13</td>\n",
       "      <td>NaN</td>\n",
       "      <td>2012-01-01</td>\n",
       "      <td>897.0</td>\n",
       "      <td>2.35</td>\n",
       "      <td>4</td>\n",
       "    </tr>\n",
       "    <tr>\n",
       "      <th>925</th>\n",
       "      <td>Color</td>\n",
       "      <td>93.0</td>\n",
       "      <td>14.0</td>\n",
       "      <td>728.0</td>\n",
       "      <td>2000.0</td>\n",
       "      <td>35092918.0</td>\n",
       "      <td>Deck the Halls</td>\n",
       "      <td>5468</td>\n",
       "      <td>0.0</td>\n",
       "      <td>English</td>\n",
       "      <td>USA</td>\n",
       "      <td>PG</td>\n",
       "      <td>NaN</td>\n",
       "      <td>2006-01-01</td>\n",
       "      <td>1000.0</td>\n",
       "      <td>1.85</td>\n",
       "      <td>10</td>\n",
       "    </tr>\n",
       "    <tr>\n",
       "      <th>949</th>\n",
       "      <td>Color</td>\n",
       "      <td>124.0</td>\n",
       "      <td>488.0</td>\n",
       "      <td>1000.0</td>\n",
       "      <td>19000.0</td>\n",
       "      <td>75621915.0</td>\n",
       "      <td>We Bought a Zoo</td>\n",
       "      <td>36873</td>\n",
       "      <td>3.0</td>\n",
       "      <td>English</td>\n",
       "      <td>USA</td>\n",
       "      <td>PG</td>\n",
       "      <td>NaN</td>\n",
       "      <td>2011-01-01</td>\n",
       "      <td>13000.0</td>\n",
       "      <td>1.85</td>\n",
       "      <td>5</td>\n",
       "    </tr>\n",
       "  </tbody>\n",
       "</table>\n",
       "</div>"
      ],
      "text/plain": [
       "     color  duration  director_facebook_likes  actor_3_facebook_likes  \\\n",
       "55   Color      93.0                    113.0                   113.0   \n",
       "444  Color      97.0                     56.0                   852.0   \n",
       "490  Color     117.0                     93.0                   904.0   \n",
       "640  Color     117.0                     44.0                   531.0   \n",
       "642  Color     114.0                    116.0                   982.0   \n",
       "713  Color     100.0                     12.0                   311.0   \n",
       "773  Color     127.0                    162.0                   379.0   \n",
       "780  Color     111.0                     39.0                   461.0   \n",
       "925  Color      93.0                     14.0                   728.0   \n",
       "949  Color     124.0                    488.0                  1000.0   \n",
       "\n",
       "     actor_1_facebook_likes        gross              movie_title  \\\n",
       "55                    275.0  123070338.0       The Good Dinosaur    \n",
       "444                 12000.0   82506325.0         Charlotte's Web    \n",
       "490                 12000.0   27779888.0                The Edge    \n",
       "640                   788.0   27550735.0        The Finest Hours    \n",
       "642                  7000.0   72980108.0     Dinner for Schmucks    \n",
       "713                   419.0  168213584.0               Wild Hogs    \n",
       "773                 18000.0   36965395.0           State of Play    \n",
       "780                 16000.0   35754555.0  Trouble with the Curve    \n",
       "925                  2000.0   35092918.0          Deck the Halls    \n",
       "949                 19000.0   75621915.0         We Bought a Zoo    \n",
       "\n",
       "     cast_total_facebook_likes  facenumber_in_poster language country  \\\n",
       "55                         696                   0.0  English     USA   \n",
       "444                      23907                   0.0  English     USA   \n",
       "490                      14831                   2.0  English     USA   \n",
       "640                       3524                   0.0  English     USA   \n",
       "642                      10419                   2.0  English     USA   \n",
       "713                       1412                   3.0  English     USA   \n",
       "773                      19776                   3.0  English     USA   \n",
       "780                      17871                   0.0  English     USA   \n",
       "925                       5468                   0.0  English     USA   \n",
       "949                      36873                   3.0  English     USA   \n",
       "\n",
       "    content_rating  budget title_year  actor_2_facebook_likes  aspect_ratio  \\\n",
       "55              PG     NaN 2015-01-01                   150.0          2.35   \n",
       "444              G     NaN 2006-01-01                  8000.0          1.85   \n",
       "490              R     NaN 1997-01-01                  1000.0          2.35   \n",
       "640          PG-13     NaN 2016-01-01                   562.0          2.35   \n",
       "642          PG-13     NaN 2010-01-01                  1000.0          1.85   \n",
       "713          PG-13     NaN 2007-01-01                   330.0          2.35   \n",
       "773          PG-13     NaN 2009-01-01                   748.0          2.35   \n",
       "780          PG-13     NaN 2012-01-01                   897.0          2.35   \n",
       "925             PG     NaN 2006-01-01                  1000.0          1.85   \n",
       "949             PG     NaN 2011-01-01                 13000.0          1.85   \n",
       "\n",
       "     years_old  \n",
       "55           1  \n",
       "444         10  \n",
       "490         19  \n",
       "640          0  \n",
       "642          6  \n",
       "713          9  \n",
       "773          7  \n",
       "780          4  \n",
       "925         10  \n",
       "949          5  "
      ]
     },
     "execution_count": 30,
     "metadata": {},
     "output_type": "execute_result"
    }
   ],
   "source": [
    "#look at all the observations with at least one missing data point\n",
    "df[df['budget'].isna()].head(10)"
   ]
  },
  {
   "cell_type": "code",
   "execution_count": 31,
   "metadata": {
    "hidden": true
   },
   "outputs": [
    {
     "data": {
      "text/plain": [
       "<matplotlib.axes._subplots.AxesSubplot at 0x1a1cf12fd0>"
      ]
     },
     "execution_count": 31,
     "metadata": {},
     "output_type": "execute_result"
    },
    {
     "data": {
      "image/png": "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\n",
      "text/plain": [
       "<Figure size 432x288 with 1 Axes>"
      ]
     },
     "metadata": {
      "needs_background": "light"
     },
     "output_type": "display_data"
    }
   ],
   "source": [
    "df['budget'].plot(kind='box')"
   ]
  },
  {
   "cell_type": "code",
   "execution_count": 32,
   "metadata": {
    "hidden": true
   },
   "outputs": [
    {
     "data": {
      "text/plain": [
       "<matplotlib.axes._subplots.AxesSubplot at 0x1a1cf83f60>"
      ]
     },
     "execution_count": 32,
     "metadata": {},
     "output_type": "execute_result"
    },
    {
     "data": {
      "image/png": "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\n",
      "text/plain": [
       "<Figure size 432x288 with 1 Axes>"
      ]
     },
     "metadata": {
      "needs_background": "light"
     },
     "output_type": "display_data"
    }
   ],
   "source": [
    "df.groupby('content_rating')['budget'].mean().plot(kind='bar')"
   ]
  },
  {
   "cell_type": "code",
   "execution_count": 33,
   "metadata": {
    "hidden": true
   },
   "outputs": [
    {
     "data": {
      "text/plain": [
       "{'G': 54629811.6, 'PG': 55784317.0, 'PG-13': 55495062.6, 'R': 27623637.4}"
      ]
     },
     "execution_count": 33,
     "metadata": {},
     "output_type": "execute_result"
    }
   ],
   "source": [
    "budget_ratings = df.groupby('content_rating')['budget'].mean().round(1).to_dict()\n",
    "\n",
    "budget_ratings"
   ]
  },
  {
   "cell_type": "code",
   "execution_count": 34,
   "metadata": {
    "hidden": true
   },
   "outputs": [],
   "source": [
    "df['budget'].fillna(df['content_rating'].map(budget_ratings), inplace=True)\n"
   ]
  },
  {
   "cell_type": "code",
   "execution_count": 35,
   "metadata": {
    "hidden": true
   },
   "outputs": [
    {
     "data": {
      "text/plain": [
       "<matplotlib.axes._subplots.AxesSubplot at 0x1a1d087e48>"
      ]
     },
     "execution_count": 35,
     "metadata": {},
     "output_type": "execute_result"
    },
    {
     "data": {
      "image/png": "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\n",
      "text/plain": [
       "<Figure size 432x288 with 1 Axes>"
      ]
     },
     "metadata": {
      "needs_background": "light"
     },
     "output_type": "display_data"
    }
   ],
   "source": [
    "sns.heatmap(df.isnull(), cbar=False)"
   ]
  },
  {
   "cell_type": "markdown",
   "metadata": {
    "heading_collapsed": true,
    "hidden": true
   },
   "source": [
    "### Handling Categorical Data\n",
    "\n"
   ]
  },
  {
   "cell_type": "markdown",
   "metadata": {
    "hidden": true
   },
   "source": [
    "For the column of `rating`, we can see that the values come through as strings that represent a category.  We can not put a string through as a value for a linear model. Instead we use dummy variables."
   ]
  },
  {
   "cell_type": "code",
   "execution_count": 36,
   "metadata": {
    "Collapsed": "false",
    "hidden": true
   },
   "outputs": [],
   "source": [
    "df = pd.get_dummies(df, columns=['content_rating'], drop_first=True)"
   ]
  },
  {
   "cell_type": "code",
   "execution_count": 37,
   "metadata": {
    "hidden": true
   },
   "outputs": [],
   "source": [
    "df = pd.get_dummies(df, columns=['color'], drop_first=True)"
   ]
  },
  {
   "cell_type": "code",
   "execution_count": 38,
   "metadata": {
    "hidden": true
   },
   "outputs": [
    {
     "data": {
      "text/html": [
       "<div>\n",
       "<style scoped>\n",
       "    .dataframe tbody tr th:only-of-type {\n",
       "        vertical-align: middle;\n",
       "    }\n",
       "\n",
       "    .dataframe tbody tr th {\n",
       "        vertical-align: top;\n",
       "    }\n",
       "\n",
       "    .dataframe thead th {\n",
       "        text-align: right;\n",
       "    }\n",
       "</style>\n",
       "<table border=\"1\" class=\"dataframe\">\n",
       "  <thead>\n",
       "    <tr style=\"text-align: right;\">\n",
       "      <th></th>\n",
       "      <th>duration</th>\n",
       "      <th>director_facebook_likes</th>\n",
       "      <th>actor_3_facebook_likes</th>\n",
       "      <th>actor_1_facebook_likes</th>\n",
       "      <th>gross</th>\n",
       "      <th>movie_title</th>\n",
       "      <th>cast_total_facebook_likes</th>\n",
       "      <th>facenumber_in_poster</th>\n",
       "      <th>language</th>\n",
       "      <th>country</th>\n",
       "      <th>budget</th>\n",
       "      <th>title_year</th>\n",
       "      <th>actor_2_facebook_likes</th>\n",
       "      <th>aspect_ratio</th>\n",
       "      <th>years_old</th>\n",
       "      <th>content_rating_PG</th>\n",
       "      <th>content_rating_PG-13</th>\n",
       "      <th>content_rating_R</th>\n",
       "      <th>color_Color</th>\n",
       "    </tr>\n",
       "  </thead>\n",
       "  <tbody>\n",
       "    <tr>\n",
       "      <th>0</th>\n",
       "      <td>178.0</td>\n",
       "      <td>0.0</td>\n",
       "      <td>855.0</td>\n",
       "      <td>1000.0</td>\n",
       "      <td>760505847.0</td>\n",
       "      <td>Avatar</td>\n",
       "      <td>4834</td>\n",
       "      <td>0.0</td>\n",
       "      <td>English</td>\n",
       "      <td>USA</td>\n",
       "      <td>237000000.0</td>\n",
       "      <td>2009-01-01</td>\n",
       "      <td>936.0</td>\n",
       "      <td>1.78</td>\n",
       "      <td>7</td>\n",
       "      <td>0</td>\n",
       "      <td>1</td>\n",
       "      <td>0</td>\n",
       "      <td>1</td>\n",
       "    </tr>\n",
       "    <tr>\n",
       "      <th>1</th>\n",
       "      <td>169.0</td>\n",
       "      <td>563.0</td>\n",
       "      <td>1000.0</td>\n",
       "      <td>40000.0</td>\n",
       "      <td>309404152.0</td>\n",
       "      <td>Pirates of the Caribbean: At World's End</td>\n",
       "      <td>48350</td>\n",
       "      <td>0.0</td>\n",
       "      <td>English</td>\n",
       "      <td>USA</td>\n",
       "      <td>300000000.0</td>\n",
       "      <td>2007-01-01</td>\n",
       "      <td>5000.0</td>\n",
       "      <td>2.35</td>\n",
       "      <td>9</td>\n",
       "      <td>0</td>\n",
       "      <td>1</td>\n",
       "      <td>0</td>\n",
       "      <td>1</td>\n",
       "    </tr>\n",
       "    <tr>\n",
       "      <th>3</th>\n",
       "      <td>164.0</td>\n",
       "      <td>22000.0</td>\n",
       "      <td>23000.0</td>\n",
       "      <td>27000.0</td>\n",
       "      <td>448130642.0</td>\n",
       "      <td>The Dark Knight Rises</td>\n",
       "      <td>106759</td>\n",
       "      <td>0.0</td>\n",
       "      <td>English</td>\n",
       "      <td>USA</td>\n",
       "      <td>250000000.0</td>\n",
       "      <td>2012-01-01</td>\n",
       "      <td>23000.0</td>\n",
       "      <td>2.35</td>\n",
       "      <td>4</td>\n",
       "      <td>0</td>\n",
       "      <td>1</td>\n",
       "      <td>0</td>\n",
       "      <td>1</td>\n",
       "    </tr>\n",
       "    <tr>\n",
       "      <th>5</th>\n",
       "      <td>132.0</td>\n",
       "      <td>475.0</td>\n",
       "      <td>530.0</td>\n",
       "      <td>640.0</td>\n",
       "      <td>73058679.0</td>\n",
       "      <td>John Carter</td>\n",
       "      <td>1873</td>\n",
       "      <td>1.0</td>\n",
       "      <td>English</td>\n",
       "      <td>USA</td>\n",
       "      <td>263700000.0</td>\n",
       "      <td>2012-01-01</td>\n",
       "      <td>632.0</td>\n",
       "      <td>2.35</td>\n",
       "      <td>4</td>\n",
       "      <td>0</td>\n",
       "      <td>1</td>\n",
       "      <td>0</td>\n",
       "      <td>1</td>\n",
       "    </tr>\n",
       "    <tr>\n",
       "      <th>6</th>\n",
       "      <td>156.0</td>\n",
       "      <td>0.0</td>\n",
       "      <td>4000.0</td>\n",
       "      <td>24000.0</td>\n",
       "      <td>336530303.0</td>\n",
       "      <td>Spider-Man 3</td>\n",
       "      <td>46055</td>\n",
       "      <td>0.0</td>\n",
       "      <td>English</td>\n",
       "      <td>USA</td>\n",
       "      <td>258000000.0</td>\n",
       "      <td>2007-01-01</td>\n",
       "      <td>11000.0</td>\n",
       "      <td>2.35</td>\n",
       "      <td>9</td>\n",
       "      <td>0</td>\n",
       "      <td>1</td>\n",
       "      <td>0</td>\n",
       "      <td>1</td>\n",
       "    </tr>\n",
       "  </tbody>\n",
       "</table>\n",
       "</div>"
      ],
      "text/plain": [
       "   duration  director_facebook_likes  actor_3_facebook_likes  \\\n",
       "0     178.0                      0.0                   855.0   \n",
       "1     169.0                    563.0                  1000.0   \n",
       "3     164.0                  22000.0                 23000.0   \n",
       "5     132.0                    475.0                   530.0   \n",
       "6     156.0                      0.0                  4000.0   \n",
       "\n",
       "   actor_1_facebook_likes        gross  \\\n",
       "0                  1000.0  760505847.0   \n",
       "1                 40000.0  309404152.0   \n",
       "3                 27000.0  448130642.0   \n",
       "5                   640.0   73058679.0   \n",
       "6                 24000.0  336530303.0   \n",
       "\n",
       "                                 movie_title  cast_total_facebook_likes  \\\n",
       "0                                    Avatar                        4834   \n",
       "1  Pirates of the Caribbean: At World's End                       48350   \n",
       "3                     The Dark Knight Rises                      106759   \n",
       "5                               John Carter                        1873   \n",
       "6                              Spider-Man 3                       46055   \n",
       "\n",
       "   facenumber_in_poster language country       budget title_year  \\\n",
       "0                   0.0  English     USA  237000000.0 2009-01-01   \n",
       "1                   0.0  English     USA  300000000.0 2007-01-01   \n",
       "3                   0.0  English     USA  250000000.0 2012-01-01   \n",
       "5                   1.0  English     USA  263700000.0 2012-01-01   \n",
       "6                   0.0  English     USA  258000000.0 2007-01-01   \n",
       "\n",
       "   actor_2_facebook_likes  aspect_ratio  years_old  content_rating_PG  \\\n",
       "0                   936.0          1.78          7                  0   \n",
       "1                  5000.0          2.35          9                  0   \n",
       "3                 23000.0          2.35          4                  0   \n",
       "5                   632.0          2.35          4                  0   \n",
       "6                 11000.0          2.35          9                  0   \n",
       "\n",
       "   content_rating_PG-13  content_rating_R  color_Color  \n",
       "0                     1                 0            1  \n",
       "1                     1                 0            1  \n",
       "3                     1                 0            1  \n",
       "5                     1                 0            1  \n",
       "6                     1                 0            1  "
      ]
     },
     "execution_count": 38,
     "metadata": {},
     "output_type": "execute_result"
    }
   ],
   "source": [
    "df.head()"
   ]
  },
  {
   "cell_type": "markdown",
   "metadata": {
    "heading_collapsed": true,
    "hidden": true
   },
   "source": [
    "### Visualize the data"
   ]
  },
  {
   "cell_type": "code",
   "execution_count": 39,
   "metadata": {
    "hidden": true
   },
   "outputs": [],
   "source": [
    "cols = ['duration', 'director_facebook_likes', 'actor_3_facebook_likes',\n",
    "       'actor_1_facebook_likes', \n",
    "       'cast_total_facebook_likes', 'facenumber_in_poster', \n",
    "       'budget',  'actor_2_facebook_likes',\n",
    "        'color_Color', 'content_rating_PG',\n",
    "       'content_rating_PG-13', 'content_rating_R', 'years_old','gross']"
   ]
  },
  {
   "cell_type": "code",
   "execution_count": 40,
   "metadata": {
    "hidden": true
   },
   "outputs": [],
   "source": [
    "#break the colums in to groups to plot 4 on a row at a time\n",
    "n = 4\n",
    "row_groups= [cols[i:i+n] for i in range(0, len(cols), n) ]"
   ]
  },
  {
   "cell_type": "code",
   "execution_count": 41,
   "metadata": {
    "hidden": true
   },
   "outputs": [
    {
     "data": {
      "text/plain": [
       "[['duration',\n",
       "  'director_facebook_likes',\n",
       "  'actor_3_facebook_likes',\n",
       "  'actor_1_facebook_likes'],\n",
       " ['cast_total_facebook_likes',\n",
       "  'facenumber_in_poster',\n",
       "  'budget',\n",
       "  'actor_2_facebook_likes'],\n",
       " ['color_Color',\n",
       "  'content_rating_PG',\n",
       "  'content_rating_PG-13',\n",
       "  'content_rating_R'],\n",
       " ['years_old', 'gross']]"
      ]
     },
     "execution_count": 41,
     "metadata": {},
     "output_type": "execute_result"
    }
   ],
   "source": [
    "row_groups"
   ]
  },
  {
   "cell_type": "code",
   "execution_count": 42,
   "metadata": {
    "hidden": true
   },
   "outputs": [
    {
     "data": {
      "image/png": "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\n",
      "text/plain": [
       "<Figure size 864x216 with 4 Axes>"
      ]
     },
     "metadata": {
      "needs_background": "light"
     },
     "output_type": "display_data"
    },
    {
     "data": {
      "image/png": "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\n",
      "text/plain": [
       "<Figure size 864x216 with 4 Axes>"
      ]
     },
     "metadata": {
      "needs_background": "light"
     },
     "output_type": "display_data"
    },
    {
     "data": {
      "image/png": "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\n",
      "text/plain": [
       "<Figure size 864x216 with 4 Axes>"
      ]
     },
     "metadata": {
      "needs_background": "light"
     },
     "output_type": "display_data"
    },
    {
     "data": {
      "image/png": "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\n",
      "text/plain": [
       "<Figure size 432x216 with 2 Axes>"
      ]
     },
     "metadata": {
      "needs_background": "light"
     },
     "output_type": "display_data"
    }
   ],
   "source": [
    "for i in row_groups:\n",
    "    pp = sns.pairplot(data=df[cols], y_vars='gross',x_vars=i, kind=\"reg\", height=3)"
   ]
  },
  {
   "cell_type": "markdown",
   "metadata": {
    "heading_collapsed": true,
    "hidden": true
   },
   "source": [
    "### Removing Outliers\n",
    "\n",
    "https://towardsdatascience.com/ways-to-detect-and-remove-the-outliers-404d16608dba"
   ]
  },
  {
   "cell_type": "code",
   "execution_count": 43,
   "metadata": {
    "hidden": true
   },
   "outputs": [
    {
     "data": {
      "text/plain": [
       "count      2876.000000\n",
       "mean       8341.289638\n",
       "std       16376.342359\n",
       "min           0.000000\n",
       "25%         839.000000\n",
       "50%        2000.000000\n",
       "75%       13000.000000\n",
       "max      640000.000000\n",
       "Name: actor_1_facebook_likes, dtype: float64"
      ]
     },
     "execution_count": 43,
     "metadata": {},
     "output_type": "execute_result"
    }
   ],
   "source": [
    "df['actor_1_facebook_likes'].describe()"
   ]
  },
  {
   "cell_type": "code",
   "execution_count": 44,
   "metadata": {
    "hidden": true
   },
   "outputs": [],
   "source": [
    "df['actor_1_facebook_likes']= np.where(df['actor_1_facebook_likes'] >200000, 200000, df['actor_1_facebook_likes'])"
   ]
  },
  {
   "cell_type": "code",
   "execution_count": 45,
   "metadata": {
    "hidden": true
   },
   "outputs": [
    {
     "data": {
      "text/plain": [
       "count      2875.000000\n",
       "mean       2248.730087\n",
       "std        4890.340005\n",
       "min           0.000000\n",
       "25%         459.000000\n",
       "50%         754.000000\n",
       "75%        1000.000000\n",
       "max      137000.000000\n",
       "Name: actor_2_facebook_likes, dtype: float64"
      ]
     },
     "execution_count": 45,
     "metadata": {},
     "output_type": "execute_result"
    }
   ],
   "source": [
    "df['actor_2_facebook_likes'].describe()"
   ]
  },
  {
   "cell_type": "code",
   "execution_count": 46,
   "metadata": {
    "hidden": true
   },
   "outputs": [],
   "source": [
    "df['actor_2_facebook_likes']= np.where(df['actor_2_facebook_likes'] >30000, 30000, df['actor_1_facebook_likes'])"
   ]
  },
  {
   "cell_type": "markdown",
   "metadata": {
    "heading_collapsed": true
   },
   "source": [
    "## Feature Engineering"
   ]
  },
  {
   "cell_type": "markdown",
   "metadata": {
    "heading_collapsed": true,
    "hidden": true
   },
   "source": [
    "### Creating New columns based on other columns"
   ]
  },
  {
   "cell_type": "code",
   "execution_count": 47,
   "metadata": {
    "hidden": true
   },
   "outputs": [
    {
     "data": {
      "text/html": [
       "<div>\n",
       "<style scoped>\n",
       "    .dataframe tbody tr th:only-of-type {\n",
       "        vertical-align: middle;\n",
       "    }\n",
       "\n",
       "    .dataframe tbody tr th {\n",
       "        vertical-align: top;\n",
       "    }\n",
       "\n",
       "    .dataframe thead th {\n",
       "        text-align: right;\n",
       "    }\n",
       "</style>\n",
       "<table border=\"1\" class=\"dataframe\">\n",
       "  <thead>\n",
       "    <tr style=\"text-align: right;\">\n",
       "      <th></th>\n",
       "      <th>movie_title</th>\n",
       "      <th>actor_1_facebook_likes</th>\n",
       "      <th>superstar</th>\n",
       "    </tr>\n",
       "  </thead>\n",
       "  <tbody>\n",
       "    <tr>\n",
       "      <th>0</th>\n",
       "      <td>Avatar</td>\n",
       "      <td>1000.0</td>\n",
       "      <td>0</td>\n",
       "    </tr>\n",
       "    <tr>\n",
       "      <th>1</th>\n",
       "      <td>Pirates of the Caribbean: At World's End</td>\n",
       "      <td>40000.0</td>\n",
       "      <td>1</td>\n",
       "    </tr>\n",
       "    <tr>\n",
       "      <th>3</th>\n",
       "      <td>The Dark Knight Rises</td>\n",
       "      <td>27000.0</td>\n",
       "      <td>0</td>\n",
       "    </tr>\n",
       "    <tr>\n",
       "      <th>5</th>\n",
       "      <td>John Carter</td>\n",
       "      <td>640.0</td>\n",
       "      <td>0</td>\n",
       "    </tr>\n",
       "    <tr>\n",
       "      <th>6</th>\n",
       "      <td>Spider-Man 3</td>\n",
       "      <td>24000.0</td>\n",
       "      <td>0</td>\n",
       "    </tr>\n",
       "    <tr>\n",
       "      <th>7</th>\n",
       "      <td>Tangled</td>\n",
       "      <td>799.0</td>\n",
       "      <td>0</td>\n",
       "    </tr>\n",
       "    <tr>\n",
       "      <th>8</th>\n",
       "      <td>Avengers: Age of Ultron</td>\n",
       "      <td>26000.0</td>\n",
       "      <td>0</td>\n",
       "    </tr>\n",
       "    <tr>\n",
       "      <th>10</th>\n",
       "      <td>Batman v Superman: Dawn of Justice</td>\n",
       "      <td>15000.0</td>\n",
       "      <td>0</td>\n",
       "    </tr>\n",
       "    <tr>\n",
       "      <th>11</th>\n",
       "      <td>Superman Returns</td>\n",
       "      <td>18000.0</td>\n",
       "      <td>0</td>\n",
       "    </tr>\n",
       "    <tr>\n",
       "      <th>13</th>\n",
       "      <td>Pirates of the Caribbean: Dead Man's Chest</td>\n",
       "      <td>40000.0</td>\n",
       "      <td>1</td>\n",
       "    </tr>\n",
       "  </tbody>\n",
       "</table>\n",
       "</div>"
      ],
      "text/plain": [
       "                                    movie_title  actor_1_facebook_likes  \\\n",
       "0                                       Avatar                   1000.0   \n",
       "1     Pirates of the Caribbean: At World's End                  40000.0   \n",
       "3                        The Dark Knight Rises                  27000.0   \n",
       "5                                  John Carter                    640.0   \n",
       "6                                 Spider-Man 3                  24000.0   \n",
       "7                                      Tangled                    799.0   \n",
       "8                      Avengers: Age of Ultron                  26000.0   \n",
       "10          Batman v Superman: Dawn of Justice                  15000.0   \n",
       "11                            Superman Returns                  18000.0   \n",
       "13  Pirates of the Caribbean: Dead Man's Chest                  40000.0   \n",
       "\n",
       "    superstar  \n",
       "0           0  \n",
       "1           1  \n",
       "3           0  \n",
       "5           0  \n",
       "6           0  \n",
       "7           0  \n",
       "8           0  \n",
       "10          0  \n",
       "11          0  \n",
       "13          1  "
      ]
     },
     "execution_count": 47,
     "metadata": {},
     "output_type": "execute_result"
    }
   ],
   "source": [
    "# Create a new column called df.superstar where the value is 1\n",
    "# if df.actor_1_facebook_likes is greater th000 and 0 if not\n",
    "df['superstar'] = np.where(df['actor_1_facebook_likes']>=30000, 1, 0)\n",
    "\n",
    "df[['movie_title', 'actor_1_facebook_likes', 'superstar']].head(10)"
   ]
  },
  {
   "cell_type": "code",
   "execution_count": 48,
   "metadata": {
    "hidden": true
   },
   "outputs": [],
   "source": [
    "features =  ['duration', 'director_facebook_likes', 'actor_3_facebook_likes',\n",
    "       'actor_1_facebook_likes', \n",
    "       'cast_total_facebook_likes', 'facenumber_in_poster', \n",
    "       'budget',  'actor_2_facebook_likes',\n",
    "        'color_Color', 'content_rating_PG',\n",
    "       'content_rating_PG-13', 'content_rating_R', 'years_old']"
   ]
  },
  {
   "cell_type": "code",
   "execution_count": 49,
   "metadata": {
    "hidden": true
   },
   "outputs": [],
   "source": [
    "from sklearn.preprocessing import PolynomialFeatures\n",
    "\n",
    "poly = PolynomialFeatures(degree=2, include_bias=False)"
   ]
  },
  {
   "cell_type": "code",
   "execution_count": 137,
   "metadata": {
    "hidden": true,
    "scrolled": true
   },
   "outputs": [],
   "source": [
    "poly_data = poly.fit_transform(df[features])\n",
    "\n",
    "\n",
    "poly_columns = poly.get_feature_names(features)\n",
    "\n",
    "df_poly = pd.DataFrame(poly_data, columns=poly_columns)\n",
    "\n",
    "df_poly.head()"
   ]
  },
  {
   "cell_type": "code",
   "execution_count": 51,
   "metadata": {
    "hidden": true
   },
   "outputs": [
    {
     "data": {
      "text/plain": [
       "duration                     0.000348\n",
       "director_facebook_likes      0.000000\n",
       "actor_3_facebook_likes       0.001043\n",
       "actor_1_facebook_likes       0.000000\n",
       "cast_total_facebook_likes    0.000000\n",
       "facenumber_in_poster         0.002086\n",
       "budget                       0.000000\n",
       "actor_2_facebook_likes       0.000000\n",
       "color_Color                  0.000000\n",
       "content_rating_PG            0.000000\n",
       "content_rating_PG-13         0.000000\n",
       "content_rating_R             0.000000\n",
       "years_old                    0.000000\n",
       "dtype: float64"
      ]
     },
     "execution_count": 51,
     "metadata": {},
     "output_type": "execute_result"
    }
   ],
   "source": [
    "# Find the Percentage of rows missing data\n",
    "df[features].isna().mean()"
   ]
  },
  {
   "cell_type": "code",
   "execution_count": 52,
   "metadata": {
    "hidden": true
   },
   "outputs": [],
   "source": [
    "df['duration'].fillna(df['duration'].mean(), inplace=True)\n"
   ]
  },
  {
   "cell_type": "code",
   "execution_count": 53,
   "metadata": {
    "hidden": true
   },
   "outputs": [],
   "source": [
    "df['actor_3_facebook_likes'].fillna(df['actor_3_facebook_likes'].mean(), inplace=True)\n"
   ]
  },
  {
   "cell_type": "code",
   "execution_count": 54,
   "metadata": {
    "hidden": true,
    "scrolled": true
   },
   "outputs": [],
   "source": [
    "df['facenumber_in_poster'].fillna(df['facenumber_in_poster'].mean(), inplace=True)\n"
   ]
  },
  {
   "cell_type": "code",
   "execution_count": 55,
   "metadata": {
    "hidden": true
   },
   "outputs": [
    {
     "data": {
      "text/html": [
       "<div>\n",
       "<style scoped>\n",
       "    .dataframe tbody tr th:only-of-type {\n",
       "        vertical-align: middle;\n",
       "    }\n",
       "\n",
       "    .dataframe tbody tr th {\n",
       "        vertical-align: top;\n",
       "    }\n",
       "\n",
       "    .dataframe thead th {\n",
       "        text-align: right;\n",
       "    }\n",
       "</style>\n",
       "<table border=\"1\" class=\"dataframe\">\n",
       "  <thead>\n",
       "    <tr style=\"text-align: right;\">\n",
       "      <th></th>\n",
       "      <th>duration</th>\n",
       "      <th>director_facebook_likes</th>\n",
       "      <th>actor_3_facebook_likes</th>\n",
       "      <th>actor_1_facebook_likes</th>\n",
       "      <th>cast_total_facebook_likes</th>\n",
       "      <th>facenumber_in_poster</th>\n",
       "      <th>budget</th>\n",
       "      <th>actor_2_facebook_likes</th>\n",
       "      <th>color_Color</th>\n",
       "      <th>content_rating_PG</th>\n",
       "      <th>content_rating_PG-13</th>\n",
       "      <th>content_rating_R</th>\n",
       "      <th>years_old</th>\n",
       "      <th>duration^2</th>\n",
       "      <th>duration director_facebook_likes</th>\n",
       "      <th>duration actor_3_facebook_likes</th>\n",
       "      <th>duration actor_1_facebook_likes</th>\n",
       "      <th>duration cast_total_facebook_likes</th>\n",
       "      <th>duration facenumber_in_poster</th>\n",
       "      <th>duration budget</th>\n",
       "      <th>duration actor_2_facebook_likes</th>\n",
       "      <th>duration color_Color</th>\n",
       "      <th>duration content_rating_PG</th>\n",
       "      <th>duration content_rating_PG-13</th>\n",
       "      <th>duration content_rating_R</th>\n",
       "      <th>duration years_old</th>\n",
       "      <th>director_facebook_likes^2</th>\n",
       "      <th>director_facebook_likes actor_3_facebook_likes</th>\n",
       "      <th>director_facebook_likes actor_1_facebook_likes</th>\n",
       "      <th>director_facebook_likes cast_total_facebook_likes</th>\n",
       "      <th>director_facebook_likes facenumber_in_poster</th>\n",
       "      <th>director_facebook_likes budget</th>\n",
       "      <th>director_facebook_likes actor_2_facebook_likes</th>\n",
       "      <th>director_facebook_likes color_Color</th>\n",
       "      <th>director_facebook_likes content_rating_PG</th>\n",
       "      <th>director_facebook_likes content_rating_PG-13</th>\n",
       "      <th>director_facebook_likes content_rating_R</th>\n",
       "      <th>director_facebook_likes years_old</th>\n",
       "      <th>actor_3_facebook_likes^2</th>\n",
       "      <th>actor_3_facebook_likes actor_1_facebook_likes</th>\n",
       "      <th>actor_3_facebook_likes cast_total_facebook_likes</th>\n",
       "      <th>actor_3_facebook_likes facenumber_in_poster</th>\n",
       "      <th>actor_3_facebook_likes budget</th>\n",
       "      <th>actor_3_facebook_likes actor_2_facebook_likes</th>\n",
       "      <th>actor_3_facebook_likes color_Color</th>\n",
       "      <th>actor_3_facebook_likes content_rating_PG</th>\n",
       "      <th>actor_3_facebook_likes content_rating_PG-13</th>\n",
       "      <th>actor_3_facebook_likes content_rating_R</th>\n",
       "      <th>actor_3_facebook_likes years_old</th>\n",
       "      <th>actor_1_facebook_likes^2</th>\n",
       "      <th>...</th>\n",
       "      <th>actor_1_facebook_likes color_Color</th>\n",
       "      <th>actor_1_facebook_likes content_rating_PG</th>\n",
       "      <th>actor_1_facebook_likes content_rating_PG-13</th>\n",
       "      <th>actor_1_facebook_likes content_rating_R</th>\n",
       "      <th>actor_1_facebook_likes years_old</th>\n",
       "      <th>cast_total_facebook_likes^2</th>\n",
       "      <th>cast_total_facebook_likes facenumber_in_poster</th>\n",
       "      <th>cast_total_facebook_likes budget</th>\n",
       "      <th>cast_total_facebook_likes actor_2_facebook_likes</th>\n",
       "      <th>cast_total_facebook_likes color_Color</th>\n",
       "      <th>cast_total_facebook_likes content_rating_PG</th>\n",
       "      <th>cast_total_facebook_likes content_rating_PG-13</th>\n",
       "      <th>cast_total_facebook_likes content_rating_R</th>\n",
       "      <th>cast_total_facebook_likes years_old</th>\n",
       "      <th>facenumber_in_poster^2</th>\n",
       "      <th>facenumber_in_poster budget</th>\n",
       "      <th>facenumber_in_poster actor_2_facebook_likes</th>\n",
       "      <th>facenumber_in_poster color_Color</th>\n",
       "      <th>facenumber_in_poster content_rating_PG</th>\n",
       "      <th>facenumber_in_poster content_rating_PG-13</th>\n",
       "      <th>facenumber_in_poster content_rating_R</th>\n",
       "      <th>facenumber_in_poster years_old</th>\n",
       "      <th>budget^2</th>\n",
       "      <th>budget actor_2_facebook_likes</th>\n",
       "      <th>budget color_Color</th>\n",
       "      <th>budget content_rating_PG</th>\n",
       "      <th>budget content_rating_PG-13</th>\n",
       "      <th>budget content_rating_R</th>\n",
       "      <th>budget years_old</th>\n",
       "      <th>actor_2_facebook_likes^2</th>\n",
       "      <th>actor_2_facebook_likes color_Color</th>\n",
       "      <th>actor_2_facebook_likes content_rating_PG</th>\n",
       "      <th>actor_2_facebook_likes content_rating_PG-13</th>\n",
       "      <th>actor_2_facebook_likes content_rating_R</th>\n",
       "      <th>actor_2_facebook_likes years_old</th>\n",
       "      <th>color_Color^2</th>\n",
       "      <th>color_Color content_rating_PG</th>\n",
       "      <th>color_Color content_rating_PG-13</th>\n",
       "      <th>color_Color content_rating_R</th>\n",
       "      <th>color_Color years_old</th>\n",
       "      <th>content_rating_PG^2</th>\n",
       "      <th>content_rating_PG content_rating_PG-13</th>\n",
       "      <th>content_rating_PG content_rating_R</th>\n",
       "      <th>content_rating_PG years_old</th>\n",
       "      <th>content_rating_PG-13^2</th>\n",
       "      <th>content_rating_PG-13 content_rating_R</th>\n",
       "      <th>content_rating_PG-13 years_old</th>\n",
       "      <th>content_rating_R^2</th>\n",
       "      <th>content_rating_R years_old</th>\n",
       "      <th>years_old^2</th>\n",
       "    </tr>\n",
       "  </thead>\n",
       "  <tbody>\n",
       "    <tr>\n",
       "      <th>0</th>\n",
       "      <td>178.0</td>\n",
       "      <td>0.0</td>\n",
       "      <td>855.0</td>\n",
       "      <td>1000.0</td>\n",
       "      <td>4834.0</td>\n",
       "      <td>0.0</td>\n",
       "      <td>237000000.0</td>\n",
       "      <td>1000.0</td>\n",
       "      <td>1.0</td>\n",
       "      <td>0.0</td>\n",
       "      <td>1.0</td>\n",
       "      <td>0.0</td>\n",
       "      <td>7.0</td>\n",
       "      <td>31684.0</td>\n",
       "      <td>0.0</td>\n",
       "      <td>152190.0</td>\n",
       "      <td>178000.0</td>\n",
       "      <td>860452.0</td>\n",
       "      <td>0.0</td>\n",
       "      <td>4.218600e+10</td>\n",
       "      <td>178000.0</td>\n",
       "      <td>178.0</td>\n",
       "      <td>0.0</td>\n",
       "      <td>178.0</td>\n",
       "      <td>0.0</td>\n",
       "      <td>1246.0</td>\n",
       "      <td>0.0</td>\n",
       "      <td>0.0</td>\n",
       "      <td>0.0</td>\n",
       "      <td>0.000000e+00</td>\n",
       "      <td>0.0</td>\n",
       "      <td>0.000000e+00</td>\n",
       "      <td>0.0</td>\n",
       "      <td>0.0</td>\n",
       "      <td>0.0</td>\n",
       "      <td>0.0</td>\n",
       "      <td>0.0</td>\n",
       "      <td>0.0</td>\n",
       "      <td>731025.0</td>\n",
       "      <td>855000.0</td>\n",
       "      <td>4.133070e+06</td>\n",
       "      <td>0.0</td>\n",
       "      <td>2.026350e+11</td>\n",
       "      <td>855000.0</td>\n",
       "      <td>855.0</td>\n",
       "      <td>0.0</td>\n",
       "      <td>855.0</td>\n",
       "      <td>0.0</td>\n",
       "      <td>5985.0</td>\n",
       "      <td>1.000000e+06</td>\n",
       "      <td>...</td>\n",
       "      <td>1000.0</td>\n",
       "      <td>0.0</td>\n",
       "      <td>1000.0</td>\n",
       "      <td>0.0</td>\n",
       "      <td>7000.0</td>\n",
       "      <td>2.336756e+07</td>\n",
       "      <td>0.0</td>\n",
       "      <td>1.145658e+12</td>\n",
       "      <td>4.834000e+06</td>\n",
       "      <td>4834.0</td>\n",
       "      <td>0.0</td>\n",
       "      <td>4834.0</td>\n",
       "      <td>0.0</td>\n",
       "      <td>33838.0</td>\n",
       "      <td>0.0</td>\n",
       "      <td>0.0</td>\n",
       "      <td>0.0</td>\n",
       "      <td>0.0</td>\n",
       "      <td>0.0</td>\n",
       "      <td>0.0</td>\n",
       "      <td>0.0</td>\n",
       "      <td>0.0</td>\n",
       "      <td>5.616900e+16</td>\n",
       "      <td>2.370000e+11</td>\n",
       "      <td>237000000.0</td>\n",
       "      <td>0.0</td>\n",
       "      <td>237000000.0</td>\n",
       "      <td>0.0</td>\n",
       "      <td>1.659000e+09</td>\n",
       "      <td>1.000000e+06</td>\n",
       "      <td>1000.0</td>\n",
       "      <td>0.0</td>\n",
       "      <td>1000.0</td>\n",
       "      <td>0.0</td>\n",
       "      <td>7000.0</td>\n",
       "      <td>1.0</td>\n",
       "      <td>0.0</td>\n",
       "      <td>1.0</td>\n",
       "      <td>0.0</td>\n",
       "      <td>7.0</td>\n",
       "      <td>0.0</td>\n",
       "      <td>0.0</td>\n",
       "      <td>0.0</td>\n",
       "      <td>0.0</td>\n",
       "      <td>1.0</td>\n",
       "      <td>0.0</td>\n",
       "      <td>7.0</td>\n",
       "      <td>0.0</td>\n",
       "      <td>0.0</td>\n",
       "      <td>49.0</td>\n",
       "    </tr>\n",
       "    <tr>\n",
       "      <th>1</th>\n",
       "      <td>169.0</td>\n",
       "      <td>563.0</td>\n",
       "      <td>1000.0</td>\n",
       "      <td>40000.0</td>\n",
       "      <td>48350.0</td>\n",
       "      <td>0.0</td>\n",
       "      <td>300000000.0</td>\n",
       "      <td>40000.0</td>\n",
       "      <td>1.0</td>\n",
       "      <td>0.0</td>\n",
       "      <td>1.0</td>\n",
       "      <td>0.0</td>\n",
       "      <td>9.0</td>\n",
       "      <td>28561.0</td>\n",
       "      <td>95147.0</td>\n",
       "      <td>169000.0</td>\n",
       "      <td>6760000.0</td>\n",
       "      <td>8171150.0</td>\n",
       "      <td>0.0</td>\n",
       "      <td>5.070000e+10</td>\n",
       "      <td>6760000.0</td>\n",
       "      <td>169.0</td>\n",
       "      <td>0.0</td>\n",
       "      <td>169.0</td>\n",
       "      <td>0.0</td>\n",
       "      <td>1521.0</td>\n",
       "      <td>316969.0</td>\n",
       "      <td>563000.0</td>\n",
       "      <td>22520000.0</td>\n",
       "      <td>2.722105e+07</td>\n",
       "      <td>0.0</td>\n",
       "      <td>1.689000e+11</td>\n",
       "      <td>22520000.0</td>\n",
       "      <td>563.0</td>\n",
       "      <td>0.0</td>\n",
       "      <td>563.0</td>\n",
       "      <td>0.0</td>\n",
       "      <td>5067.0</td>\n",
       "      <td>1000000.0</td>\n",
       "      <td>40000000.0</td>\n",
       "      <td>4.835000e+07</td>\n",
       "      <td>0.0</td>\n",
       "      <td>3.000000e+11</td>\n",
       "      <td>40000000.0</td>\n",
       "      <td>1000.0</td>\n",
       "      <td>0.0</td>\n",
       "      <td>1000.0</td>\n",
       "      <td>0.0</td>\n",
       "      <td>9000.0</td>\n",
       "      <td>1.600000e+09</td>\n",
       "      <td>...</td>\n",
       "      <td>40000.0</td>\n",
       "      <td>0.0</td>\n",
       "      <td>40000.0</td>\n",
       "      <td>0.0</td>\n",
       "      <td>360000.0</td>\n",
       "      <td>2.337722e+09</td>\n",
       "      <td>0.0</td>\n",
       "      <td>1.450500e+13</td>\n",
       "      <td>1.934000e+09</td>\n",
       "      <td>48350.0</td>\n",
       "      <td>0.0</td>\n",
       "      <td>48350.0</td>\n",
       "      <td>0.0</td>\n",
       "      <td>435150.0</td>\n",
       "      <td>0.0</td>\n",
       "      <td>0.0</td>\n",
       "      <td>0.0</td>\n",
       "      <td>0.0</td>\n",
       "      <td>0.0</td>\n",
       "      <td>0.0</td>\n",
       "      <td>0.0</td>\n",
       "      <td>0.0</td>\n",
       "      <td>9.000000e+16</td>\n",
       "      <td>1.200000e+13</td>\n",
       "      <td>300000000.0</td>\n",
       "      <td>0.0</td>\n",
       "      <td>300000000.0</td>\n",
       "      <td>0.0</td>\n",
       "      <td>2.700000e+09</td>\n",
       "      <td>1.600000e+09</td>\n",
       "      <td>40000.0</td>\n",
       "      <td>0.0</td>\n",
       "      <td>40000.0</td>\n",
       "      <td>0.0</td>\n",
       "      <td>360000.0</td>\n",
       "      <td>1.0</td>\n",
       "      <td>0.0</td>\n",
       "      <td>1.0</td>\n",
       "      <td>0.0</td>\n",
       "      <td>9.0</td>\n",
       "      <td>0.0</td>\n",
       "      <td>0.0</td>\n",
       "      <td>0.0</td>\n",
       "      <td>0.0</td>\n",
       "      <td>1.0</td>\n",
       "      <td>0.0</td>\n",
       "      <td>9.0</td>\n",
       "      <td>0.0</td>\n",
       "      <td>0.0</td>\n",
       "      <td>81.0</td>\n",
       "    </tr>\n",
       "    <tr>\n",
       "      <th>2</th>\n",
       "      <td>164.0</td>\n",
       "      <td>22000.0</td>\n",
       "      <td>23000.0</td>\n",
       "      <td>27000.0</td>\n",
       "      <td>106759.0</td>\n",
       "      <td>0.0</td>\n",
       "      <td>250000000.0</td>\n",
       "      <td>27000.0</td>\n",
       "      <td>1.0</td>\n",
       "      <td>0.0</td>\n",
       "      <td>1.0</td>\n",
       "      <td>0.0</td>\n",
       "      <td>4.0</td>\n",
       "      <td>26896.0</td>\n",
       "      <td>3608000.0</td>\n",
       "      <td>3772000.0</td>\n",
       "      <td>4428000.0</td>\n",
       "      <td>17508476.0</td>\n",
       "      <td>0.0</td>\n",
       "      <td>4.100000e+10</td>\n",
       "      <td>4428000.0</td>\n",
       "      <td>164.0</td>\n",
       "      <td>0.0</td>\n",
       "      <td>164.0</td>\n",
       "      <td>0.0</td>\n",
       "      <td>656.0</td>\n",
       "      <td>484000000.0</td>\n",
       "      <td>506000000.0</td>\n",
       "      <td>594000000.0</td>\n",
       "      <td>2.348698e+09</td>\n",
       "      <td>0.0</td>\n",
       "      <td>5.500000e+12</td>\n",
       "      <td>594000000.0</td>\n",
       "      <td>22000.0</td>\n",
       "      <td>0.0</td>\n",
       "      <td>22000.0</td>\n",
       "      <td>0.0</td>\n",
       "      <td>88000.0</td>\n",
       "      <td>529000000.0</td>\n",
       "      <td>621000000.0</td>\n",
       "      <td>2.455457e+09</td>\n",
       "      <td>0.0</td>\n",
       "      <td>5.750000e+12</td>\n",
       "      <td>621000000.0</td>\n",
       "      <td>23000.0</td>\n",
       "      <td>0.0</td>\n",
       "      <td>23000.0</td>\n",
       "      <td>0.0</td>\n",
       "      <td>92000.0</td>\n",
       "      <td>7.290000e+08</td>\n",
       "      <td>...</td>\n",
       "      <td>27000.0</td>\n",
       "      <td>0.0</td>\n",
       "      <td>27000.0</td>\n",
       "      <td>0.0</td>\n",
       "      <td>108000.0</td>\n",
       "      <td>1.139748e+10</td>\n",
       "      <td>0.0</td>\n",
       "      <td>2.668975e+13</td>\n",
       "      <td>2.882493e+09</td>\n",
       "      <td>106759.0</td>\n",
       "      <td>0.0</td>\n",
       "      <td>106759.0</td>\n",
       "      <td>0.0</td>\n",
       "      <td>427036.0</td>\n",
       "      <td>0.0</td>\n",
       "      <td>0.0</td>\n",
       "      <td>0.0</td>\n",
       "      <td>0.0</td>\n",
       "      <td>0.0</td>\n",
       "      <td>0.0</td>\n",
       "      <td>0.0</td>\n",
       "      <td>0.0</td>\n",
       "      <td>6.250000e+16</td>\n",
       "      <td>6.750000e+12</td>\n",
       "      <td>250000000.0</td>\n",
       "      <td>0.0</td>\n",
       "      <td>250000000.0</td>\n",
       "      <td>0.0</td>\n",
       "      <td>1.000000e+09</td>\n",
       "      <td>7.290000e+08</td>\n",
       "      <td>27000.0</td>\n",
       "      <td>0.0</td>\n",
       "      <td>27000.0</td>\n",
       "      <td>0.0</td>\n",
       "      <td>108000.0</td>\n",
       "      <td>1.0</td>\n",
       "      <td>0.0</td>\n",
       "      <td>1.0</td>\n",
       "      <td>0.0</td>\n",
       "      <td>4.0</td>\n",
       "      <td>0.0</td>\n",
       "      <td>0.0</td>\n",
       "      <td>0.0</td>\n",
       "      <td>0.0</td>\n",
       "      <td>1.0</td>\n",
       "      <td>0.0</td>\n",
       "      <td>4.0</td>\n",
       "      <td>0.0</td>\n",
       "      <td>0.0</td>\n",
       "      <td>16.0</td>\n",
       "    </tr>\n",
       "    <tr>\n",
       "      <th>3</th>\n",
       "      <td>132.0</td>\n",
       "      <td>475.0</td>\n",
       "      <td>530.0</td>\n",
       "      <td>640.0</td>\n",
       "      <td>1873.0</td>\n",
       "      <td>1.0</td>\n",
       "      <td>263700000.0</td>\n",
       "      <td>640.0</td>\n",
       "      <td>1.0</td>\n",
       "      <td>0.0</td>\n",
       "      <td>1.0</td>\n",
       "      <td>0.0</td>\n",
       "      <td>4.0</td>\n",
       "      <td>17424.0</td>\n",
       "      <td>62700.0</td>\n",
       "      <td>69960.0</td>\n",
       "      <td>84480.0</td>\n",
       "      <td>247236.0</td>\n",
       "      <td>132.0</td>\n",
       "      <td>3.480840e+10</td>\n",
       "      <td>84480.0</td>\n",
       "      <td>132.0</td>\n",
       "      <td>0.0</td>\n",
       "      <td>132.0</td>\n",
       "      <td>0.0</td>\n",
       "      <td>528.0</td>\n",
       "      <td>225625.0</td>\n",
       "      <td>251750.0</td>\n",
       "      <td>304000.0</td>\n",
       "      <td>8.896750e+05</td>\n",
       "      <td>475.0</td>\n",
       "      <td>1.252575e+11</td>\n",
       "      <td>304000.0</td>\n",
       "      <td>475.0</td>\n",
       "      <td>0.0</td>\n",
       "      <td>475.0</td>\n",
       "      <td>0.0</td>\n",
       "      <td>1900.0</td>\n",
       "      <td>280900.0</td>\n",
       "      <td>339200.0</td>\n",
       "      <td>9.926900e+05</td>\n",
       "      <td>530.0</td>\n",
       "      <td>1.397610e+11</td>\n",
       "      <td>339200.0</td>\n",
       "      <td>530.0</td>\n",
       "      <td>0.0</td>\n",
       "      <td>530.0</td>\n",
       "      <td>0.0</td>\n",
       "      <td>2120.0</td>\n",
       "      <td>4.096000e+05</td>\n",
       "      <td>...</td>\n",
       "      <td>640.0</td>\n",
       "      <td>0.0</td>\n",
       "      <td>640.0</td>\n",
       "      <td>0.0</td>\n",
       "      <td>2560.0</td>\n",
       "      <td>3.508129e+06</td>\n",
       "      <td>1873.0</td>\n",
       "      <td>4.939101e+11</td>\n",
       "      <td>1.198720e+06</td>\n",
       "      <td>1873.0</td>\n",
       "      <td>0.0</td>\n",
       "      <td>1873.0</td>\n",
       "      <td>0.0</td>\n",
       "      <td>7492.0</td>\n",
       "      <td>1.0</td>\n",
       "      <td>263700000.0</td>\n",
       "      <td>640.0</td>\n",
       "      <td>1.0</td>\n",
       "      <td>0.0</td>\n",
       "      <td>1.0</td>\n",
       "      <td>0.0</td>\n",
       "      <td>4.0</td>\n",
       "      <td>6.953769e+16</td>\n",
       "      <td>1.687680e+11</td>\n",
       "      <td>263700000.0</td>\n",
       "      <td>0.0</td>\n",
       "      <td>263700000.0</td>\n",
       "      <td>0.0</td>\n",
       "      <td>1.054800e+09</td>\n",
       "      <td>4.096000e+05</td>\n",
       "      <td>640.0</td>\n",
       "      <td>0.0</td>\n",
       "      <td>640.0</td>\n",
       "      <td>0.0</td>\n",
       "      <td>2560.0</td>\n",
       "      <td>1.0</td>\n",
       "      <td>0.0</td>\n",
       "      <td>1.0</td>\n",
       "      <td>0.0</td>\n",
       "      <td>4.0</td>\n",
       "      <td>0.0</td>\n",
       "      <td>0.0</td>\n",
       "      <td>0.0</td>\n",
       "      <td>0.0</td>\n",
       "      <td>1.0</td>\n",
       "      <td>0.0</td>\n",
       "      <td>4.0</td>\n",
       "      <td>0.0</td>\n",
       "      <td>0.0</td>\n",
       "      <td>16.0</td>\n",
       "    </tr>\n",
       "    <tr>\n",
       "      <th>4</th>\n",
       "      <td>156.0</td>\n",
       "      <td>0.0</td>\n",
       "      <td>4000.0</td>\n",
       "      <td>24000.0</td>\n",
       "      <td>46055.0</td>\n",
       "      <td>0.0</td>\n",
       "      <td>258000000.0</td>\n",
       "      <td>24000.0</td>\n",
       "      <td>1.0</td>\n",
       "      <td>0.0</td>\n",
       "      <td>1.0</td>\n",
       "      <td>0.0</td>\n",
       "      <td>9.0</td>\n",
       "      <td>24336.0</td>\n",
       "      <td>0.0</td>\n",
       "      <td>624000.0</td>\n",
       "      <td>3744000.0</td>\n",
       "      <td>7184580.0</td>\n",
       "      <td>0.0</td>\n",
       "      <td>4.024800e+10</td>\n",
       "      <td>3744000.0</td>\n",
       "      <td>156.0</td>\n",
       "      <td>0.0</td>\n",
       "      <td>156.0</td>\n",
       "      <td>0.0</td>\n",
       "      <td>1404.0</td>\n",
       "      <td>0.0</td>\n",
       "      <td>0.0</td>\n",
       "      <td>0.0</td>\n",
       "      <td>0.000000e+00</td>\n",
       "      <td>0.0</td>\n",
       "      <td>0.000000e+00</td>\n",
       "      <td>0.0</td>\n",
       "      <td>0.0</td>\n",
       "      <td>0.0</td>\n",
       "      <td>0.0</td>\n",
       "      <td>0.0</td>\n",
       "      <td>0.0</td>\n",
       "      <td>16000000.0</td>\n",
       "      <td>96000000.0</td>\n",
       "      <td>1.842200e+08</td>\n",
       "      <td>0.0</td>\n",
       "      <td>1.032000e+12</td>\n",
       "      <td>96000000.0</td>\n",
       "      <td>4000.0</td>\n",
       "      <td>0.0</td>\n",
       "      <td>4000.0</td>\n",
       "      <td>0.0</td>\n",
       "      <td>36000.0</td>\n",
       "      <td>5.760000e+08</td>\n",
       "      <td>...</td>\n",
       "      <td>24000.0</td>\n",
       "      <td>0.0</td>\n",
       "      <td>24000.0</td>\n",
       "      <td>0.0</td>\n",
       "      <td>216000.0</td>\n",
       "      <td>2.121063e+09</td>\n",
       "      <td>0.0</td>\n",
       "      <td>1.188219e+13</td>\n",
       "      <td>1.105320e+09</td>\n",
       "      <td>46055.0</td>\n",
       "      <td>0.0</td>\n",
       "      <td>46055.0</td>\n",
       "      <td>0.0</td>\n",
       "      <td>414495.0</td>\n",
       "      <td>0.0</td>\n",
       "      <td>0.0</td>\n",
       "      <td>0.0</td>\n",
       "      <td>0.0</td>\n",
       "      <td>0.0</td>\n",
       "      <td>0.0</td>\n",
       "      <td>0.0</td>\n",
       "      <td>0.0</td>\n",
       "      <td>6.656400e+16</td>\n",
       "      <td>6.192000e+12</td>\n",
       "      <td>258000000.0</td>\n",
       "      <td>0.0</td>\n",
       "      <td>258000000.0</td>\n",
       "      <td>0.0</td>\n",
       "      <td>2.322000e+09</td>\n",
       "      <td>5.760000e+08</td>\n",
       "      <td>24000.0</td>\n",
       "      <td>0.0</td>\n",
       "      <td>24000.0</td>\n",
       "      <td>0.0</td>\n",
       "      <td>216000.0</td>\n",
       "      <td>1.0</td>\n",
       "      <td>0.0</td>\n",
       "      <td>1.0</td>\n",
       "      <td>0.0</td>\n",
       "      <td>9.0</td>\n",
       "      <td>0.0</td>\n",
       "      <td>0.0</td>\n",
       "      <td>0.0</td>\n",
       "      <td>0.0</td>\n",
       "      <td>1.0</td>\n",
       "      <td>0.0</td>\n",
       "      <td>9.0</td>\n",
       "      <td>0.0</td>\n",
       "      <td>0.0</td>\n",
       "      <td>81.0</td>\n",
       "    </tr>\n",
       "  </tbody>\n",
       "</table>\n",
       "<p>5 rows × 104 columns</p>\n",
       "</div>"
      ],
      "text/plain": [
       "   duration  director_facebook_likes  actor_3_facebook_likes  \\\n",
       "0     178.0                      0.0                   855.0   \n",
       "1     169.0                    563.0                  1000.0   \n",
       "2     164.0                  22000.0                 23000.0   \n",
       "3     132.0                    475.0                   530.0   \n",
       "4     156.0                      0.0                  4000.0   \n",
       "\n",
       "   actor_1_facebook_likes  cast_total_facebook_likes  facenumber_in_poster  \\\n",
       "0                  1000.0                     4834.0                   0.0   \n",
       "1                 40000.0                    48350.0                   0.0   \n",
       "2                 27000.0                   106759.0                   0.0   \n",
       "3                   640.0                     1873.0                   1.0   \n",
       "4                 24000.0                    46055.0                   0.0   \n",
       "\n",
       "        budget  actor_2_facebook_likes  color_Color  content_rating_PG  \\\n",
       "0  237000000.0                  1000.0          1.0                0.0   \n",
       "1  300000000.0                 40000.0          1.0                0.0   \n",
       "2  250000000.0                 27000.0          1.0                0.0   \n",
       "3  263700000.0                   640.0          1.0                0.0   \n",
       "4  258000000.0                 24000.0          1.0                0.0   \n",
       "\n",
       "   content_rating_PG-13  content_rating_R  years_old  duration^2  \\\n",
       "0                   1.0               0.0        7.0     31684.0   \n",
       "1                   1.0               0.0        9.0     28561.0   \n",
       "2                   1.0               0.0        4.0     26896.0   \n",
       "3                   1.0               0.0        4.0     17424.0   \n",
       "4                   1.0               0.0        9.0     24336.0   \n",
       "\n",
       "   duration director_facebook_likes  duration actor_3_facebook_likes  \\\n",
       "0                               0.0                         152190.0   \n",
       "1                           95147.0                         169000.0   \n",
       "2                         3608000.0                        3772000.0   \n",
       "3                           62700.0                          69960.0   \n",
       "4                               0.0                         624000.0   \n",
       "\n",
       "   duration actor_1_facebook_likes  duration cast_total_facebook_likes  \\\n",
       "0                         178000.0                            860452.0   \n",
       "1                        6760000.0                           8171150.0   \n",
       "2                        4428000.0                          17508476.0   \n",
       "3                          84480.0                            247236.0   \n",
       "4                        3744000.0                           7184580.0   \n",
       "\n",
       "   duration facenumber_in_poster  duration budget  \\\n",
       "0                            0.0     4.218600e+10   \n",
       "1                            0.0     5.070000e+10   \n",
       "2                            0.0     4.100000e+10   \n",
       "3                          132.0     3.480840e+10   \n",
       "4                            0.0     4.024800e+10   \n",
       "\n",
       "   duration actor_2_facebook_likes  duration color_Color  \\\n",
       "0                         178000.0                 178.0   \n",
       "1                        6760000.0                 169.0   \n",
       "2                        4428000.0                 164.0   \n",
       "3                          84480.0                 132.0   \n",
       "4                        3744000.0                 156.0   \n",
       "\n",
       "   duration content_rating_PG  duration content_rating_PG-13  \\\n",
       "0                         0.0                          178.0   \n",
       "1                         0.0                          169.0   \n",
       "2                         0.0                          164.0   \n",
       "3                         0.0                          132.0   \n",
       "4                         0.0                          156.0   \n",
       "\n",
       "   duration content_rating_R  duration years_old  director_facebook_likes^2  \\\n",
       "0                        0.0              1246.0                        0.0   \n",
       "1                        0.0              1521.0                   316969.0   \n",
       "2                        0.0               656.0                484000000.0   \n",
       "3                        0.0               528.0                   225625.0   \n",
       "4                        0.0              1404.0                        0.0   \n",
       "\n",
       "   director_facebook_likes actor_3_facebook_likes  \\\n",
       "0                                             0.0   \n",
       "1                                        563000.0   \n",
       "2                                     506000000.0   \n",
       "3                                        251750.0   \n",
       "4                                             0.0   \n",
       "\n",
       "   director_facebook_likes actor_1_facebook_likes  \\\n",
       "0                                             0.0   \n",
       "1                                      22520000.0   \n",
       "2                                     594000000.0   \n",
       "3                                        304000.0   \n",
       "4                                             0.0   \n",
       "\n",
       "   director_facebook_likes cast_total_facebook_likes  \\\n",
       "0                                       0.000000e+00   \n",
       "1                                       2.722105e+07   \n",
       "2                                       2.348698e+09   \n",
       "3                                       8.896750e+05   \n",
       "4                                       0.000000e+00   \n",
       "\n",
       "   director_facebook_likes facenumber_in_poster  \\\n",
       "0                                           0.0   \n",
       "1                                           0.0   \n",
       "2                                           0.0   \n",
       "3                                         475.0   \n",
       "4                                           0.0   \n",
       "\n",
       "   director_facebook_likes budget  \\\n",
       "0                    0.000000e+00   \n",
       "1                    1.689000e+11   \n",
       "2                    5.500000e+12   \n",
       "3                    1.252575e+11   \n",
       "4                    0.000000e+00   \n",
       "\n",
       "   director_facebook_likes actor_2_facebook_likes  \\\n",
       "0                                             0.0   \n",
       "1                                      22520000.0   \n",
       "2                                     594000000.0   \n",
       "3                                        304000.0   \n",
       "4                                             0.0   \n",
       "\n",
       "   director_facebook_likes color_Color  \\\n",
       "0                                  0.0   \n",
       "1                                563.0   \n",
       "2                              22000.0   \n",
       "3                                475.0   \n",
       "4                                  0.0   \n",
       "\n",
       "   director_facebook_likes content_rating_PG  \\\n",
       "0                                        0.0   \n",
       "1                                        0.0   \n",
       "2                                        0.0   \n",
       "3                                        0.0   \n",
       "4                                        0.0   \n",
       "\n",
       "   director_facebook_likes content_rating_PG-13  \\\n",
       "0                                           0.0   \n",
       "1                                         563.0   \n",
       "2                                       22000.0   \n",
       "3                                         475.0   \n",
       "4                                           0.0   \n",
       "\n",
       "   director_facebook_likes content_rating_R  \\\n",
       "0                                       0.0   \n",
       "1                                       0.0   \n",
       "2                                       0.0   \n",
       "3                                       0.0   \n",
       "4                                       0.0   \n",
       "\n",
       "   director_facebook_likes years_old  actor_3_facebook_likes^2  \\\n",
       "0                                0.0                  731025.0   \n",
       "1                             5067.0                 1000000.0   \n",
       "2                            88000.0               529000000.0   \n",
       "3                             1900.0                  280900.0   \n",
       "4                                0.0                16000000.0   \n",
       "\n",
       "   actor_3_facebook_likes actor_1_facebook_likes  \\\n",
       "0                                       855000.0   \n",
       "1                                     40000000.0   \n",
       "2                                    621000000.0   \n",
       "3                                       339200.0   \n",
       "4                                     96000000.0   \n",
       "\n",
       "   actor_3_facebook_likes cast_total_facebook_likes  \\\n",
       "0                                      4.133070e+06   \n",
       "1                                      4.835000e+07   \n",
       "2                                      2.455457e+09   \n",
       "3                                      9.926900e+05   \n",
       "4                                      1.842200e+08   \n",
       "\n",
       "   actor_3_facebook_likes facenumber_in_poster  actor_3_facebook_likes budget  \\\n",
       "0                                          0.0                   2.026350e+11   \n",
       "1                                          0.0                   3.000000e+11   \n",
       "2                                          0.0                   5.750000e+12   \n",
       "3                                        530.0                   1.397610e+11   \n",
       "4                                          0.0                   1.032000e+12   \n",
       "\n",
       "   actor_3_facebook_likes actor_2_facebook_likes  \\\n",
       "0                                       855000.0   \n",
       "1                                     40000000.0   \n",
       "2                                    621000000.0   \n",
       "3                                       339200.0   \n",
       "4                                     96000000.0   \n",
       "\n",
       "   actor_3_facebook_likes color_Color  \\\n",
       "0                               855.0   \n",
       "1                              1000.0   \n",
       "2                             23000.0   \n",
       "3                               530.0   \n",
       "4                              4000.0   \n",
       "\n",
       "   actor_3_facebook_likes content_rating_PG  \\\n",
       "0                                       0.0   \n",
       "1                                       0.0   \n",
       "2                                       0.0   \n",
       "3                                       0.0   \n",
       "4                                       0.0   \n",
       "\n",
       "   actor_3_facebook_likes content_rating_PG-13  \\\n",
       "0                                        855.0   \n",
       "1                                       1000.0   \n",
       "2                                      23000.0   \n",
       "3                                        530.0   \n",
       "4                                       4000.0   \n",
       "\n",
       "   actor_3_facebook_likes content_rating_R  actor_3_facebook_likes years_old  \\\n",
       "0                                      0.0                            5985.0   \n",
       "1                                      0.0                            9000.0   \n",
       "2                                      0.0                           92000.0   \n",
       "3                                      0.0                            2120.0   \n",
       "4                                      0.0                           36000.0   \n",
       "\n",
       "   actor_1_facebook_likes^2  ...  actor_1_facebook_likes color_Color  \\\n",
       "0              1.000000e+06  ...                              1000.0   \n",
       "1              1.600000e+09  ...                             40000.0   \n",
       "2              7.290000e+08  ...                             27000.0   \n",
       "3              4.096000e+05  ...                               640.0   \n",
       "4              5.760000e+08  ...                             24000.0   \n",
       "\n",
       "   actor_1_facebook_likes content_rating_PG  \\\n",
       "0                                       0.0   \n",
       "1                                       0.0   \n",
       "2                                       0.0   \n",
       "3                                       0.0   \n",
       "4                                       0.0   \n",
       "\n",
       "   actor_1_facebook_likes content_rating_PG-13  \\\n",
       "0                                       1000.0   \n",
       "1                                      40000.0   \n",
       "2                                      27000.0   \n",
       "3                                        640.0   \n",
       "4                                      24000.0   \n",
       "\n",
       "   actor_1_facebook_likes content_rating_R  actor_1_facebook_likes years_old  \\\n",
       "0                                      0.0                            7000.0   \n",
       "1                                      0.0                          360000.0   \n",
       "2                                      0.0                          108000.0   \n",
       "3                                      0.0                            2560.0   \n",
       "4                                      0.0                          216000.0   \n",
       "\n",
       "   cast_total_facebook_likes^2  \\\n",
       "0                 2.336756e+07   \n",
       "1                 2.337722e+09   \n",
       "2                 1.139748e+10   \n",
       "3                 3.508129e+06   \n",
       "4                 2.121063e+09   \n",
       "\n",
       "   cast_total_facebook_likes facenumber_in_poster  \\\n",
       "0                                             0.0   \n",
       "1                                             0.0   \n",
       "2                                             0.0   \n",
       "3                                          1873.0   \n",
       "4                                             0.0   \n",
       "\n",
       "   cast_total_facebook_likes budget  \\\n",
       "0                      1.145658e+12   \n",
       "1                      1.450500e+13   \n",
       "2                      2.668975e+13   \n",
       "3                      4.939101e+11   \n",
       "4                      1.188219e+13   \n",
       "\n",
       "   cast_total_facebook_likes actor_2_facebook_likes  \\\n",
       "0                                      4.834000e+06   \n",
       "1                                      1.934000e+09   \n",
       "2                                      2.882493e+09   \n",
       "3                                      1.198720e+06   \n",
       "4                                      1.105320e+09   \n",
       "\n",
       "   cast_total_facebook_likes color_Color  \\\n",
       "0                                 4834.0   \n",
       "1                                48350.0   \n",
       "2                               106759.0   \n",
       "3                                 1873.0   \n",
       "4                                46055.0   \n",
       "\n",
       "   cast_total_facebook_likes content_rating_PG  \\\n",
       "0                                          0.0   \n",
       "1                                          0.0   \n",
       "2                                          0.0   \n",
       "3                                          0.0   \n",
       "4                                          0.0   \n",
       "\n",
       "   cast_total_facebook_likes content_rating_PG-13  \\\n",
       "0                                          4834.0   \n",
       "1                                         48350.0   \n",
       "2                                        106759.0   \n",
       "3                                          1873.0   \n",
       "4                                         46055.0   \n",
       "\n",
       "   cast_total_facebook_likes content_rating_R  \\\n",
       "0                                         0.0   \n",
       "1                                         0.0   \n",
       "2                                         0.0   \n",
       "3                                         0.0   \n",
       "4                                         0.0   \n",
       "\n",
       "   cast_total_facebook_likes years_old  facenumber_in_poster^2  \\\n",
       "0                              33838.0                     0.0   \n",
       "1                             435150.0                     0.0   \n",
       "2                             427036.0                     0.0   \n",
       "3                               7492.0                     1.0   \n",
       "4                             414495.0                     0.0   \n",
       "\n",
       "   facenumber_in_poster budget  facenumber_in_poster actor_2_facebook_likes  \\\n",
       "0                          0.0                                          0.0   \n",
       "1                          0.0                                          0.0   \n",
       "2                          0.0                                          0.0   \n",
       "3                  263700000.0                                        640.0   \n",
       "4                          0.0                                          0.0   \n",
       "\n",
       "   facenumber_in_poster color_Color  facenumber_in_poster content_rating_PG  \\\n",
       "0                               0.0                                     0.0   \n",
       "1                               0.0                                     0.0   \n",
       "2                               0.0                                     0.0   \n",
       "3                               1.0                                     0.0   \n",
       "4                               0.0                                     0.0   \n",
       "\n",
       "   facenumber_in_poster content_rating_PG-13  \\\n",
       "0                                        0.0   \n",
       "1                                        0.0   \n",
       "2                                        0.0   \n",
       "3                                        1.0   \n",
       "4                                        0.0   \n",
       "\n",
       "   facenumber_in_poster content_rating_R  facenumber_in_poster years_old  \\\n",
       "0                                    0.0                             0.0   \n",
       "1                                    0.0                             0.0   \n",
       "2                                    0.0                             0.0   \n",
       "3                                    0.0                             4.0   \n",
       "4                                    0.0                             0.0   \n",
       "\n",
       "       budget^2  budget actor_2_facebook_likes  budget color_Color  \\\n",
       "0  5.616900e+16                   2.370000e+11         237000000.0   \n",
       "1  9.000000e+16                   1.200000e+13         300000000.0   \n",
       "2  6.250000e+16                   6.750000e+12         250000000.0   \n",
       "3  6.953769e+16                   1.687680e+11         263700000.0   \n",
       "4  6.656400e+16                   6.192000e+12         258000000.0   \n",
       "\n",
       "   budget content_rating_PG  budget content_rating_PG-13  \\\n",
       "0                       0.0                  237000000.0   \n",
       "1                       0.0                  300000000.0   \n",
       "2                       0.0                  250000000.0   \n",
       "3                       0.0                  263700000.0   \n",
       "4                       0.0                  258000000.0   \n",
       "\n",
       "   budget content_rating_R  budget years_old  actor_2_facebook_likes^2  \\\n",
       "0                      0.0      1.659000e+09              1.000000e+06   \n",
       "1                      0.0      2.700000e+09              1.600000e+09   \n",
       "2                      0.0      1.000000e+09              7.290000e+08   \n",
       "3                      0.0      1.054800e+09              4.096000e+05   \n",
       "4                      0.0      2.322000e+09              5.760000e+08   \n",
       "\n",
       "   actor_2_facebook_likes color_Color  \\\n",
       "0                              1000.0   \n",
       "1                             40000.0   \n",
       "2                             27000.0   \n",
       "3                               640.0   \n",
       "4                             24000.0   \n",
       "\n",
       "   actor_2_facebook_likes content_rating_PG  \\\n",
       "0                                       0.0   \n",
       "1                                       0.0   \n",
       "2                                       0.0   \n",
       "3                                       0.0   \n",
       "4                                       0.0   \n",
       "\n",
       "   actor_2_facebook_likes content_rating_PG-13  \\\n",
       "0                                       1000.0   \n",
       "1                                      40000.0   \n",
       "2                                      27000.0   \n",
       "3                                        640.0   \n",
       "4                                      24000.0   \n",
       "\n",
       "   actor_2_facebook_likes content_rating_R  actor_2_facebook_likes years_old  \\\n",
       "0                                      0.0                            7000.0   \n",
       "1                                      0.0                          360000.0   \n",
       "2                                      0.0                          108000.0   \n",
       "3                                      0.0                            2560.0   \n",
       "4                                      0.0                          216000.0   \n",
       "\n",
       "   color_Color^2  color_Color content_rating_PG  \\\n",
       "0            1.0                            0.0   \n",
       "1            1.0                            0.0   \n",
       "2            1.0                            0.0   \n",
       "3            1.0                            0.0   \n",
       "4            1.0                            0.0   \n",
       "\n",
       "   color_Color content_rating_PG-13  color_Color content_rating_R  \\\n",
       "0                               1.0                           0.0   \n",
       "1                               1.0                           0.0   \n",
       "2                               1.0                           0.0   \n",
       "3                               1.0                           0.0   \n",
       "4                               1.0                           0.0   \n",
       "\n",
       "   color_Color years_old  content_rating_PG^2  \\\n",
       "0                    7.0                  0.0   \n",
       "1                    9.0                  0.0   \n",
       "2                    4.0                  0.0   \n",
       "3                    4.0                  0.0   \n",
       "4                    9.0                  0.0   \n",
       "\n",
       "   content_rating_PG content_rating_PG-13  content_rating_PG content_rating_R  \\\n",
       "0                                     0.0                                 0.0   \n",
       "1                                     0.0                                 0.0   \n",
       "2                                     0.0                                 0.0   \n",
       "3                                     0.0                                 0.0   \n",
       "4                                     0.0                                 0.0   \n",
       "\n",
       "   content_rating_PG years_old  content_rating_PG-13^2  \\\n",
       "0                          0.0                     1.0   \n",
       "1                          0.0                     1.0   \n",
       "2                          0.0                     1.0   \n",
       "3                          0.0                     1.0   \n",
       "4                          0.0                     1.0   \n",
       "\n",
       "   content_rating_PG-13 content_rating_R  content_rating_PG-13 years_old  \\\n",
       "0                                    0.0                             7.0   \n",
       "1                                    0.0                             9.0   \n",
       "2                                    0.0                             4.0   \n",
       "3                                    0.0                             4.0   \n",
       "4                                    0.0                             9.0   \n",
       "\n",
       "   content_rating_R^2  content_rating_R years_old  years_old^2  \n",
       "0                 0.0                         0.0         49.0  \n",
       "1                 0.0                         0.0         81.0  \n",
       "2                 0.0                         0.0         16.0  \n",
       "3                 0.0                         0.0         16.0  \n",
       "4                 0.0                         0.0         81.0  \n",
       "\n",
       "[5 rows x 104 columns]"
      ]
     },
     "execution_count": 55,
     "metadata": {},
     "output_type": "execute_result"
    }
   ],
   "source": [
    "poly_data = poly.fit_transform(df[features])\n",
    "\n",
    "\n",
    "poly_columns = poly.get_feature_names(features)\n",
    "\n",
    "df_poly = pd.DataFrame(poly_data, columns=poly_columns)\n",
    "\n",
    "df_poly.head()"
   ]
  },
  {
   "cell_type": "markdown",
   "metadata": {
    "heading_collapsed": true
   },
   "source": [
    "## Modeling \n",
    "\n",
    "\n",
    "Now that our data is cleaned up and prepared, we cna start the modeling process. First step is to do a train-test split so that we can evaluate the model after fitting it."
   ]
  },
  {
   "cell_type": "code",
   "execution_count": 56,
   "metadata": {
    "hidden": true
   },
   "outputs": [],
   "source": [
    "from sklearn.model_selection import train_test_split\n",
    "from sklearn.linear_model import LinearRegression\n",
    "from sklearn import metrics"
   ]
  },
  {
   "cell_type": "code",
   "execution_count": 57,
   "metadata": {
    "hidden": true
   },
   "outputs": [
    {
     "name": "stdout",
     "output_type": "stream",
     "text": [
      "Training set - Features:  (2300, 104) Target:  (2300,)\n",
      "Training set - Features:  (576, 104) Target:  (576,)\n"
     ]
    }
   ],
   "source": [
    "#call train_test_split on the data and capture the results\n",
    "X_train, X_test, y_train, y_test = train_test_split(df_poly, df['gross'], random_state=34,test_size=0.2)\n",
    "\n",
    "#check the shape of the results\n",
    "print(\"Training set - Features: \", X_train.shape, \"Target: \", y_train.shape)\n",
    "print(\"Training set - Features: \", X_test.shape, \"Target: \",y_test.shape)\n"
   ]
  },
  {
   "cell_type": "markdown",
   "metadata": {
    "hidden": true
   },
   "source": [
    "I'm going to use a LASSO model later so I want to scale my data. Remember to fit your scaler to the training data and then transform the test data."
   ]
  },
  {
   "cell_type": "code",
   "execution_count": 58,
   "metadata": {
    "hidden": true
   },
   "outputs": [],
   "source": [
    "from sklearn.preprocessing import StandardScaler\n",
    "\n",
    "scaler = StandardScaler()\n",
    "\n",
    "\n",
    "#fit and transform the training data\n",
    "X_train = pd.DataFrame(data=scaler.fit_transform(X_train), columns=df_poly.columns)\n",
    "\n",
    "#transform the testing dat\n",
    "X_test = pd.DataFrame(data=scaler.transform(X_test), columns=df_poly.columns)"
   ]
  },
  {
   "cell_type": "code",
   "execution_count": 59,
   "metadata": {
    "hidden": true
   },
   "outputs": [
    {
     "name": "stdout",
     "output_type": "stream",
     "text": [
      "Training Root Mean Squared Error: 52395762.500160664\n"
     ]
    }
   ],
   "source": [
    "# instantiate a linear regression object\n",
    "lm_2 = LinearRegression()\n",
    "\n",
    "#fit the linear regression to the data\n",
    "lm_2 = lm_2.fit(X_train, y_train)\n",
    "\n",
    "y_train_pred = lm_2.predict(X_train)\n",
    "\n",
    "train_rmse = np.sqrt(metrics.mean_squared_error(y_train, y_train_pred))\n",
    "\n",
    "\n",
    "print('Training Root Mean Squared Error:' , train_rmse)"
   ]
  },
  {
   "cell_type": "code",
   "execution_count": null,
   "metadata": {
    "hidden": true
   },
   "outputs": [],
   "source": []
  },
  {
   "cell_type": "code",
   "execution_count": 60,
   "metadata": {
    "hidden": true
   },
   "outputs": [
    {
     "data": {
      "text/plain": [
       "(array([  6.,   3.,   9.,  21.,  54., 113., 347., 729., 460., 244., 113.,\n",
       "         71.,  46.,  24.,  19.,  11.,   7.,   5.,   6.,   5.,   2.,   0.,\n",
       "          1.,   2.,   0.,   0.,   0.,   1.,   0.,   1.]),\n",
       " array([-1.82677163e+08, -1.60402563e+08, -1.38127963e+08, -1.15853363e+08,\n",
       "        -9.35787628e+07, -7.13041628e+07, -4.90295628e+07, -2.67549629e+07,\n",
       "        -4.48036288e+06,  1.77942371e+07,  4.00688371e+07,  6.23434371e+07,\n",
       "         8.46180371e+07,  1.06892637e+08,  1.29167237e+08,  1.51441837e+08,\n",
       "         1.73716437e+08,  1.95991037e+08,  2.18265637e+08,  2.40540237e+08,\n",
       "         2.62814837e+08,  2.85089437e+08,  3.07364037e+08,  3.29638637e+08,\n",
       "         3.51913237e+08,  3.74187837e+08,  3.96462437e+08,  4.18737037e+08,\n",
       "         4.41011637e+08,  4.63286237e+08,  4.85560837e+08]),\n",
       " <a list of 30 Patch objects>)"
      ]
     },
     "execution_count": 60,
     "metadata": {},
     "output_type": "execute_result"
    },
    {
     "data": {
      "image/png": "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\n",
      "text/plain": [
       "<Figure size 432x288 with 1 Axes>"
      ]
     },
     "metadata": {
      "needs_background": "light"
     },
     "output_type": "display_data"
    }
   ],
   "source": [
    "residuals = (y_train- y_train_pred)\n",
    "\n",
    "plt.hist(residuals, bins=30)"
   ]
  },
  {
   "cell_type": "code",
   "execution_count": 61,
   "metadata": {
    "hidden": true
   },
   "outputs": [
    {
     "data": {
      "text/plain": [
       "<matplotlib.axes._subplots.AxesSubplot at 0x1a1e1a2dd8>"
      ]
     },
     "execution_count": 61,
     "metadata": {},
     "output_type": "execute_result"
    },
    {
     "data": {
      "image/png": "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\n",
      "text/plain": [
       "<Figure size 432x288 with 1 Axes>"
      ]
     },
     "metadata": {
      "needs_background": "light"
     },
     "output_type": "display_data"
    }
   ],
   "source": [
    "sns.residplot(y_train_pred, y_train, lowess=True, color=\"g\")"
   ]
  },
  {
   "cell_type": "markdown",
   "metadata": {
    "hidden": true
   },
   "source": [
    "### Feature Selection"
   ]
  },
  {
   "cell_type": "code",
   "execution_count": 65,
   "metadata": {
    "hidden": true
   },
   "outputs": [
    {
     "data": {
      "text/html": [
       "<div>\n",
       "<style scoped>\n",
       "    .dataframe tbody tr th:only-of-type {\n",
       "        vertical-align: middle;\n",
       "    }\n",
       "\n",
       "    .dataframe tbody tr th {\n",
       "        vertical-align: top;\n",
       "    }\n",
       "\n",
       "    .dataframe thead th {\n",
       "        text-align: right;\n",
       "    }\n",
       "</style>\n",
       "<table border=\"1\" class=\"dataframe\">\n",
       "  <thead>\n",
       "    <tr style=\"text-align: right;\">\n",
       "      <th></th>\n",
       "      <th>VIF Factor</th>\n",
       "      <th>features</th>\n",
       "    </tr>\n",
       "  </thead>\n",
       "  <tbody>\n",
       "    <tr>\n",
       "      <th>0</th>\n",
       "      <td>27.2</td>\n",
       "      <td>duration</td>\n",
       "    </tr>\n",
       "    <tr>\n",
       "      <th>1</th>\n",
       "      <td>1.2</td>\n",
       "      <td>director_facebook_likes</td>\n",
       "    </tr>\n",
       "    <tr>\n",
       "      <th>2</th>\n",
       "      <td>1.9</td>\n",
       "      <td>actor_3_facebook_likes</td>\n",
       "    </tr>\n",
       "    <tr>\n",
       "      <th>3</th>\n",
       "      <td>46.3</td>\n",
       "      <td>actor_1_facebook_likes</td>\n",
       "    </tr>\n",
       "    <tr>\n",
       "      <th>4</th>\n",
       "      <td>9.0</td>\n",
       "      <td>cast_total_facebook_likes</td>\n",
       "    </tr>\n",
       "    <tr>\n",
       "      <th>5</th>\n",
       "      <td>1.5</td>\n",
       "      <td>facenumber_in_poster</td>\n",
       "    </tr>\n",
       "    <tr>\n",
       "      <th>6</th>\n",
       "      <td>2.9</td>\n",
       "      <td>budget</td>\n",
       "    </tr>\n",
       "    <tr>\n",
       "      <th>7</th>\n",
       "      <td>35.6</td>\n",
       "      <td>actor_2_facebook_likes</td>\n",
       "    </tr>\n",
       "    <tr>\n",
       "      <th>8</th>\n",
       "      <td>24.2</td>\n",
       "      <td>color_Color</td>\n",
       "    </tr>\n",
       "    <tr>\n",
       "      <th>9</th>\n",
       "      <td>5.2</td>\n",
       "      <td>content_rating_PG</td>\n",
       "    </tr>\n",
       "    <tr>\n",
       "      <th>10</th>\n",
       "      <td>11.6</td>\n",
       "      <td>content_rating_PG-13</td>\n",
       "    </tr>\n",
       "    <tr>\n",
       "      <th>11</th>\n",
       "      <td>12.8</td>\n",
       "      <td>content_rating_R</td>\n",
       "    </tr>\n",
       "    <tr>\n",
       "      <th>12</th>\n",
       "      <td>3.6</td>\n",
       "      <td>years_old</td>\n",
       "    </tr>\n",
       "  </tbody>\n",
       "</table>\n",
       "</div>"
      ],
      "text/plain": [
       "    VIF Factor                   features\n",
       "0         27.2                   duration\n",
       "1          1.2    director_facebook_likes\n",
       "2          1.9     actor_3_facebook_likes\n",
       "3         46.3     actor_1_facebook_likes\n",
       "4          9.0  cast_total_facebook_likes\n",
       "5          1.5       facenumber_in_poster\n",
       "6          2.9                     budget\n",
       "7         35.6     actor_2_facebook_likes\n",
       "8         24.2                color_Color\n",
       "9          5.2          content_rating_PG\n",
       "10        11.6       content_rating_PG-13\n",
       "11        12.8           content_rating_R\n",
       "12         3.6                  years_old"
      ]
     },
     "execution_count": 65,
     "metadata": {},
     "output_type": "execute_result"
    }
   ],
   "source": [
    "from statsmodels.stats.outliers_influence import variance_inflation_factor\n",
    "\n",
    "\n",
    "[variance_inflation_factor(df[features].values, i) for i in range(df[features].shape[1])]\n",
    "\n",
    "vif = pd.DataFrame()\n",
    "vif[\"VIF Factor\"] = [variance_inflation_factor(df[features].values, i) for i in range(df[features].shape[1])]\n",
    "vif[\"features\"] = df[features].columns\n",
    "vif.round(1)"
   ]
  },
  {
   "cell_type": "code",
   "execution_count": 66,
   "metadata": {
    "hidden": true,
    "scrolled": true
   },
   "outputs": [
    {
     "name": "stdout",
     "output_type": "stream",
     "text": [
      "Fitting estimator with 104 features.\n",
      "Fitting estimator with 103 features.\n",
      "Fitting estimator with 102 features.\n",
      "Fitting estimator with 101 features.\n",
      "Fitting estimator with 100 features.\n",
      "Fitting estimator with 99 features.\n",
      "Fitting estimator with 98 features.\n",
      "Fitting estimator with 97 features.\n",
      "Fitting estimator with 96 features.\n",
      "Fitting estimator with 95 features.\n",
      "Fitting estimator with 94 features.\n",
      "Fitting estimator with 93 features.\n",
      "Fitting estimator with 92 features.\n",
      "Fitting estimator with 91 features.\n",
      "Fitting estimator with 90 features.\n",
      "Fitting estimator with 89 features.\n",
      "Fitting estimator with 88 features.\n",
      "Fitting estimator with 87 features.\n",
      "Fitting estimator with 86 features.\n",
      "Fitting estimator with 85 features.\n",
      "Fitting estimator with 84 features.\n",
      "Fitting estimator with 83 features.\n",
      "Fitting estimator with 82 features.\n",
      "Fitting estimator with 81 features.\n",
      "Fitting estimator with 80 features.\n",
      "Fitting estimator with 79 features.\n",
      "Fitting estimator with 78 features.\n",
      "Fitting estimator with 77 features.\n",
      "Fitting estimator with 76 features.\n",
      "Fitting estimator with 75 features.\n",
      "Fitting estimator with 74 features.\n",
      "Fitting estimator with 73 features.\n",
      "Fitting estimator with 72 features.\n",
      "Fitting estimator with 71 features.\n",
      "Fitting estimator with 70 features.\n",
      "Fitting estimator with 69 features.\n",
      "Fitting estimator with 68 features.\n",
      "Fitting estimator with 67 features.\n",
      "Fitting estimator with 66 features.\n",
      "Fitting estimator with 65 features.\n",
      "Fitting estimator with 64 features.\n",
      "Fitting estimator with 63 features.\n",
      "Fitting estimator with 62 features.\n",
      "Fitting estimator with 61 features.\n",
      "Fitting estimator with 60 features.\n",
      "Fitting estimator with 59 features.\n",
      "Fitting estimator with 58 features.\n",
      "Fitting estimator with 57 features.\n",
      "Fitting estimator with 56 features.\n",
      "Fitting estimator with 55 features.\n",
      "Fitting estimator with 54 features.\n",
      "Fitting estimator with 53 features.\n",
      "Fitting estimator with 52 features.\n",
      "Fitting estimator with 51 features.\n",
      "Fitting estimator with 50 features.\n",
      "Fitting estimator with 49 features.\n",
      "Fitting estimator with 48 features.\n",
      "Fitting estimator with 47 features.\n",
      "Fitting estimator with 46 features.\n",
      "Fitting estimator with 45 features.\n",
      "Fitting estimator with 44 features.\n",
      "Fitting estimator with 43 features.\n",
      "Fitting estimator with 42 features.\n",
      "Fitting estimator with 41 features.\n",
      "Fitting estimator with 40 features.\n",
      "Fitting estimator with 39 features.\n",
      "Fitting estimator with 38 features.\n",
      "Fitting estimator with 37 features.\n",
      "Fitting estimator with 36 features.\n",
      "Fitting estimator with 35 features.\n",
      "Fitting estimator with 34 features.\n",
      "Fitting estimator with 33 features.\n",
      "Fitting estimator with 32 features.\n",
      "Fitting estimator with 31 features.\n",
      "Fitting estimator with 30 features.\n",
      "Fitting estimator with 29 features.\n",
      "Fitting estimator with 28 features.\n",
      "Fitting estimator with 27 features.\n",
      "Fitting estimator with 26 features.\n",
      "Fitting estimator with 25 features.\n",
      "Fitting estimator with 24 features.\n",
      "Fitting estimator with 23 features.\n",
      "Fitting estimator with 22 features.\n",
      "Fitting estimator with 21 features.\n",
      "Fitting estimator with 20 features.\n"
     ]
    },
    {
     "data": {
      "text/plain": [
       "RFECV(cv=7,\n",
       "      estimator=LinearRegression(copy_X=True, fit_intercept=True, n_jobs=None,\n",
       "                                 normalize=False),\n",
       "      min_features_to_select=1, n_jobs=-1, scoring='neg_mean_squared_error',\n",
       "      step=1, verbose=1)"
      ]
     },
     "execution_count": 66,
     "metadata": {},
     "output_type": "execute_result"
    }
   ],
   "source": [
    "from sklearn.feature_selection import RFECV\n",
    "\n",
    "ols = LinearRegression()\n",
    "\n",
    "# Create recursive feature eliminator that scores features by mean squared errors\n",
    "selector = RFECV(estimator=ols, step=1, cv=7, scoring='neg_mean_squared_error', n_jobs=-1, verbose=1)\n",
    "\n",
    "# Fit recursive feature eliminator \n",
    "selector.fit(X_train, y_train)"
   ]
  },
  {
   "cell_type": "code",
   "execution_count": 67,
   "metadata": {
    "hidden": true
   },
   "outputs": [],
   "source": [
    "selected_rfe = X_train.columns[selector.support_]\n",
    "removed_rfe = X_train.columns[~selector.support_]"
   ]
  },
  {
   "cell_type": "code",
   "execution_count": 68,
   "metadata": {
    "hidden": true
   },
   "outputs": [
    {
     "data": {
      "text/plain": [
       "19"
      ]
     },
     "execution_count": 68,
     "metadata": {},
     "output_type": "execute_result"
    }
   ],
   "source": [
    "list(removed_rfe)\n",
    "\n",
    "len(list(selected_rfe))"
   ]
  },
  {
   "cell_type": "code",
   "execution_count": 69,
   "metadata": {
    "hidden": true
   },
   "outputs": [
    {
     "data": {
      "text/plain": [
       "Index(['director_facebook_likes', 'actor_1_facebook_likes',\n",
       "       'duration cast_total_facebook_likes', 'duration actor_2_facebook_likes',\n",
       "       'duration content_rating_PG-13',\n",
       "       'director_facebook_likes content_rating_PG',\n",
       "       'director_facebook_likes content_rating_PG-13',\n",
       "       'director_facebook_likes content_rating_R', 'actor_3_facebook_likes^2',\n",
       "       'actor_3_facebook_likes cast_total_facebook_likes',\n",
       "       'actor_3_facebook_likes actor_2_facebook_likes',\n",
       "       'actor_1_facebook_likes cast_total_facebook_likes',\n",
       "       'actor_1_facebook_likes actor_2_facebook_likes',\n",
       "       'cast_total_facebook_likes^2',\n",
       "       'cast_total_facebook_likes content_rating_PG',\n",
       "       'cast_total_facebook_likes content_rating_PG-13',\n",
       "       'cast_total_facebook_likes content_rating_R', 'budget color_Color',\n",
       "       'color_Color content_rating_PG-13'],\n",
       "      dtype='object')"
      ]
     },
     "execution_count": 69,
     "metadata": {},
     "output_type": "execute_result"
    }
   ],
   "source": [
    "selected_rfe"
   ]
  },
  {
   "cell_type": "markdown",
   "metadata": {
    "hidden": true
   },
   "source": [
    "Now let's use those selected features to fit a model."
   ]
  },
  {
   "cell_type": "code",
   "execution_count": 70,
   "metadata": {
    "hidden": true
   },
   "outputs": [
    {
     "name": "stdout",
     "output_type": "stream",
     "text": [
      "Training Root Mean Squared Error: 55089828.928939216\n",
      "Testing Root Mean Squared Error: 484597876.7944875\n"
     ]
    }
   ],
   "source": [
    "#instantiate a linear regression object\n",
    "lm_rfe = LinearRegression()\n",
    "\n",
    "#fit the linear regression to the data\n",
    "lm_rfe = lm_rfe.fit(X_train[selected_rfe], y_train)\n",
    "\n",
    "y_rfe = lm_rfe.predict(X_train[selected_rfe])\n",
    "\n",
    "\n",
    "trainRFE_rmse = np.sqrt(metrics.mean_squared_error(y_train, y_rfe))\n",
    "\n",
    "\n",
    "print('Training Root Mean Squared Error:' , trainRFE_rmse)\n",
    "\n",
    "y_pred_rfe = lm_rfe.predict(X_test[selected_rfe])\n",
    "\n",
    "testRFE_rmse = np.sqrt(metrics.mean_squared_error(y_test, y_pred_rfe))\n",
    "\n",
    "print('Testing Root Mean Squared Error:' , testRFE_rmse)"
   ]
  },
  {
   "cell_type": "code",
   "execution_count": 126,
   "metadata": {
    "hidden": true
   },
   "outputs": [
    {
     "name": "stdout",
     "output_type": "stream",
     "text": [
      "Training Error: 34342497.760781504\n",
      "Testing Error: 51470425.08480439\n"
     ]
    },
    {
     "name": "stderr",
     "output_type": "stream",
     "text": [
      "/opt/anaconda3/envs/learn-env/lib/python3.6/site-packages/sklearn/linear_model/coordinate_descent.py:475: ConvergenceWarning: Objective did not converge. You might want to increase the number of iterations. Duality gap: 1.5826090801079916e+18, tolerance: 1287379274378923.2\n",
      "  positive)\n"
     ]
    }
   ],
   "source": [
    "## training the model\n",
    "from sklearn.linear_model import Lasso\n",
    "\n",
    "lasso = Lasso(alpha=9500, normalize=False)\n",
    "\n",
    "lasso.fit(X_train,y_train)\n",
    "\n",
    "y_train_pred_lasso = lasso.predict(X_train)\n",
    "y_pred_lasso = lasso.predict(X_test)\n",
    "\n",
    "train_rmse_lasso01 = metrics.mean_absolute_error(y_train, y_train_pred_lasso)\n",
    "test_rmse_lasso01 = np.sqrt(metrics.mean_squared_error(y_test, y_pred_lasso))\n",
    "print('Training Error: '+ str(train_rmse_lasso01) )\n",
    "print('Testing Error: '+ str(test_rmse_lasso01) )\n",
    "\n"
   ]
  },
  {
   "cell_type": "code",
   "execution_count": 133,
   "metadata": {
    "hidden": true
   },
   "outputs": [
    {
     "name": "stdout",
     "output_type": "stream",
     "text": [
      "Training Error: 35787751.527393006\n",
      "Testing Error: 48317140.8607589\n"
     ]
    }
   ],
   "source": [
    "from sklearn.linear_model import Ridge\n",
    "lasso = Ridge(alpha=2.5, normalize=False)\n",
    "\n",
    "lasso.fit(X_train[selected_rfe],y_train)\n",
    "\n",
    "y_train_pred_lasso = lasso.predict(X_train[selected_rfe])\n",
    "y_pred_lasso = lasso.predict(X_test[selected_rfe])\n",
    "\n",
    "train_rmse_lasso01 = metrics.mean_absolute_error(y_train, y_train_pred_lasso)\n",
    "test_rmse_lasso01 = np.sqrt(metrics.mean_squared_error(y_test, y_pred_lasso))\n",
    "print('Training Error: '+ str(train_rmse_lasso01) )\n",
    "print('Testing Error: '+ str(test_rmse_lasso01) )"
   ]
  },
  {
   "cell_type": "code",
   "execution_count": 134,
   "metadata": {
    "hidden": true
   },
   "outputs": [],
   "source": [
    "f = 'sdsdsdsdsdsdss'"
   ]
  },
  {
   "cell_type": "code",
   "execution_count": 135,
   "metadata": {
    "hidden": true
   },
   "outputs": [
    {
     "data": {
      "text/plain": [
       "14"
      ]
     },
     "execution_count": 135,
     "metadata": {},
     "output_type": "execute_result"
    }
   ],
   "source": [
    "len(f)"
   ]
  },
  {
   "cell_type": "code",
   "execution_count": 136,
   "metadata": {
    "hidden": true
   },
   "outputs": [
    {
     "data": {
      "text/plain": [
       "14"
      ]
     },
     "execution_count": 136,
     "metadata": {},
     "output_type": "execute_result"
    }
   ],
   "source": [
    "f.__len__()"
   ]
  }
 ],
 "metadata": {
  "kernelspec": {
   "display_name": "Python 3",
   "language": "python",
   "name": "python3"
  },
  "language_info": {
   "codemirror_mode": {
    "name": "ipython",
    "version": 3
   },
   "file_extension": ".py",
   "mimetype": "text/x-python",
   "name": "python",
   "nbconvert_exporter": "python",
   "pygments_lexer": "ipython3",
   "version": "3.6.9"
<<<<<<< HEAD
=======
  },
  "toc": {
   "base_numbering": 1,
   "nav_menu": {},
   "number_sections": true,
   "sideBar": true,
   "skip_h1_title": false,
   "title_cell": "Table of Contents",
   "title_sidebar": "Contents",
   "toc_cell": false,
   "toc_position": {},
   "toc_section_display": true,
   "toc_window_display": true
>>>>>>> upstream/master
  }
 },
 "nbformat": 4,
 "nbformat_minor": 2
}
