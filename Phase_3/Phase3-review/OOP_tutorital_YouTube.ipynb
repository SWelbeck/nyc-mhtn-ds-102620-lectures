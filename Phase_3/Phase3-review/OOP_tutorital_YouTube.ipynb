{
 "cells": [
  {
   "cell_type": "markdown",
   "metadata": {
    "heading_collapsed": true
   },
   "source": [
    "## ## Python OOP Tutorial 1: Classes and Instances\n",
    "\n",
    "https://www.youtube.com/watch?v=ZDa-Z5JzLYM"
   ]
  },
  {
   "cell_type": "code",
   "execution_count": 211,
   "metadata": {
    "ExecuteTime": {
     "end_time": "2020-12-22T15:50:17.543340Z",
     "start_time": "2020-12-22T15:50:17.518486Z"
    },
    "hidden": true
   },
   "outputs": [],
   "source": [
    "class Employee:\n",
    "    \n",
    "    num_of_emps = 0 #video 2\n",
    "    raise_amount = 1.04 #video 2\n",
    "    \n",
    "    #video 1\n",
    "    def __init__(self, first, last, pay):\n",
    "        self.first = first\n",
    "        self.last = last\n",
    "        self.pay = pay\n",
    "        self.email = first + \".\" + last + '@company.com'\n",
    "        \n",
    "        Employee.num_of_emps += 1\n",
    "    \n",
    "    def fullname(self):\n",
    "        return '{} {}'.format(self.first, self.last)\n",
    "    \n",
    "    #from video 2\n",
    "    def apply_raise(self):\n",
    "        self.pay = int(self.pay * self.raise_amount)\n",
    "        \n",
    "    #video 5\n",
    "    \n",
    "    def __repr__(self):\n",
    "        return \"Employee('{}', '{}', {})\".format(self.first, self.last, self.pay)\n",
    "    \n",
    "    \n",
    "    def __str__(self):\n",
    "        return '{} - {}'.format(self.fullname(), self.email)\n",
    "    \n",
    "    def __add__(self, other):\n",
    "        return self.pay + other.pay\n",
    "    \n",
    "    def __len__(self):\n",
    "        return len(self.fullname())\n",
    "        \n",
    "    \n",
    "    #video 3\n",
    "    @classmethod\n",
    "    def set_raise_amt(cls, amount):\n",
    "        cls.raise_amt = amount\n",
    "        \n",
    "        \n",
    "    @classmethod\n",
    "    def from_string(cls, emp_str):\n",
    "        first, last, pay = emp_str.split('-')\n",
    "        return cls(first, last, pay)\n",
    "    \n",
    "    @staticmethod\n",
    "    def is_workday(day):\n",
    "        if day.weekday() == 5 or day.weekday() == 6:\n",
    "            return False\n",
    "        return True\n",
    "    \n",
    "#video 4\n",
    "class Developer(Employee):\n",
    "    raise_amount = 1.10\n",
    "    \n",
    "    \n",
    "    def __init__(self, first, last, pay, prog_lang):\n",
    "        super().__init__(first, last, pay)\n",
    "#         Employee.__init__(self, first, last, pay)\n",
    "        self.prog_lang = prog_lang\n",
    "    \n",
    "class Manager(Employee):\n",
    "    \n",
    "    def __init__(self, first, last, pay, employees=None):\n",
    "        super().__init__(first, last, pay)\n",
    "        if employees is None:\n",
    "            self.empoyees = []\n",
    "        else:\n",
    "            self.employees = employees\n",
    "            \n",
    "    def add_emp(self, emp):\n",
    "        if emp not in self.employees:\n",
    "            self.employees.append(emp)\n",
    "            \n",
    "    def remove_emp(self, emp):\n",
    "        if emp in self.employees:\n",
    "            self.employees.remove(emp)\n",
    "    \n",
    "    def print_emps(self):\n",
    "        for emp in self.employees:\n",
    "            print('-->', emp.fullname())\n",
    "            "
   ]
  },
  {
   "cell_type": "code",
   "execution_count": 212,
   "metadata": {
    "ExecuteTime": {
     "end_time": "2020-12-22T15:50:18.519566Z",
     "start_time": "2020-12-22T15:50:18.515281Z"
    },
    "hidden": true
   },
   "outputs": [],
   "source": [
    "emp_1 = Employee('Corey', 'Schafer', 50000)\n",
    "emp_2 = Employee('Test', 'User', 60000)"
   ]
  },
  {
   "cell_type": "code",
   "execution_count": 133,
   "metadata": {
    "ExecuteTime": {
     "end_time": "2020-12-22T15:17:22.173133Z",
     "start_time": "2020-12-22T15:17:22.169202Z"
    },
    "hidden": true
   },
   "outputs": [
    {
     "name": "stdout",
     "output_type": "stream",
     "text": [
      "Corey.Schafer@company.com\n",
      "Test.User@company.com\n"
     ]
    }
   ],
   "source": [
    "print(emp_1.email)\n",
    "print(emp_2.email)"
   ]
  },
  {
   "cell_type": "markdown",
   "metadata": {
    "heading_collapsed": true,
    "hidden": true
   },
   "source": [
    "### Collapse"
   ]
  },
  {
   "cell_type": "code",
   "execution_count": 47,
   "metadata": {
    "ExecuteTime": {
     "end_time": "2020-12-22T14:43:09.335263Z",
     "start_time": "2020-12-22T14:43:09.329312Z"
    },
    "hidden": true
   },
   "outputs": [
    {
     "name": "stdout",
     "output_type": "stream",
     "text": [
      "Corey Schafer\n",
      "Test User\n"
     ]
    }
   ],
   "source": [
    "print(emp_1.fullname())\n",
    "print(emp_2.fullname())"
   ]
  },
  {
   "cell_type": "code",
   "execution_count": 74,
   "metadata": {
    "ExecuteTime": {
     "end_time": "2020-12-22T14:49:14.930317Z",
     "start_time": "2020-12-22T14:49:14.925370Z"
    },
    "hidden": true
   },
   "outputs": [
    {
     "name": "stdout",
     "output_type": "stream",
     "text": [
      "Corey Schafer\n",
      "Test User\n"
     ]
    }
   ],
   "source": [
    "print(Employee.fullname(emp_1))\n",
    "print(Employee.fullname(emp_2))"
   ]
  },
  {
   "cell_type": "code",
   "execution_count": 39,
   "metadata": {
    "ExecuteTime": {
     "end_time": "2020-12-22T14:40:31.299714Z",
     "start_time": "2020-12-22T14:40:31.291357Z"
    },
    "hidden": true
   },
   "outputs": [],
   "source": [
    "# print(emp_1)\n",
    "# print(emp_2)"
   ]
  },
  {
   "cell_type": "code",
   "execution_count": 40,
   "metadata": {
    "ExecuteTime": {
     "end_time": "2020-12-22T14:40:31.809240Z",
     "start_time": "2020-12-22T14:40:31.799872Z"
    },
    "hidden": true
   },
   "outputs": [],
   "source": [
    "# emp_1.first = 'Corey'\n",
    "# emp_1.last = 'Schafer'\n",
    "# emp_1.email = 'Corey.Schafer@company.com'\n",
    "# emp_1.pay = 50000\n",
    "\n",
    "# emp_2.first = 'Test'\n",
    "# emp_2.last = 'User'\n",
    "# emp_2.email = 'Test.User@company.com'\n",
    "# emp_2.pay = 60000"
   ]
  },
  {
   "cell_type": "markdown",
   "metadata": {
    "heading_collapsed": true
   },
   "source": [
    "## Python OOP Tutorial 2: Class Variables\n",
    "\n",
    "https://www.youtube.com/watch?v=BJ-VvGyQxho&t=1s"
   ]
  },
  {
   "cell_type": "code",
   "execution_count": 76,
   "metadata": {
    "ExecuteTime": {
     "end_time": "2020-12-22T14:49:37.798337Z",
     "start_time": "2020-12-22T14:49:37.794424Z"
    },
    "hidden": true
   },
   "outputs": [],
   "source": [
    "# print(emp_1.pay)"
   ]
  },
  {
   "cell_type": "code",
   "execution_count": 77,
   "metadata": {
    "ExecuteTime": {
     "end_time": "2020-12-22T14:49:38.139003Z",
     "start_time": "2020-12-22T14:49:38.134330Z"
    },
    "hidden": true
   },
   "outputs": [],
   "source": [
    "# emp_1.apply_raise()"
   ]
  },
  {
   "cell_type": "code",
   "execution_count": 78,
   "metadata": {
    "ExecuteTime": {
     "end_time": "2020-12-22T14:49:38.503157Z",
     "start_time": "2020-12-22T14:49:38.499503Z"
    },
    "hidden": true
   },
   "outputs": [],
   "source": [
    "# print(emp_1.pay)"
   ]
  },
  {
   "cell_type": "code",
   "execution_count": 79,
   "metadata": {
    "ExecuteTime": {
     "end_time": "2020-12-22T14:49:38.843999Z",
     "start_time": "2020-12-22T14:49:38.840701Z"
    },
    "hidden": true
   },
   "outputs": [],
   "source": [
    "# print(emp_1.__dict__)\n",
    "# print(Employee.__dict__)"
   ]
  },
  {
   "cell_type": "code",
   "execution_count": 80,
   "metadata": {
    "ExecuteTime": {
     "end_time": "2020-12-22T14:49:39.218048Z",
     "start_time": "2020-12-22T14:49:39.214938Z"
    },
    "hidden": true
   },
   "outputs": [],
   "source": [
    "# Employee.raise_amount = 1.05\n",
    "# emp_1.raise_amount = 1.05"
   ]
  },
  {
   "cell_type": "code",
   "execution_count": 81,
   "metadata": {
    "ExecuteTime": {
     "end_time": "2020-12-22T14:49:39.715381Z",
     "start_time": "2020-12-22T14:49:39.711391Z"
    },
    "hidden": true
   },
   "outputs": [],
   "source": [
    "# print(emp_1.raise_amount)\n",
    "# print(Employee.raise_amount)\n",
    "# print(emp_2.raise_amount)\n"
   ]
  },
  {
   "cell_type": "code",
   "execution_count": 85,
   "metadata": {
    "ExecuteTime": {
     "end_time": "2020-12-22T14:49:50.474856Z",
     "start_time": "2020-12-22T14:49:50.470446Z"
    },
    "hidden": true
   },
   "outputs": [
    {
     "name": "stdout",
     "output_type": "stream",
     "text": [
      "2\n"
     ]
    }
   ],
   "source": [
    "print(Employee.num_of_emps)"
   ]
  },
  {
   "cell_type": "markdown",
   "metadata": {
    "heading_collapsed": true
   },
   "source": [
    "## Python OOP Tutorial 3: classmethods and staticmethods\n",
    "\n",
    "\n",
    "https://www.youtube.com/watch?v=rq8cL2XMM5M"
   ]
  },
  {
   "cell_type": "code",
   "execution_count": 95,
   "metadata": {
    "ExecuteTime": {
     "end_time": "2020-12-22T14:55:54.747347Z",
     "start_time": "2020-12-22T14:55:54.743531Z"
    },
    "hidden": true
   },
   "outputs": [],
   "source": [
    "Employee.set_raise_amt(1.05)"
   ]
  },
  {
   "cell_type": "code",
   "execution_count": 98,
   "metadata": {
    "ExecuteTime": {
     "end_time": "2020-12-22T14:56:43.886565Z",
     "start_time": "2020-12-22T14:56:43.882741Z"
    },
    "hidden": true
   },
   "outputs": [],
   "source": [
    "emp_1.set_raise_amt(1.05)"
   ]
  },
  {
   "cell_type": "code",
   "execution_count": 99,
   "metadata": {
    "ExecuteTime": {
     "end_time": "2020-12-22T14:56:44.457514Z",
     "start_time": "2020-12-22T14:56:44.450185Z"
    },
    "hidden": true
   },
   "outputs": [
    {
     "name": "stdout",
     "output_type": "stream",
     "text": [
      "1.05\n",
      "1.05\n",
      "1.05\n"
     ]
    }
   ],
   "source": [
    "print(emp_1.raise_amt)\n",
    "print(Employee.raise_amt)\n",
    "print(emp_2.raise_amt)"
   ]
  },
  {
   "cell_type": "code",
   "execution_count": 109,
   "metadata": {
    "ExecuteTime": {
     "end_time": "2020-12-22T15:03:36.265975Z",
     "start_time": "2020-12-22T15:03:36.262992Z"
    },
    "hidden": true
   },
   "outputs": [],
   "source": [
    "# emp_str_1 = 'John-Doe-70000'\n",
    "# emp_str_2 = 'Steve-Smith-30000'\n",
    "# emp_str_3 = 'Jane-Doe-90000'"
   ]
  },
  {
   "cell_type": "code",
   "execution_count": 101,
   "metadata": {
    "ExecuteTime": {
     "end_time": "2020-12-22T14:59:54.535129Z",
     "start_time": "2020-12-22T14:59:54.528235Z"
    },
    "hidden": true
   },
   "outputs": [],
   "source": [
    "# first, last, pay = emp_str_1.split('-')\n",
    "\n",
    "# new_emp_1 = Employee(first, last, pay)"
   ]
  },
  {
   "cell_type": "code",
   "execution_count": 110,
   "metadata": {
    "ExecuteTime": {
     "end_time": "2020-12-22T15:03:41.002232Z",
     "start_time": "2020-12-22T15:03:40.998456Z"
    },
    "hidden": true
   },
   "outputs": [],
   "source": [
    "new_emp_1 = Employee.from_string(emp_str_1)"
   ]
  },
  {
   "cell_type": "code",
   "execution_count": 111,
   "metadata": {
    "ExecuteTime": {
     "end_time": "2020-12-22T15:03:45.075096Z",
     "start_time": "2020-12-22T15:03:45.069360Z"
    },
    "hidden": true
   },
   "outputs": [
    {
     "name": "stdout",
     "output_type": "stream",
     "text": [
      "John.Doe@company.com\n",
      "70000\n"
     ]
    }
   ],
   "source": [
    "print(new_emp_1.email)\n",
    "print(new_emp_1.pay)"
   ]
  },
  {
   "cell_type": "code",
   "execution_count": 117,
   "metadata": {
    "ExecuteTime": {
     "end_time": "2020-12-22T15:09:47.389552Z",
     "start_time": "2020-12-22T15:09:47.359244Z"
    },
    "hidden": true
   },
   "outputs": [
    {
     "name": "stdout",
     "output_type": "stream",
     "text": [
      "False\n"
     ]
    }
   ],
   "source": [
    "import datetime\n",
    "\n",
    "my_date = datetime.date(2016, 7, 10)\n",
    "\n",
    "print(Employee.is_workday(my_date))"
   ]
  },
  {
   "cell_type": "markdown",
   "metadata": {
    "heading_collapsed": true
   },
   "source": [
    "## Python OOP Tutorial 4: Inheritance - Creating Subclasses\n",
    "\n",
    "https://www.youtube.com/watch?v=RSl87lqOXDE"
   ]
  },
  {
   "cell_type": "code",
   "execution_count": 148,
   "metadata": {
    "ExecuteTime": {
     "end_time": "2020-12-22T15:21:54.576691Z",
     "start_time": "2020-12-22T15:21:54.560994Z"
    },
    "hidden": true
   },
   "outputs": [],
   "source": [
    "dev_1 = Developer('Corey', 'Schafer', 50000, 'Python')\n",
    "dev_2 = Developer('Test', 'User', 60000, 'Java')"
   ]
  },
  {
   "cell_type": "code",
   "execution_count": 144,
   "metadata": {
    "ExecuteTime": {
     "end_time": "2020-12-22T15:18:59.447896Z",
     "start_time": "2020-12-22T15:18:59.442443Z"
    },
    "hidden": true
   },
   "outputs": [],
   "source": [
    "# print(help(Developer))"
   ]
  },
  {
   "cell_type": "code",
   "execution_count": 150,
   "metadata": {
    "ExecuteTime": {
     "end_time": "2020-12-22T15:22:15.524180Z",
     "start_time": "2020-12-22T15:22:15.518988Z"
    },
    "hidden": true
   },
   "outputs": [
    {
     "name": "stdout",
     "output_type": "stream",
     "text": [
      "Corey.Schafer@company.com\n",
      "Python\n"
     ]
    }
   ],
   "source": [
    "# print(dev_1.email)\n",
    "# print(dev_1.prog_lang)"
   ]
  },
  {
   "cell_type": "code",
   "execution_count": 146,
   "metadata": {
    "ExecuteTime": {
     "end_time": "2020-12-22T15:19:00.237823Z",
     "start_time": "2020-12-22T15:19:00.224725Z"
    },
    "hidden": true
   },
   "outputs": [
    {
     "name": "stdout",
     "output_type": "stream",
     "text": [
      "50000\n",
      "55000\n"
     ]
    }
   ],
   "source": [
    "# print(dev_1.pay)\n",
    "# dev_1.apply_raise()\n",
    "# print(dev_1.pay)"
   ]
  },
  {
   "cell_type": "code",
   "execution_count": 152,
   "metadata": {
    "ExecuteTime": {
     "end_time": "2020-12-22T15:27:59.215006Z",
     "start_time": "2020-12-22T15:27:59.205037Z"
    },
    "hidden": true
   },
   "outputs": [],
   "source": [
    "mgr_1 = Manager('Sue', 'Smith', 90000, [dev_1])"
   ]
  },
  {
   "cell_type": "code",
   "execution_count": 153,
   "metadata": {
    "ExecuteTime": {
     "end_time": "2020-12-22T15:27:59.579704Z",
     "start_time": "2020-12-22T15:27:59.570948Z"
    },
    "hidden": true,
    "scrolled": true
   },
   "outputs": [
    {
     "name": "stdout",
     "output_type": "stream",
     "text": [
      "Sue.Smith@company.com\n"
     ]
    }
   ],
   "source": [
    "print(mgr_1.email)"
   ]
  },
  {
   "cell_type": "code",
   "execution_count": 155,
   "metadata": {
    "ExecuteTime": {
     "end_time": "2020-12-22T15:28:30.653628Z",
     "start_time": "2020-12-22T15:28:30.649998Z"
    },
    "hidden": true
   },
   "outputs": [],
   "source": [
    "mgr_1.add_emp(dev_2)"
   ]
  },
  {
   "cell_type": "code",
   "execution_count": 157,
   "metadata": {
    "ExecuteTime": {
     "end_time": "2020-12-22T15:28:50.125666Z",
     "start_time": "2020-12-22T15:28:50.120482Z"
    },
    "hidden": true
   },
   "outputs": [],
   "source": [
    "mgr_1.remove_emp(dev_1)"
   ]
  },
  {
   "cell_type": "code",
   "execution_count": 158,
   "metadata": {
    "ExecuteTime": {
     "end_time": "2020-12-22T15:28:50.513763Z",
     "start_time": "2020-12-22T15:28:50.502147Z"
    },
    "hidden": true
   },
   "outputs": [
    {
     "name": "stdout",
     "output_type": "stream",
     "text": [
      "--> Test User\n"
     ]
    }
   ],
   "source": [
    "mgr_1.print_emps()"
   ]
  },
  {
   "cell_type": "code",
   "execution_count": 173,
   "metadata": {
    "ExecuteTime": {
     "end_time": "2020-12-22T15:31:52.898282Z",
     "start_time": "2020-12-22T15:31:52.892060Z"
    },
    "hidden": true
   },
   "outputs": [
    {
     "name": "stdout",
     "output_type": "stream",
     "text": [
      "False\n",
      "True\n"
     ]
    }
   ],
   "source": [
    "print(issubclass(Manager, Developer))\n",
    "print(isinstance(mgr_1, Manager))"
   ]
  },
  {
   "cell_type": "code",
   "execution_count": null,
   "metadata": {
    "hidden": true
   },
   "outputs": [],
   "source": []
  },
  {
   "cell_type": "markdown",
   "metadata": {
    "heading_collapsed": true
   },
   "source": [
    "## Python OOP Tutorial 5: Special (Magic/Dunder) Methods\n",
    "\n",
    "\n",
    "https://www.youtube.com/watch?v=3ohzBxoFHAY"
   ]
  },
  {
   "cell_type": "code",
   "execution_count": 195,
   "metadata": {
    "ExecuteTime": {
     "end_time": "2020-12-22T15:44:46.316473Z",
     "start_time": "2020-12-22T15:44:46.309726Z"
    },
    "hidden": true
   },
   "outputs": [],
   "source": [
    "# print( 1 + 2)\n",
    "# print('a' + 'b')"
   ]
  },
  {
   "cell_type": "code",
   "execution_count": 192,
   "metadata": {
    "ExecuteTime": {
     "end_time": "2020-12-22T15:44:33.397642Z",
     "start_time": "2020-12-22T15:44:33.388776Z"
    },
    "hidden": true
   },
   "outputs": [
    {
     "name": "stdout",
     "output_type": "stream",
     "text": [
      "Corey Schafer - Corey.Schafer@company.com\n"
     ]
    }
   ],
   "source": [
    "# print(emp_1)"
   ]
  },
  {
   "cell_type": "code",
   "execution_count": 196,
   "metadata": {
    "ExecuteTime": {
     "end_time": "2020-12-22T15:45:10.205656Z",
     "start_time": "2020-12-22T15:45:10.201042Z"
    },
    "hidden": true
   },
   "outputs": [
    {
     "name": "stdout",
     "output_type": "stream",
     "text": [
      "Employee('Corey', 'Schafer', 50000)\n",
      "Corey Schafer - Corey.Schafer@company.com\n"
     ]
    }
   ],
   "source": [
    "print(repr(emp_1))\n",
    "print(str(emp_1))"
   ]
  },
  {
   "cell_type": "code",
   "execution_count": 197,
   "metadata": {
    "ExecuteTime": {
     "end_time": "2020-12-22T15:45:33.751796Z",
     "start_time": "2020-12-22T15:45:33.748231Z"
    },
    "hidden": true
   },
   "outputs": [
    {
     "name": "stdout",
     "output_type": "stream",
     "text": [
      "Employee('Corey', 'Schafer', 50000)\n",
      "Corey Schafer - Corey.Schafer@company.com\n"
     ]
    }
   ],
   "source": [
    "print(emp_1.__repr__())\n",
    "print(emp_1.__str__())"
   ]
  },
  {
   "cell_type": "code",
   "execution_count": 202,
   "metadata": {
    "ExecuteTime": {
     "end_time": "2020-12-22T15:47:14.744897Z",
     "start_time": "2020-12-22T15:47:14.741990Z"
    },
    "hidden": true
   },
   "outputs": [],
   "source": [
    "# print(1 + 2)\n",
    "# print(int.__add__(1,2))"
   ]
  },
  {
   "cell_type": "code",
   "execution_count": 203,
   "metadata": {
    "ExecuteTime": {
     "end_time": "2020-12-22T15:47:15.041271Z",
     "start_time": "2020-12-22T15:47:15.038937Z"
    },
    "hidden": true
   },
   "outputs": [],
   "source": [
    "# print('a' + 'b')\n",
    "# print(str.__add__('a','b'))"
   ]
  },
  {
   "cell_type": "code",
   "execution_count": 209,
   "metadata": {
    "ExecuteTime": {
     "end_time": "2020-12-22T15:49:18.469127Z",
     "start_time": "2020-12-22T15:49:18.465208Z"
    },
    "hidden": true
   },
   "outputs": [],
   "source": [
    "# print(emp_1 + emp_2)"
   ]
  },
  {
   "cell_type": "code",
   "execution_count": 213,
   "metadata": {
    "ExecuteTime": {
     "end_time": "2020-12-22T15:50:29.922835Z",
     "start_time": "2020-12-22T15:50:29.919037Z"
    },
    "hidden": true
   },
   "outputs": [
    {
     "name": "stdout",
     "output_type": "stream",
     "text": [
      "13\n"
     ]
    }
   ],
   "source": [
    "# print(len('test'))\n",
    "# print('test'.__len__())\n",
    "# print(len(emp_1))"
   ]
  },
  {
   "cell_type": "markdown",
   "metadata": {},
   "source": [
    "## Python OOP Tutorial 6: Property Decorators - Getters, Setters, and Deleters\n",
    "\n",
    "\n",
    "https://www.youtube.com/watch?v=jCzT9XFZ5bw"
   ]
  },
  {
   "cell_type": "code",
   "execution_count": 249,
   "metadata": {
    "ExecuteTime": {
     "end_time": "2020-12-22T18:17:17.364444Z",
     "start_time": "2020-12-22T18:17:17.354790Z"
    }
   },
   "outputs": [],
   "source": [
    "class Employee:\n",
    "    def __init__(self, first, last):\n",
    "        self.first = first\n",
    "        self.last = last\n",
    "#         self.email = first + \".\" + last + '@email.com'\n",
    "    \n",
    "    @property\n",
    "    def fullname(self):\n",
    "        return '{} {}'.format(self.first, self.last)\n",
    "    \n",
    "    @property\n",
    "    def email(self):\n",
    "        return '{}.{}@email.com'.format(self.first, self.last)\n",
    "    \n",
    "    @fullname.setter\n",
    "    def fullname(self, name):\n",
    "        first, last = name.split(' ')\n",
    "        self.first = first\n",
    "        self.last = last\n",
    "        \n",
    "    @fullname.deleter\n",
    "    def fullname(self):\n",
    "        print('Delete Name!')\n",
    "        self.first = None\n",
    "        self.last = None"
   ]
  },
  {
   "cell_type": "code",
   "execution_count": 250,
   "metadata": {
    "ExecuteTime": {
     "end_time": "2020-12-22T18:17:18.827654Z",
     "start_time": "2020-12-22T18:17:18.823655Z"
    }
   },
   "outputs": [],
   "source": [
    "emp_1 = Employee('John', 'Smith')"
   ]
  },
  {
   "cell_type": "code",
   "execution_count": 251,
   "metadata": {
    "ExecuteTime": {
     "end_time": "2020-12-22T18:17:19.458082Z",
     "start_time": "2020-12-22T18:17:19.453500Z"
    }
   },
   "outputs": [],
   "source": [
    "emp_1.first = 'Jim'"
   ]
  },
  {
   "cell_type": "code",
   "execution_count": 252,
   "metadata": {
    "ExecuteTime": {
     "end_time": "2020-12-22T18:17:19.790233Z",
     "start_time": "2020-12-22T18:17:19.784013Z"
    }
   },
   "outputs": [
    {
     "name": "stdout",
     "output_type": "stream",
     "text": [
      "Jim\n",
      "Jim.Smith@email.com\n",
      "Jim Smith\n"
     ]
    }
   ],
   "source": [
    "print(emp_1.first)\n",
    "print(emp_1.email)\n",
    "print(emp_1.fullname)"
   ]
  },
  {
   "cell_type": "code",
   "execution_count": 253,
   "metadata": {
    "ExecuteTime": {
     "end_time": "2020-12-22T18:17:21.348294Z",
     "start_time": "2020-12-22T18:17:21.343609Z"
    }
   },
   "outputs": [],
   "source": [
    "emp_1.fullname = 'Corey Schafer'"
   ]
  },
  {
   "cell_type": "code",
   "execution_count": 254,
   "metadata": {
    "ExecuteTime": {
     "end_time": "2020-12-22T18:17:33.160083Z",
     "start_time": "2020-12-22T18:17:33.153582Z"
    }
   },
   "outputs": [
    {
     "name": "stdout",
     "output_type": "stream",
     "text": [
      "Delete Name!\n"
     ]
    }
   ],
   "source": [
    "del emp_1.fullname"
   ]
  },
  {
   "cell_type": "code",
   "execution_count": null,
   "metadata": {},
   "outputs": [],
   "source": []
  }
 ],
 "metadata": {
  "kernelspec": {
   "display_name": "Python 3",
   "language": "python",
   "name": "python3"
  },
  "language_info": {
   "codemirror_mode": {
    "name": "ipython",
    "version": 3
   },
   "file_extension": ".py",
   "mimetype": "text/x-python",
   "name": "python",
   "nbconvert_exporter": "python",
   "pygments_lexer": "ipython3",
   "version": "3.6.10"
  }
 },
 "nbformat": 4,
 "nbformat_minor": 4
}
