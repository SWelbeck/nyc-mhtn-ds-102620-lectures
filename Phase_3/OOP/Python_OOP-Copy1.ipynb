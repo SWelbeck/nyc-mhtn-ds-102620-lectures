{
 "cells": [
  {
   "cell_type": "markdown",
   "metadata": {},
   "source": [
    "# Python OOP \n",
    "\n",
    "_Dec 21, 2020_\n",
    "\n",
    "Agenda:\n",
    "- Overview of object oriented programming\n",
    "- Object initialization & attributes\n",
    "- Creating methods for objects in a class\n",
    "- Inheritance and subclasses\n",
    "- special methods: dunder/magic method"
   ]
  },
  {
   "cell_type": "markdown",
   "metadata": {},
   "source": [
    "<img src='https://media.giphy.com/media/UrQHrWVIuEWK44VgWz/giphy.gif' width = 300>"
   ]
  },
  {
   "cell_type": "markdown",
   "metadata": {},
   "source": [
    "but we are not going to cover...\n",
    "- classmethods and staticmethods\n",
    "- property decorator\n",
    "- getter and setter"
   ]
  },
  {
   "cell_type": "markdown",
   "metadata": {},
   "source": [
    "## Why do we need object oriented programming \n",
    "Say we wrote a program that allow us to create some beautiful graphics and customize captions, but it is very long. It makes sense to just create a script that perform only that function and import the module. Like we have been doing already:\n",
    "- `import pandas as pd`\n",
    "- `import numpy as np`\n",
    "\n",
    "Object-oriented programming based on the main features that are: \n",
    "- __Abstraction__: It helps in letting the useful information or relevant data to a user, which increases the efficiency of the program and make the things simple. \n",
    "- __Inheritance__. It helps in inheriting the methods, functions, properties, and fields of a base class in derived class. \n",
    "- __Polymorphism__: It helps in doing one task in many ways with help of overloading and overriding which is also known as compile time and run time polymorphism respectively. \n",
    "- __Encapsulation__: It helps in hiding the irrelevant data from a user and prevents the user from unauthorized access."
   ]
  },
  {
   "cell_type": "code",
   "execution_count": 1,
   "metadata": {
    "ExecuteTime": {
     "end_time": "2020-12-22T20:06:25.273752Z",
     "start_time": "2020-12-22T20:06:25.230453Z"
    }
   },
   "outputs": [],
   "source": [
    "# create a questionaire class\n",
    "#class itself is a blueprint, that has instances under that class. You can also define methods under that class\n",
    "class Questionnaire():\n",
    "    pass"
   ]
  },
  {
   "cell_type": "code",
   "execution_count": 2,
   "metadata": {
    "ExecuteTime": {
     "end_time": "2020-12-22T20:06:25.315712Z",
     "start_time": "2020-12-22T20:06:25.300606Z"
    }
   },
   "outputs": [],
   "source": [
    "# we can then create instances in that class\n",
    "\n",
    "kevin = Questionnaire()\n",
    "andrew = Questionnaire()"
   ]
  },
  {
   "cell_type": "code",
   "execution_count": 3,
   "metadata": {
    "ExecuteTime": {
     "end_time": "2020-12-22T20:06:25.697630Z",
     "start_time": "2020-12-22T20:06:25.682595Z"
    }
   },
   "outputs": [],
   "source": [
    "# create attributes for these instances\n",
    "\n",
    "kevin.lastname = 'chen'\n",
    "kevin.gender = 'male'\n",
    "andrew.lastname = 'smith'\n",
    "andrew.gender = 'nonbinary'"
   ]
  },
  {
   "cell_type": "code",
   "execution_count": 4,
   "metadata": {
    "ExecuteTime": {
     "end_time": "2020-12-22T20:06:26.680775Z",
     "start_time": "2020-12-22T20:06:26.675546Z"
    }
   },
   "outputs": [
    {
     "name": "stdout",
     "output_type": "stream",
     "text": [
      "male\n"
     ]
    }
   ],
   "source": [
    "# access the attributes\n",
    "print(kevin.gender)"
   ]
  },
  {
   "cell_type": "code",
   "execution_count": 5,
   "metadata": {
    "ExecuteTime": {
     "end_time": "2020-12-22T20:06:27.570795Z",
     "start_time": "2020-12-22T20:06:27.509649Z"
    },
    "scrolled": true
   },
   "outputs": [
    {
     "name": "stdout",
     "output_type": "stream",
     "text": [
      "<__main__.Questionnaire object at 0x7ffe46707278>\n"
     ]
    }
   ],
   "source": [
    "# access the instance\n",
    "print(kevin)"
   ]
  },
  {
   "cell_type": "code",
   "execution_count": 6,
   "metadata": {
    "ExecuteTime": {
     "end_time": "2020-12-22T20:06:28.128344Z",
     "start_time": "2020-12-22T20:06:28.124522Z"
    }
   },
   "outputs": [
    {
     "name": "stdout",
     "output_type": "stream",
     "text": [
      "<method-wrapper '__repr__' of str object at 0x7ffe4497e6f8>\n"
     ]
    }
   ],
   "source": [
    "a = 'a'\n",
    "print(a.__repr__)"
   ]
  },
  {
   "cell_type": "code",
   "execution_count": 7,
   "metadata": {
    "ExecuteTime": {
     "end_time": "2020-12-22T20:06:31.297707Z",
     "start_time": "2020-12-22T20:06:31.290250Z"
    }
   },
   "outputs": [],
   "source": [
    "# it might be counterintuitive to manually add these attributes under these instances. so lets create a function in \n",
    "# the class that allow us to automatically do this\n",
    "class Questionnaire:\n",
    "    def __init__(self,lastname,gender,age):\n",
    "        self.lastname = lastname\n",
    "        self.gender = gender\n",
    "        self.age = age\n",
    "        \n",
    "# by default, the init method(constructor) receives the instance itself as the first argument"
   ]
  },
  {
   "cell_type": "code",
   "execution_count": 8,
   "metadata": {
    "ExecuteTime": {
     "end_time": "2020-12-22T20:06:31.885572Z",
     "start_time": "2020-12-22T20:06:31.878647Z"
    }
   },
   "outputs": [],
   "source": [
    "# you can then pass values to this init method - but you have to pass them in order with the\n",
    "# correct corresponding arguments\n",
    "pam = Questionnaire('Beasley','female',30)\n",
    "jim = Questionnaire('Halpert','male',31)"
   ]
  },
  {
   "cell_type": "code",
   "execution_count": 9,
   "metadata": {
    "ExecuteTime": {
     "end_time": "2020-12-22T20:06:32.422374Z",
     "start_time": "2020-12-22T20:06:32.416941Z"
    },
    "scrolled": true
   },
   "outputs": [
    {
     "name": "stdout",
     "output_type": "stream",
     "text": [
      "30\n"
     ]
    }
   ],
   "source": [
    " print(pam.age)"
   ]
  },
  {
   "cell_type": "code",
   "execution_count": 10,
   "metadata": {
    "ExecuteTime": {
     "end_time": "2020-12-22T20:06:32.884939Z",
     "start_time": "2020-12-22T20:06:32.876457Z"
    }
   },
   "outputs": [],
   "source": [
    "dwight = Questionnaire('Shrute', 'male', 30)"
   ]
  },
  {
   "cell_type": "markdown",
   "metadata": {},
   "source": [
    "### Class Methods"
   ]
  },
  {
   "cell_type": "markdown",
   "metadata": {},
   "source": [
    "The email and last name are attributes of the Questionnaire class. But what if we want to perform some kind of action? To do that, we can add some methods to this class. For example, if we want to generate a random id for this person in this class."
   ]
  },
  {
   "cell_type": "code",
   "execution_count": 11,
   "metadata": {
    "ExecuteTime": {
     "end_time": "2020-12-22T20:06:35.388566Z",
     "start_time": "2020-12-22T20:06:34.816790Z"
    }
   },
   "outputs": [
    {
     "name": "stdout",
     "output_type": "stream",
     "text": [
      "Beasley's id number is 13\n"
     ]
    }
   ],
   "source": [
    "import numpy as np\n",
    "print(\"{}'s id number is {}\".format(pam.lastname, str(np.random.randint(9,19))))\n",
    "# how do you rewrite this print statement into a method under the class questionnaire such that each person can "
   ]
  },
  {
   "cell_type": "code",
   "execution_count": 12,
   "metadata": {
    "ExecuteTime": {
     "end_time": "2020-12-22T20:06:38.242733Z",
     "start_time": "2020-12-22T20:06:38.218336Z"
    }
   },
   "outputs": [],
   "source": [
    "class Questionnaire:\n",
    "    def __init__(self,last,gender,age):\n",
    "        self.last = last\n",
    "        self.gender = gender\n",
    "        self.age = age\n",
    "    def get_id(self):\n",
    "        print(\"{}'s id number is {}\".format(self.last, str(np.random.randint(9,19))))"
   ]
  },
  {
   "cell_type": "code",
   "execution_count": 13,
   "metadata": {
    "ExecuteTime": {
     "end_time": "2020-12-22T20:06:38.768626Z",
     "start_time": "2020-12-22T20:06:38.764348Z"
    }
   },
   "outputs": [
    {
     "name": "stdout",
     "output_type": "stream",
     "text": [
      "Scott's id number is 11\n"
     ]
    }
   ],
   "source": [
    "# applying this method to a new instance of this class\n",
    "michael = Questionnaire('Scott', 'male', 45)\n",
    "michael.get_id()"
   ]
  },
  {
   "cell_type": "markdown",
   "metadata": {},
   "source": [
    "Let's create a better built out class called Questionnaire!\n",
    "This class will help us:\n",
    "- contruct objects with associated attributes\n",
    "- automatically print out instructions for each individually\n",
    "- automatically create title for each individual according to their gender\n",
    "- create polite greeting for each individual according to their last name and gender\n",
    "- define __class variable__ that is shared between all instances of the class"
   ]
  },
  {
   "cell_type": "code",
   "execution_count": 34,
   "metadata": {
    "ExecuteTime": {
     "end_time": "2020-12-22T20:35:39.908275Z",
     "start_time": "2020-12-22T20:35:39.858655Z"
    }
   },
   "outputs": [],
   "source": [
    "class Questionnaire:\n",
    "    \n",
    "    #defining a class variable\n",
    "    time_to_fin = 45\n",
    "    \n",
    "    def __init__(self,first,last,gender, age):\n",
    "        self.first = first\n",
    "        self.last = last\n",
    "        self.gender = gender\n",
    "        self.age = age\n",
    "    \n",
    "    # get the time for individual to finish survey\n",
    "    def get_time(self):\n",
    "        print(\"Hi {}, you have {} to finish the survey\".format(self.first, self.time_to_fin))\n",
    "    \n",
    "    \n",
    "    # get respectful title for each individual\n",
    "    def get_title(self):       \n",
    "        if self.gender == 'male':\n",
    "            return 'Mr.'\n",
    "        elif self.gender =='Female':\n",
    "            return 'Ms.'\n",
    "        else:\n",
    "            return'Mx.'\n",
    "    \n",
    "    ### EXERCISE ###\n",
    "    # create a class method called greetings(), where you print out a nice message for your\n",
    "    # participant, according to each of their title and last name\n",
    "    \n",
    "    # example:\n",
    "    # greetings(smith,male)\n",
    "    # >>> 'Hello Mr. Smith, thank you so much for participating in this survey!'\n",
    "    \n",
    "    def greetings(self):\n",
    "        print(\"Hi {} {}, thank you so much for participating in this survey!\".format(self.get_title(), self.last))"
   ]
  },
  {
   "cell_type": "code",
   "execution_count": 35,
   "metadata": {
    "ExecuteTime": {
     "end_time": "2020-12-22T20:35:40.523063Z",
     "start_time": "2020-12-22T20:35:40.502328Z"
    }
   },
   "outputs": [
    {
     "name": "stdout",
     "output_type": "stream",
     "text": [
      "{'first': 'Justin', 'last': 'Tennebaum', 'gender': 'male', 'age': 100}\n"
     ]
    }
   ],
   "source": [
    "Justin = Questionnaire('Justin','Tennebaum','male', 100)\n",
    "print(Justin.__dict__)"
   ]
  },
  {
   "cell_type": "code",
   "execution_count": 36,
   "metadata": {
    "ExecuteTime": {
     "end_time": "2020-12-22T20:35:41.086073Z",
     "start_time": "2020-12-22T20:35:41.080436Z"
    }
   },
   "outputs": [
    {
     "name": "stdout",
     "output_type": "stream",
     "text": [
      "Hi Justin, you have 45 to finish the survey\n"
     ]
    }
   ],
   "source": [
    "Justin.get_time()"
   ]
  },
  {
   "cell_type": "code",
   "execution_count": 37,
   "metadata": {
    "ExecuteTime": {
     "end_time": "2020-12-22T20:35:41.809724Z",
     "start_time": "2020-12-22T20:35:41.792198Z"
    }
   },
   "outputs": [
    {
     "data": {
      "text/plain": [
       "'Mr.'"
      ]
     },
     "execution_count": 37,
     "metadata": {},
     "output_type": "execute_result"
    }
   ],
   "source": [
    "#let's get the title for Justin (2 ways)\n",
    "\n",
    "Justin.get_title()"
   ]
  },
  {
   "cell_type": "code",
   "execution_count": 38,
   "metadata": {
    "ExecuteTime": {
     "end_time": "2020-12-22T20:35:42.733842Z",
     "start_time": "2020-12-22T20:35:42.717113Z"
    }
   },
   "outputs": [
    {
     "name": "stdout",
     "output_type": "stream",
     "text": [
      "Hi Mr. Tennebaum, thank you so much for participating in this survey!\n"
     ]
    }
   ],
   "source": [
    "Justin.greetings()"
   ]
  },
  {
   "cell_type": "markdown",
   "metadata": {},
   "source": [
    "All classes create objects, and all objects contain characteristics called attributes (referred to as properties in the opening paragraph). Use the __init__() method to initialize (e.g., specify) an object’s initial attributes by giving them their default value (or state). This method must have at least one argument as well as the self variable, which refers to the object itself (e.g., Questionnaire)."
   ]
  },
  {
   "cell_type": "markdown",
   "metadata": {},
   "source": [
    "### Special method: dunder/magic\n",
    "The documentation of our own class objects can be very ambiguous. However, with the help of special/magic/dunder methods, we can customize documentation of our class by using two of the dunder methods:\n",
    "- `__repr__`\n",
    "- `__str__`"
   ]
  },
  {
   "cell_type": "code",
   "execution_count": 19,
   "metadata": {
    "ExecuteTime": {
     "end_time": "2020-12-22T20:06:58.307086Z",
     "start_time": "2020-12-22T20:06:58.276873Z"
    },
    "scrolled": false
   },
   "outputs": [
    {
     "name": "stdout",
     "output_type": "stream",
     "text": [
      "3\n",
      "ab\n"
     ]
    }
   ],
   "source": [
    "# some objects behave differently according to the nature of their data types\n",
    "a = 'a'\n",
    "b = 'b'\n",
    "print(1+2)\n",
    "print('a' + 'b')"
   ]
  },
  {
   "cell_type": "code",
   "execution_count": 22,
   "metadata": {
    "ExecuteTime": {
     "end_time": "2020-12-22T20:07:24.333563Z",
     "start_time": "2020-12-22T20:07:24.318490Z"
    }
   },
   "outputs": [],
   "source": [
    "class Questionnaire():\n",
    "    def __init__(self, first, last, email):\n",
    "        self.first = first\n",
    "        self.last = last\n",
    "        self.email = email\n",
    "        \n",
    "    def fullname(self):\n",
    "        return '{} {}'.format(self.first, self.last)\n",
    "        \n",
    "    def __repr__(self):\n",
    "        return \"this is {} {}'s information\".format(self.first, self.last)"
   ]
  },
  {
   "cell_type": "code",
   "execution_count": 23,
   "metadata": {
    "ExecuteTime": {
     "end_time": "2020-12-22T20:07:25.145629Z",
     "start_time": "2020-12-22T20:07:25.111253Z"
    },
    "scrolled": true
   },
   "outputs": [
    {
     "data": {
      "text/plain": [
       "this is Kevin Chen's information"
      ]
     },
     "execution_count": 23,
     "metadata": {},
     "output_type": "execute_result"
    }
   ],
   "source": [
    "kevin = Questionnaire('Kevin','Chen','kchen@gmail.com')\n",
    "kevin"
   ]
  },
  {
   "cell_type": "code",
   "execution_count": 24,
   "metadata": {
    "ExecuteTime": {
     "end_time": "2020-12-22T20:07:25.861438Z",
     "start_time": "2020-12-22T20:07:25.848637Z"
    }
   },
   "outputs": [
    {
     "name": "stdout",
     "output_type": "stream",
     "text": [
      "this is Kevin Chen's information\n"
     ]
    }
   ],
   "source": [
    "print(kevin)"
   ]
  },
  {
   "cell_type": "code",
   "execution_count": 25,
   "metadata": {
    "ExecuteTime": {
     "end_time": "2020-12-22T20:07:26.580476Z",
     "start_time": "2020-12-22T20:07:26.562937Z"
    }
   },
   "outputs": [],
   "source": [
    "class Questionnaire():\n",
    "    def __init__(self, first, last, email):\n",
    "        self.first = first\n",
    "        self.last = last\n",
    "        self.email = email\n",
    "        \n",
    "    def fullname(self):\n",
    "        return '{} {}'.format(self.first, self.last)\n",
    "    \n",
    "    def __repr__(self):\n",
    "        return \"this is {} {}'s information\".format(self.first, self.last)\n",
    "    \n",
    "    def __len__(self):\n",
    "        return len(self.fullname())"
   ]
  },
  {
   "cell_type": "code",
   "execution_count": 26,
   "metadata": {
    "ExecuteTime": {
     "end_time": "2020-12-22T20:07:27.169648Z",
     "start_time": "2020-12-22T20:07:27.164399Z"
    }
   },
   "outputs": [
    {
     "name": "stdout",
     "output_type": "stream",
     "text": [
      "Kevin Chen\n"
     ]
    }
   ],
   "source": [
    "# create kevin as an object of the class\n",
    "kevin = Questionnaire('Kevin','Chen','kchen@gmail.com')\n",
    "print(kevin.fullname())"
   ]
  },
  {
   "cell_type": "code",
   "execution_count": 27,
   "metadata": {
    "ExecuteTime": {
     "end_time": "2020-12-22T20:07:28.038677Z",
     "start_time": "2020-12-22T20:07:27.983343Z"
    },
    "scrolled": true
   },
   "outputs": [
    {
     "data": {
      "text/plain": [
       "10"
      ]
     },
     "execution_count": 27,
     "metadata": {},
     "output_type": "execute_result"
    }
   ],
   "source": [
    "# now we can get the length of kevin's full name\n",
    "len(kevin)"
   ]
  },
  {
   "cell_type": "markdown",
   "metadata": {},
   "source": [
    "### Advanced topics in OOP:\n",
    "- Class methods and static methods\n",
    "- Property decorators\n",
    "- Getters and Setters"
   ]
  }
 ],
 "metadata": {
  "kernelspec": {
   "display_name": "Python 3",
   "language": "python",
   "name": "python3"
  },
  "language_info": {
   "codemirror_mode": {
    "name": "ipython",
    "version": 3
   },
   "file_extension": ".py",
   "mimetype": "text/x-python",
   "name": "python",
   "nbconvert_exporter": "python",
   "pygments_lexer": "ipython3",
   "version": "3.6.10"
  }
 },
 "nbformat": 4,
 "nbformat_minor": 2
}
